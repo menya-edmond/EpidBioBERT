{
  "nbformat": 4,
  "nbformat_minor": 0,
  "metadata": {
    "colab": {
      "name": "Doc_SpacioTemp_BERT",
      "provenance": [],
      "collapsed_sections": []
    },
    "kernelspec": {
      "name": "python3",
      "display_name": "Python 3"
    },
    "accelerator": "GPU"
  },
  "cells": [
    {
      "cell_type": "code",
      "metadata": {
        "id": "ginGoPXXoVuP"
      },
      "source": [
        "!pip install Transformers"
      ],
      "execution_count": null,
      "outputs": []
    },
    {
      "cell_type": "code",
      "source": [
        "from sklearn.feature_extraction.text import TfidfVectorizer\n",
        "from sklearn.decomposition import PCA\n",
        "from sklearn.naive_bayes import MultinomialNB\n",
        "from sklearn import svm\n",
        "from sklearn.pipeline import Pipeline\n",
        "from sklearn.metrics import accuracy_score,precision_recall_fscore_support,precision_score,recall_score,f1_score,confusion_matrix,classification_report\n",
        "from sklearn.model_selection import train_test_split,KFold,cross_val_score\n",
        "from sklearn.preprocessing import LabelEncoder\n",
        "import matplotlib.pyplot as plt"
      ],
      "metadata": {
        "id": "XFul95rrkE3Z"
      },
      "execution_count": null,
      "outputs": []
    },
    {
      "cell_type": "code",
      "source": [
        "import pandas as pd\n",
        "import numpy as np\n",
        "import seaborn as sns\n",
        "import matplotlib.pyplot as plt\n",
        "import keras.backend as K\n",
        "import tensorflow as tf\n",
        "import os\n",
        "import csv\n",
        "import nltk\n",
        "import spacy\n",
        "import json"
      ],
      "metadata": {
        "id": "PmeiYz1skCyj"
      },
      "execution_count": null,
      "outputs": []
    },
    {
      "cell_type": "code",
      "metadata": {
        "id": "-8tVi2-6mudy"
      },
      "source": [
        "import tensorflow as tf\n",
        "import tensorflow_datasets as tfds\n",
        "import numpy as np"
      ],
      "execution_count": null,
      "outputs": []
    },
    {
      "cell_type": "code",
      "metadata": {
        "id": "8OeZ49SJPDzb"
      },
      "source": [
        "from tensorflow.keras.layers import Input,GlobalMaxPool1D,BatchNormalization,Dense,Dropout\n",
        "from tensorflow.keras import Model"
      ],
      "execution_count": null,
      "outputs": []
    },
    {
      "cell_type": "code",
      "metadata": {
        "id": "VF94KLAnU3PJ"
      },
      "source": [
        "from tensorflow.keras.optimizers import Adam\n",
        "from tensorflow.keras.losses import CategoricalCrossentropy,BinaryCrossentropy\n",
        "from tensorflow.keras.metrics import CategoricalAccuracy"
      ],
      "execution_count": null,
      "outputs": []
    },
    {
      "cell_type": "code",
      "metadata": {
        "id": "5W58mWsoNUeG"
      },
      "source": [
        "from tensorflow.keras.callbacks import *\n",
        "from tensorflow.keras.models import load_model"
      ],
      "execution_count": null,
      "outputs": []
    },
    {
      "cell_type": "code",
      "metadata": {
        "colab": {
          "base_uri": "https://localhost:8080/"
        },
        "id": "fMkFbHgWGxat",
        "outputId": "ae23e8cf-2b0c-4b19-b743-3daf196ba920"
      },
      "source": [
        "tf.executing_eagerly()"
      ],
      "execution_count": null,
      "outputs": [
        {
          "output_type": "execute_result",
          "data": {
            "text/plain": [
              "True"
            ]
          },
          "metadata": {},
          "execution_count": 67
        }
      ]
    },
    {
      "cell_type": "code",
      "metadata": {
        "id": "B-z_dwzdoQSs"
      },
      "source": [
        "from transformers import AutoTokenizer, TFAutoModel"
      ],
      "execution_count": null,
      "outputs": []
    },
    {
      "cell_type": "code",
      "source": [
        "from google.colab import drive\n",
        "drive._mount('/content/gdrive')"
      ],
      "metadata": {
        "colab": {
          "base_uri": "https://localhost:8080/"
        },
        "id": "nqb9WdyKiP8P",
        "outputId": "1b1f45c4-f0ae-43d9-8b41-80ac7bcabba0"
      },
      "execution_count": null,
      "outputs": [
        {
          "output_type": "stream",
          "name": "stdout",
          "text": [
            "Drive already mounted at /content/gdrive; to attempt to forcibly remount, call drive.mount(\"/content/gdrive\", force_remount=True).\n"
          ]
        }
      ]
    },
    {
      "cell_type": "code",
      "execution_count": null,
      "metadata": {
        "id": "RozIo9Jo0zsj"
      },
      "outputs": [],
      "source": [
        "corpora = '/content/gdrive/MyDrive/Colab Data/articles'\n",
        "tagged_data=[]\n",
        "irrelevant_docs=0\n",
        "irrelevant_docs_address=[]\n",
        "df_corpus={'Content':[],'Label':[]}\n",
        "\n",
        "for subdir, dirs, files in os.walk(corpora):\n",
        "  for file in files:\n",
        "    #print(data_file)\n",
        "    path = os.path.join(subdir, file)\n",
        "    #print(path)\n",
        "    \"\"\"print(tagged_file_content(json.load(open(path))),'\\n\\n')\n",
        "    del path\"\"\"\n",
        "    \n",
        "    with open(path,'r') as f:\n",
        "      data=json.load(f)\n",
        "      if data['candidateLabels']: #not an empty list thus relevant document\n",
        "        #tagged_data.append(tagged_file_content(data))\n",
        "\n",
        "        if data['content']:\n",
        "          df_corpus['Content'].append(data['content'].replace('\\r', '').replace('\\t', '').replace('\\n','').replace('&#13;',''))\n",
        "          df_corpus['Label'].append('relevant')\n",
        "        #else:\n",
        "          #print(path,'\\n')\n",
        "\n",
        "      else:#irrelevant document\n",
        "        \"\"\"df_corpus['Content'].append(data['content'])\n",
        "        df_corpus['Label'].append('irrelevant')\"\"\"\n",
        "\n",
        "        if data['content']:\n",
        "          df_corpus['Content'].append(data['content'].replace('\\r', '').replace('\\t', '').replace('\\n','').replace('&#13;',''))\n",
        "          df_corpus['Label'].append('irrelevant')\n",
        "        #else:\n",
        "          #print(path,'\\n')#some irrelevant articles have no content\n",
        "        \n",
        "        #irrelevant_docs=irrelevant_docs+1\n",
        "        #irrelevant_docs_address.append(path)\n",
        "        #break\n",
        "\n",
        "#print(\"Irrelevant Docs are: \",irrelevant_docs)"
      ]
    },
    {
      "cell_type": "code",
      "source": [
        "data=pd.DataFrame(df_corpus)"
      ],
      "metadata": {
        "id": "pBnnbw_3iXYX"
      },
      "execution_count": null,
      "outputs": []
    },
    {
      "cell_type": "code",
      "source": [
        "label_encoder=LabelEncoder()\n",
        "label_encoder.fit(data['Label'])"
      ],
      "metadata": {
        "colab": {
          "base_uri": "https://localhost:8080/"
        },
        "id": "VvWSFubyiZck",
        "outputId": "9c019c41-047b-4ba7-909c-e01ea8c00079"
      },
      "execution_count": null,
      "outputs": [
        {
          "output_type": "execute_result",
          "data": {
            "text/plain": [
              "LabelEncoder()"
            ]
          },
          "metadata": {},
          "execution_count": 72
        }
      ]
    },
    {
      "cell_type": "code",
      "source": [
        "data['Label']=list(label_encoder.transform(data['Label']))"
      ],
      "metadata": {
        "id": "xDvWNmqDigJG"
      },
      "execution_count": null,
      "outputs": []
    },
    {
      "cell_type": "code",
      "source": [
        "int(np.round(len(data)*0.6))"
      ],
      "metadata": {
        "colab": {
          "base_uri": "https://localhost:8080/"
        },
        "id": "YSDoeHRIsbtr",
        "outputId": "7768974c-2064-4f35-d6d7-116d883d8501"
      },
      "execution_count": null,
      "outputs": [
        {
          "output_type": "execute_result",
          "data": {
            "text/plain": [
              "302"
            ]
          },
          "metadata": {},
          "execution_count": 74
        }
      ]
    },
    {
      "cell_type": "code",
      "source": [
        "df_train=data.iloc[0:int(np.round(len(data)*0.6))]\n",
        "df_test=data.iloc[int(np.round(len(data)*0.6)):]"
      ],
      "metadata": {
        "id": "5jKwUt7vr68P"
      },
      "execution_count": null,
      "outputs": []
    },
    {
      "cell_type": "code",
      "source": [
        "len(df_train)"
      ],
      "metadata": {
        "colab": {
          "base_uri": "https://localhost:8080/"
        },
        "id": "MleO5MqysviI",
        "outputId": "ea14de60-ad68-4e81-e41e-748c0a4d0411"
      },
      "execution_count": null,
      "outputs": [
        {
          "output_type": "execute_result",
          "data": {
            "text/plain": [
              "302"
            ]
          },
          "metadata": {},
          "execution_count": 76
        }
      ]
    },
    {
      "cell_type": "code",
      "source": [
        "len(df_test)"
      ],
      "metadata": {
        "colab": {
          "base_uri": "https://localhost:8080/"
        },
        "id": "rqM4CKkKsxFX",
        "outputId": "53f706bc-1792-4598-d0cf-ed85c99574a9"
      },
      "execution_count": null,
      "outputs": [
        {
          "output_type": "execute_result",
          "data": {
            "text/plain": [
              "201"
            ]
          },
          "metadata": {},
          "execution_count": 77
        }
      ]
    },
    {
      "cell_type": "code",
      "source": [
        "df_train.head()"
      ],
      "metadata": {
        "colab": {
          "base_uri": "https://localhost:8080/",
          "height": 206
        },
        "id": "IK8Sn1EGioH2",
        "outputId": "85ccc513-040b-4743-e8b0-e89622b7935f"
      },
      "execution_count": null,
      "outputs": [
        {
          "output_type": "execute_result",
          "data": {
            "text/html": [
              "\n",
              "  <div id=\"df-563e81da-769c-4c90-8f75-077d62ac25e8\">\n",
              "    <div class=\"colab-df-container\">\n",
              "      <div>\n",
              "<style scoped>\n",
              "    .dataframe tbody tr th:only-of-type {\n",
              "        vertical-align: middle;\n",
              "    }\n",
              "\n",
              "    .dataframe tbody tr th {\n",
              "        vertical-align: top;\n",
              "    }\n",
              "\n",
              "    .dataframe thead th {\n",
              "        text-align: right;\n",
              "    }\n",
              "</style>\n",
              "<table border=\"1\" class=\"dataframe\">\n",
              "  <thead>\n",
              "    <tr style=\"text-align: right;\">\n",
              "      <th></th>\n",
              "      <th>Content</th>\n",
              "      <th>Label</th>\n",
              "    </tr>\n",
              "  </thead>\n",
              "  <tbody>\n",
              "    <tr>\n",
              "      <th>0</th>\n",
              "      <td>Instead of creating unnecessary fear and paran...</td>\n",
              "      <td>0</td>\n",
              "    </tr>\n",
              "    <tr>\n",
              "      <th>1</th>\n",
              "      <td>The International Monetary Fund has given Bot...</td>\n",
              "      <td>0</td>\n",
              "    </tr>\n",
              "    <tr>\n",
              "      <th>2</th>\n",
              "      <td>10 October 2015 Last updated at: 5:05 AM  M...</td>\n",
              "      <td>0</td>\n",
              "    </tr>\n",
              "    <tr>\n",
              "      <th>3</th>\n",
              "      <td>YAMAGUCHI – An outbreak of highly pathogenic ...</td>\n",
              "      <td>1</td>\n",
              "    </tr>\n",
              "    <tr>\n",
              "      <th>4</th>\n",
              "      <td>SEOUL South Korea has confirmed a fresh case o...</td>\n",
              "      <td>1</td>\n",
              "    </tr>\n",
              "  </tbody>\n",
              "</table>\n",
              "</div>\n",
              "      <button class=\"colab-df-convert\" onclick=\"convertToInteractive('df-563e81da-769c-4c90-8f75-077d62ac25e8')\"\n",
              "              title=\"Convert this dataframe to an interactive table.\"\n",
              "              style=\"display:none;\">\n",
              "        \n",
              "  <svg xmlns=\"http://www.w3.org/2000/svg\" height=\"24px\"viewBox=\"0 0 24 24\"\n",
              "       width=\"24px\">\n",
              "    <path d=\"M0 0h24v24H0V0z\" fill=\"none\"/>\n",
              "    <path d=\"M18.56 5.44l.94 2.06.94-2.06 2.06-.94-2.06-.94-.94-2.06-.94 2.06-2.06.94zm-11 1L8.5 8.5l.94-2.06 2.06-.94-2.06-.94L8.5 2.5l-.94 2.06-2.06.94zm10 10l.94 2.06.94-2.06 2.06-.94-2.06-.94-.94-2.06-.94 2.06-2.06.94z\"/><path d=\"M17.41 7.96l-1.37-1.37c-.4-.4-.92-.59-1.43-.59-.52 0-1.04.2-1.43.59L10.3 9.45l-7.72 7.72c-.78.78-.78 2.05 0 2.83L4 21.41c.39.39.9.59 1.41.59.51 0 1.02-.2 1.41-.59l7.78-7.78 2.81-2.81c.8-.78.8-2.07 0-2.86zM5.41 20L4 18.59l7.72-7.72 1.47 1.35L5.41 20z\"/>\n",
              "  </svg>\n",
              "      </button>\n",
              "      \n",
              "  <style>\n",
              "    .colab-df-container {\n",
              "      display:flex;\n",
              "      flex-wrap:wrap;\n",
              "      gap: 12px;\n",
              "    }\n",
              "\n",
              "    .colab-df-convert {\n",
              "      background-color: #E8F0FE;\n",
              "      border: none;\n",
              "      border-radius: 50%;\n",
              "      cursor: pointer;\n",
              "      display: none;\n",
              "      fill: #1967D2;\n",
              "      height: 32px;\n",
              "      padding: 0 0 0 0;\n",
              "      width: 32px;\n",
              "    }\n",
              "\n",
              "    .colab-df-convert:hover {\n",
              "      background-color: #E2EBFA;\n",
              "      box-shadow: 0px 1px 2px rgba(60, 64, 67, 0.3), 0px 1px 3px 1px rgba(60, 64, 67, 0.15);\n",
              "      fill: #174EA6;\n",
              "    }\n",
              "\n",
              "    [theme=dark] .colab-df-convert {\n",
              "      background-color: #3B4455;\n",
              "      fill: #D2E3FC;\n",
              "    }\n",
              "\n",
              "    [theme=dark] .colab-df-convert:hover {\n",
              "      background-color: #434B5C;\n",
              "      box-shadow: 0px 1px 3px 1px rgba(0, 0, 0, 0.15);\n",
              "      filter: drop-shadow(0px 1px 2px rgba(0, 0, 0, 0.3));\n",
              "      fill: #FFFFFF;\n",
              "    }\n",
              "  </style>\n",
              "\n",
              "      <script>\n",
              "        const buttonEl =\n",
              "          document.querySelector('#df-563e81da-769c-4c90-8f75-077d62ac25e8 button.colab-df-convert');\n",
              "        buttonEl.style.display =\n",
              "          google.colab.kernel.accessAllowed ? 'block' : 'none';\n",
              "\n",
              "        async function convertToInteractive(key) {\n",
              "          const element = document.querySelector('#df-563e81da-769c-4c90-8f75-077d62ac25e8');\n",
              "          const dataTable =\n",
              "            await google.colab.kernel.invokeFunction('convertToInteractive',\n",
              "                                                     [key], {});\n",
              "          if (!dataTable) return;\n",
              "\n",
              "          const docLinkHtml = 'Like what you see? Visit the ' +\n",
              "            '<a target=\"_blank\" href=https://colab.research.google.com/notebooks/data_table.ipynb>data table notebook</a>'\n",
              "            + ' to learn more about interactive tables.';\n",
              "          element.innerHTML = '';\n",
              "          dataTable['output_type'] = 'display_data';\n",
              "          await google.colab.output.renderOutput(dataTable, element);\n",
              "          const docLink = document.createElement('div');\n",
              "          docLink.innerHTML = docLinkHtml;\n",
              "          element.appendChild(docLink);\n",
              "        }\n",
              "      </script>\n",
              "    </div>\n",
              "  </div>\n",
              "  "
            ],
            "text/plain": [
              "                                             Content  Label\n",
              "0  Instead of creating unnecessary fear and paran...      0\n",
              "1   The International Monetary Fund has given Bot...      0\n",
              "2     10 October 2015 Last updated at: 5:05 AM  M...      0\n",
              "3   YAMAGUCHI – An outbreak of highly pathogenic ...      1\n",
              "4  SEOUL South Korea has confirmed a fresh case o...      1"
            ]
          },
          "metadata": {},
          "execution_count": 78
        }
      ]
    },
    {
      "cell_type": "code",
      "metadata": {
        "id": "JviibPzdnt6W"
      },
      "source": [
        "tokenizer=AutoTokenizer.from_pretrained('distilbert-base-cased')"
      ],
      "execution_count": null,
      "outputs": []
    },
    {
      "cell_type": "code",
      "metadata": {
        "id": "F6YmjLDyourr",
        "colab": {
          "base_uri": "https://localhost:8080/"
        },
        "outputId": "641b0c3f-8fb8-44b3-cfe2-18bbe7bffa39"
      },
      "source": [
        "bert=TFAutoModel.from_pretrained('distilbert-base-cased')"
      ],
      "execution_count": null,
      "outputs": [
        {
          "output_type": "stream",
          "name": "stderr",
          "text": [
            "Some layers from the model checkpoint at distilbert-base-cased were not used when initializing TFDistilBertModel: ['activation_13', 'vocab_layer_norm', 'vocab_transform', 'vocab_projector']\n",
            "- This IS expected if you are initializing TFDistilBertModel from the checkpoint of a model trained on another task or with another architecture (e.g. initializing a BertForSequenceClassification model from a BertForPreTraining model).\n",
            "- This IS NOT expected if you are initializing TFDistilBertModel from the checkpoint of a model that you expect to be exactly identical (initializing a BertForSequenceClassification model from a BertForSequenceClassification model).\n",
            "All the layers of TFDistilBertModel were initialized from the model checkpoint at distilbert-base-cased.\n",
            "If your task is similar to the task the model of the checkpoint was trained on, you can already use TFDistilBertModel for predictions without further training.\n"
          ]
        }
      ]
    },
    {
      "cell_type": "code",
      "metadata": {
        "id": "lnHven7AuKCo"
      },
      "source": [
        "def tokenize(sentence):\n",
        "  tokens=tokenizer.encode_plus(sentence,max_length=SEQ_LEN,\n",
        "                               truncation=True,\n",
        "                               padding='max_length',add_special_tokens=True,\n",
        "                               return_attention_mask=True,return_token_type_ids=False,return_tensors='tf')\n",
        "  return tokens['input_ids'],tokens['attention_mask']"
      ],
      "execution_count": null,
      "outputs": []
    },
    {
      "cell_type": "code",
      "metadata": {
        "colab": {
          "base_uri": "https://localhost:8080/"
        },
        "id": "WCwdEAPo7KSI",
        "outputId": "589fe72d-fb6b-4673-d409-4e4c941613e1"
      },
      "source": [
        "np.unique(df_train['Label'].values)"
      ],
      "execution_count": null,
      "outputs": [
        {
          "output_type": "execute_result",
          "data": {
            "text/plain": [
              "array([0, 1])"
            ]
          },
          "metadata": {},
          "execution_count": 82
        }
      ]
    },
    {
      "cell_type": "code",
      "metadata": {
        "id": "eD2YjDXUNRg4"
      },
      "source": [
        "arr=df_train['Label'].values\n",
        "labels=np.zeros((arr.size,arr.max()+1))\n",
        "labels[np.arange(arr.size),arr]=1"
      ],
      "execution_count": null,
      "outputs": []
    },
    {
      "cell_type": "code",
      "source": [
        "SEQ_LEN=128\n",
        "BATCH_SIZE=16\n",
        "epochs=50"
      ],
      "metadata": {
        "id": "KyD8OqNYkxMq"
      },
      "execution_count": null,
      "outputs": []
    },
    {
      "cell_type": "code",
      "metadata": {
        "id": "P_HegBk7ym9b"
      },
      "source": [
        "Xids=np.zeros((len(df_train),SEQ_LEN))\n",
        "Xmask=np.zeros((len(df_train),SEQ_LEN))"
      ],
      "execution_count": null,
      "outputs": []
    },
    {
      "cell_type": "code",
      "metadata": {
        "id": "vkhKoXmUK4qF"
      },
      "source": [
        "#df_1=df_train.dropna()\n",
        "for i,sentence in enumerate(df_train['Content']):\n",
        "  Xids[i, :],Xmask[i, :]=tokenize(sentence)"
      ],
      "execution_count": null,
      "outputs": []
    },
    {
      "cell_type": "code",
      "metadata": {
        "id": "kL6LFDW-M6RU"
      },
      "source": [
        "dataset=tf.data.Dataset.from_tensor_slices((Xids,Xmask,labels))"
      ],
      "execution_count": null,
      "outputs": []
    },
    {
      "cell_type": "code",
      "metadata": {
        "id": "MdyrpmUZNGOw"
      },
      "source": [
        "def map_func(input_ids,masks,labels):\n",
        "  return {'input_ids':input_ids,'attention_mask':masks},labels"
      ],
      "execution_count": null,
      "outputs": []
    },
    {
      "cell_type": "code",
      "metadata": {
        "id": "jy3ZbkMbOBq1"
      },
      "source": [
        "dataset=dataset.map(map_func)"
      ],
      "execution_count": null,
      "outputs": []
    },
    {
      "cell_type": "code",
      "source": [
        "for x,y in enumerate(dataset):\n",
        "  print(y)\n",
        "  break"
      ],
      "metadata": {
        "colab": {
          "base_uri": "https://localhost:8080/"
        },
        "id": "TadYh8y2Y4hr",
        "outputId": "d2a58988-d578-4da6-fb01-3fd2dbc08ace"
      },
      "execution_count": null,
      "outputs": [
        {
          "output_type": "stream",
          "name": "stdout",
          "text": [
            "({'input_ids': <tf.Tensor: shape=(128,), dtype=float64, numpy=\n",
            "array([  101.,  3743.,  1104.,  3780., 14924.,  2945.,  1105., 18311.,\n",
            "        2728.,  1465.,  1166.,   187., 23156.,  1279.,   117.,  1103.,\n",
            "        3912.,  1431.,  4609.,  4778.,  1972.,  1113.,  1103.,  3653.,\n",
            "        1177., 11887.,  1116.,  1169.,  1618.,  3244.,  2310.,  1105.,\n",
            "        1147., 23463.,   119., 18732., 25290., 11680.,  1942.,  2064.,\n",
            "        1183.,  8430., 24641.,  7088.,  1103.,  2793.,  8679.,  1104.,\n",
            "         170.,   187., 23156.,  1279.,  8010.,  1107.,  5355.,   117.,\n",
            "        1175.,  5903.,  1242.,  1940., 11428.,  3633., 18225.,  1116.,\n",
            "        1164.,  1103.,  3653.,  1105.,  1293.,  3843.,  1895.,  1105.,\n",
            "        7299.,  1895.,  1122.,  1110.,   119.,  1398.,  4064.,  1143.,\n",
            "        1106.,  4267., 20080.,  1883.,  1199.,  1104.,  1292., 21557.,\n",
            "        1114., 15780.,  3509.,   119.,  1422.,  1582.,   122.,   131.,\n",
            "       15859.,  1150.,  3370., 21381.,  1118.,   170.,   187., 23156.,\n",
            "        1181.,  3676.,  2834.,  1129.,  4987.,  1105.,  1209.,  1770.,\n",
            "        2939.,   170., 18049.,  8920.,  1473.,  2240.,  1204.,  1110.,\n",
            "        2276.,  1115.,   187., 23156.,  1279.,  1209.,  1871.,   102.])>, 'attention_mask': <tf.Tensor: shape=(128,), dtype=float64, numpy=\n",
            "array([1., 1., 1., 1., 1., 1., 1., 1., 1., 1., 1., 1., 1., 1., 1., 1., 1.,\n",
            "       1., 1., 1., 1., 1., 1., 1., 1., 1., 1., 1., 1., 1., 1., 1., 1., 1.,\n",
            "       1., 1., 1., 1., 1., 1., 1., 1., 1., 1., 1., 1., 1., 1., 1., 1., 1.,\n",
            "       1., 1., 1., 1., 1., 1., 1., 1., 1., 1., 1., 1., 1., 1., 1., 1., 1.,\n",
            "       1., 1., 1., 1., 1., 1., 1., 1., 1., 1., 1., 1., 1., 1., 1., 1., 1.,\n",
            "       1., 1., 1., 1., 1., 1., 1., 1., 1., 1., 1., 1., 1., 1., 1., 1., 1.,\n",
            "       1., 1., 1., 1., 1., 1., 1., 1., 1., 1., 1., 1., 1., 1., 1., 1., 1.,\n",
            "       1., 1., 1., 1., 1., 1., 1., 1., 1.])>}, <tf.Tensor: shape=(2,), dtype=float64, numpy=array([1., 0.])>)\n"
          ]
        }
      ]
    },
    {
      "cell_type": "code",
      "metadata": {
        "id": "hXq2XVEyOJWk"
      },
      "source": [
        "#dataset=dataset.shuffle(10000).batch(512)"
      ],
      "execution_count": null,
      "outputs": []
    },
    {
      "cell_type": "code",
      "metadata": {
        "id": "3MJ21eg4OUWM"
      },
      "source": [
        "DS_LEN=len(list(dataset))"
      ],
      "execution_count": null,
      "outputs": []
    },
    {
      "cell_type": "code",
      "metadata": {
        "colab": {
          "base_uri": "https://localhost:8080/"
        },
        "id": "Jt8HZOX0OZlJ",
        "outputId": "4d6403d4-1dee-4d56-8158-a65371ab831d"
      },
      "source": [
        "DS_LEN"
      ],
      "execution_count": null,
      "outputs": [
        {
          "output_type": "execute_result",
          "data": {
            "text/plain": [
              "302"
            ]
          },
          "metadata": {},
          "execution_count": 93
        }
      ]
    },
    {
      "cell_type": "code",
      "metadata": {
        "id": "DenxHonIObzs"
      },
      "source": [
        "SPLIT=0.6\n",
        "train=dataset.take(round(DS_LEN*SPLIT))\n",
        "val=dataset.skip(round(DS_LEN*SPLIT))"
      ],
      "execution_count": null,
      "outputs": []
    },
    {
      "cell_type": "code",
      "metadata": {
        "colab": {
          "base_uri": "https://localhost:8080/"
        },
        "id": "fIdsDP6jO3Mz",
        "outputId": "ba83e8a3-5d8d-4bd9-db73-702b51803705"
      },
      "source": [
        "len(val)"
      ],
      "execution_count": null,
      "outputs": [
        {
          "output_type": "execute_result",
          "data": {
            "text/plain": [
              "121"
            ]
          },
          "metadata": {},
          "execution_count": 95
        }
      ]
    },
    {
      "cell_type": "code",
      "metadata": {
        "id": "WIs6idTsO5xh"
      },
      "source": [
        "input_ids=Input(shape=(SEQ_LEN,),name=\"input_ids\",dtype='int32')\n",
        "mask=Input(shape=(SEQ_LEN,),name='attention_mask',dtype='int32')\n",
        "embeddings=bert(input_ids,attention_mask=mask)[0]\n",
        "X=GlobalMaxPool1D()(embeddings)\n",
        "X=BatchNormalization()(X)\n",
        "X=Dense(64,activation='relu')(X)\n",
        "X=Dropout(0.2)(X)\n",
        "y=Dense(2,activation='softmax',name='outputs')(X)"
      ],
      "execution_count": null,
      "outputs": []
    },
    {
      "cell_type": "code",
      "metadata": {
        "id": "wivAKxVkUQ1s"
      },
      "source": [
        "model=Model(inputs=[input_ids,mask],outputs=y)\n",
        "model.layers[2].trainable=False"
      ],
      "execution_count": null,
      "outputs": []
    },
    {
      "cell_type": "code",
      "metadata": {
        "id": "szZWpmpqqeEH"
      },
      "source": [
        "#model.summary()"
      ],
      "execution_count": null,
      "outputs": []
    },
    {
      "cell_type": "code",
      "metadata": {
        "id": "LBzfXnHLUrnI"
      },
      "source": [
        "#optimizer=Adam(0.01)\n",
        "loss=CategoricalCrossentropy()\n",
        "accuracy=CategoricalAccuracy('accuracy')"
      ],
      "execution_count": null,
      "outputs": []
    },
    {
      "cell_type": "code",
      "source": [
        "!pip install -q tf-models-official"
      ],
      "metadata": {
        "id": "W1WkG6vutG7O"
      },
      "execution_count": null,
      "outputs": []
    },
    {
      "cell_type": "code",
      "source": [
        "from official.nlp import optimization"
      ],
      "metadata": {
        "id": "744JeINMrfYX"
      },
      "execution_count": null,
      "outputs": []
    },
    {
      "cell_type": "code",
      "source": [
        "#epochs = 5\n",
        "steps_per_epoch = tf.data.experimental.cardinality(train).numpy()\n",
        "num_train_steps = steps_per_epoch * epochs\n",
        "#num_warmup_steps = int(0.1*num_train_steps)\n",
        "num_warmup_steps = 0 #mine\n",
        "\n",
        "init_lr = 1e-5\n",
        "eps=1e-8\n",
        "optimizer = optimization.create_optimizer(init_lr=init_lr,\n",
        "                                          num_train_steps=num_train_steps,\n",
        "                                          num_warmup_steps=num_warmup_steps,\n",
        "                                          optimizer_type='adamw')"
      ],
      "metadata": {
        "colab": {
          "base_uri": "https://localhost:8080/"
        },
        "id": "juqkcS2Tn0fy",
        "outputId": "8004459d-6b26-4543-b51a-2a8df30b0cb2"
      },
      "execution_count": null,
      "outputs": [
        {
          "output_type": "stream",
          "name": "stderr",
          "text": [
            "INFO:absl:using Adamw optimizer\n",
            "INFO:absl:gradient_clip_norm=1.000000\n"
          ]
        }
      ]
    },
    {
      "cell_type": "code",
      "metadata": {
        "id": "aCIY8fB_VUro"
      },
      "source": [
        "model.compile(optimizer=optimizer,loss=loss,metrics=['acc'])"
      ],
      "execution_count": null,
      "outputs": []
    },
    {
      "cell_type": "code",
      "metadata": {
        "id": "Mmrks4j0NdCq"
      },
      "source": [
        "es=EarlyStopping(monitor='val_loss',mode='min',verbose=1,patience=3)\n",
        "mc=ModelCheckpoint('best_model.h5',monitor='val_acc',mode='max',save_weights_only=True,verbose=1)"
      ],
      "execution_count": null,
      "outputs": []
    },
    {
      "cell_type": "code",
      "source": [
        "#train"
      ],
      "metadata": {
        "id": "g6euqXjQYdBt"
      },
      "execution_count": null,
      "outputs": []
    },
    {
      "cell_type": "code",
      "metadata": {
        "colab": {
          "base_uri": "https://localhost:8080/"
        },
        "id": "QFfazWjOVeQF",
        "outputId": "da9f4251-14d7-4423-fade-1ce0075056db"
      },
      "source": [
        "history=model.fit(train.shuffle(1000).batch(BATCH_SIZE),epochs=epochs,validation_data=val.batch(BATCH_SIZE),verbose=1,validation_steps=1)"
      ],
      "execution_count": null,
      "outputs": [
        {
          "output_type": "stream",
          "name": "stdout",
          "text": [
            "Epoch 1/50\n",
            "12/12 [==============================] - 20s 524ms/step - loss: 0.8867 - acc: 0.6022 - val_loss: 0.6962 - val_acc: 0.7500\n",
            "Epoch 2/50\n",
            "12/12 [==============================] - 2s 183ms/step - loss: 0.9342 - acc: 0.5801 - val_loss: 0.6557 - val_acc: 0.7500\n",
            "Epoch 3/50\n",
            "12/12 [==============================] - 2s 187ms/step - loss: 0.8085 - acc: 0.6243 - val_loss: 0.6265 - val_acc: 0.7500\n",
            "Epoch 4/50\n",
            "12/12 [==============================] - 2s 190ms/step - loss: 0.7876 - acc: 0.6133 - val_loss: 0.6007 - val_acc: 0.7500\n",
            "Epoch 5/50\n",
            "12/12 [==============================] - 2s 183ms/step - loss: 0.8774 - acc: 0.5635 - val_loss: 0.5775 - val_acc: 0.7500\n",
            "Epoch 6/50\n",
            "12/12 [==============================] - 2s 184ms/step - loss: 0.8245 - acc: 0.6022 - val_loss: 0.5592 - val_acc: 0.7500\n",
            "Epoch 7/50\n",
            "12/12 [==============================] - 2s 183ms/step - loss: 0.7760 - acc: 0.5691 - val_loss: 0.5469 - val_acc: 0.7500\n",
            "Epoch 8/50\n",
            "12/12 [==============================] - 2s 187ms/step - loss: 0.7833 - acc: 0.5912 - val_loss: 0.5352 - val_acc: 0.7500\n",
            "Epoch 9/50\n",
            "12/12 [==============================] - 2s 179ms/step - loss: 0.8785 - acc: 0.5746 - val_loss: 0.5253 - val_acc: 0.7500\n",
            "Epoch 10/50\n",
            "12/12 [==============================] - 2s 184ms/step - loss: 0.7521 - acc: 0.6519 - val_loss: 0.5182 - val_acc: 0.7500\n",
            "Epoch 11/50\n",
            "12/12 [==============================] - 2s 184ms/step - loss: 0.7630 - acc: 0.5967 - val_loss: 0.5125 - val_acc: 0.7500\n",
            "Epoch 12/50\n",
            "12/12 [==============================] - 2s 186ms/step - loss: 0.7732 - acc: 0.6354 - val_loss: 0.5093 - val_acc: 0.7500\n",
            "Epoch 13/50\n",
            "12/12 [==============================] - 2s 182ms/step - loss: 0.7511 - acc: 0.6354 - val_loss: 0.5050 - val_acc: 0.7500\n",
            "Epoch 14/50\n",
            "12/12 [==============================] - 2s 179ms/step - loss: 0.7663 - acc: 0.6188 - val_loss: 0.4999 - val_acc: 0.7500\n",
            "Epoch 15/50\n",
            "12/12 [==============================] - 2s 183ms/step - loss: 0.6676 - acc: 0.6740 - val_loss: 0.4933 - val_acc: 0.7500\n",
            "Epoch 16/50\n",
            "12/12 [==============================] - 2s 161ms/step - loss: 0.7359 - acc: 0.6133 - val_loss: 0.4839 - val_acc: 0.7500\n",
            "Epoch 17/50\n",
            "12/12 [==============================] - 2s 161ms/step - loss: 0.6826 - acc: 0.6851 - val_loss: 0.4768 - val_acc: 0.7500\n",
            "Epoch 18/50\n",
            "12/12 [==============================] - 2s 160ms/step - loss: 0.7082 - acc: 0.6685 - val_loss: 0.4685 - val_acc: 0.7500\n",
            "Epoch 19/50\n",
            "12/12 [==============================] - 2s 161ms/step - loss: 0.7610 - acc: 0.6354 - val_loss: 0.4605 - val_acc: 0.7500\n",
            "Epoch 20/50\n",
            "12/12 [==============================] - 2s 161ms/step - loss: 0.6008 - acc: 0.7293 - val_loss: 0.4521 - val_acc: 0.7500\n",
            "Epoch 21/50\n",
            "12/12 [==============================] - 2s 161ms/step - loss: 0.6761 - acc: 0.6409 - val_loss: 0.4433 - val_acc: 0.7500\n",
            "Epoch 22/50\n",
            "12/12 [==============================] - 2s 161ms/step - loss: 0.6231 - acc: 0.6851 - val_loss: 0.4350 - val_acc: 0.7500\n",
            "Epoch 23/50\n",
            "12/12 [==============================] - 2s 163ms/step - loss: 0.6331 - acc: 0.6851 - val_loss: 0.4280 - val_acc: 0.7500\n",
            "Epoch 24/50\n",
            "12/12 [==============================] - 2s 161ms/step - loss: 0.6377 - acc: 0.7127 - val_loss: 0.4205 - val_acc: 0.6875\n",
            "Epoch 25/50\n",
            "12/12 [==============================] - 2s 161ms/step - loss: 0.6592 - acc: 0.6740 - val_loss: 0.4128 - val_acc: 0.7500\n",
            "Epoch 26/50\n",
            "12/12 [==============================] - 2s 164ms/step - loss: 0.6200 - acc: 0.7017 - val_loss: 0.4061 - val_acc: 0.7500\n",
            "Epoch 27/50\n",
            "12/12 [==============================] - 2s 162ms/step - loss: 0.6300 - acc: 0.6961 - val_loss: 0.3999 - val_acc: 0.7500\n",
            "Epoch 28/50\n",
            "12/12 [==============================] - 2s 162ms/step - loss: 0.5307 - acc: 0.7348 - val_loss: 0.3946 - val_acc: 0.7500\n",
            "Epoch 29/50\n",
            "12/12 [==============================] - 2s 161ms/step - loss: 0.5827 - acc: 0.7127 - val_loss: 0.3902 - val_acc: 0.8125\n",
            "Epoch 30/50\n",
            "12/12 [==============================] - 2s 169ms/step - loss: 0.6248 - acc: 0.7238 - val_loss: 0.3849 - val_acc: 0.8125\n",
            "Epoch 31/50\n",
            "12/12 [==============================] - 2s 163ms/step - loss: 0.6433 - acc: 0.6685 - val_loss: 0.3796 - val_acc: 0.8125\n",
            "Epoch 32/50\n",
            "12/12 [==============================] - 2s 162ms/step - loss: 0.5868 - acc: 0.7017 - val_loss: 0.3742 - val_acc: 0.8125\n",
            "Epoch 33/50\n",
            "12/12 [==============================] - 2s 162ms/step - loss: 0.5865 - acc: 0.7293 - val_loss: 0.3681 - val_acc: 0.8125\n",
            "Epoch 34/50\n",
            "12/12 [==============================] - 2s 170ms/step - loss: 0.6127 - acc: 0.6796 - val_loss: 0.3628 - val_acc: 0.8125\n",
            "Epoch 35/50\n",
            "12/12 [==============================] - 2s 163ms/step - loss: 0.5214 - acc: 0.7403 - val_loss: 0.3576 - val_acc: 0.8125\n",
            "Epoch 36/50\n",
            "12/12 [==============================] - 2s 163ms/step - loss: 0.5536 - acc: 0.7127 - val_loss: 0.3542 - val_acc: 0.8125\n",
            "Epoch 37/50\n",
            "12/12 [==============================] - 2s 162ms/step - loss: 0.5250 - acc: 0.7348 - val_loss: 0.3497 - val_acc: 0.8125\n",
            "Epoch 38/50\n",
            "12/12 [==============================] - 2s 163ms/step - loss: 0.5742 - acc: 0.7348 - val_loss: 0.3467 - val_acc: 0.8125\n",
            "Epoch 39/50\n",
            "12/12 [==============================] - 2s 163ms/step - loss: 0.5466 - acc: 0.7348 - val_loss: 0.3434 - val_acc: 0.8125\n",
            "Epoch 40/50\n",
            "12/12 [==============================] - 2s 169ms/step - loss: 0.5157 - acc: 0.7403 - val_loss: 0.3391 - val_acc: 0.8125\n",
            "Epoch 41/50\n",
            "12/12 [==============================] - 2s 163ms/step - loss: 0.5676 - acc: 0.6906 - val_loss: 0.3366 - val_acc: 0.8125\n",
            "Epoch 42/50\n",
            "12/12 [==============================] - 2s 170ms/step - loss: 0.5409 - acc: 0.7238 - val_loss: 0.3324 - val_acc: 0.8125\n",
            "Epoch 43/50\n",
            "12/12 [==============================] - 2s 163ms/step - loss: 0.4746 - acc: 0.7624 - val_loss: 0.3292 - val_acc: 0.8750\n",
            "Epoch 44/50\n",
            "12/12 [==============================] - 2s 163ms/step - loss: 0.5360 - acc: 0.7459 - val_loss: 0.3251 - val_acc: 0.8750\n",
            "Epoch 45/50\n",
            "12/12 [==============================] - 2s 162ms/step - loss: 0.5276 - acc: 0.7182 - val_loss: 0.3210 - val_acc: 0.8750\n",
            "Epoch 46/50\n",
            "12/12 [==============================] - 2s 162ms/step - loss: 0.4788 - acc: 0.7459 - val_loss: 0.3177 - val_acc: 0.8750\n",
            "Epoch 47/50\n",
            "12/12 [==============================] - 2s 162ms/step - loss: 0.4741 - acc: 0.7845 - val_loss: 0.3123 - val_acc: 0.8750\n",
            "Epoch 48/50\n",
            "12/12 [==============================] - 2s 172ms/step - loss: 0.5069 - acc: 0.7514 - val_loss: 0.3085 - val_acc: 0.8750\n",
            "Epoch 49/50\n",
            "12/12 [==============================] - 2s 175ms/step - loss: 0.4806 - acc: 0.7569 - val_loss: 0.3073 - val_acc: 0.8750\n",
            "Epoch 50/50\n",
            "12/12 [==============================] - 2s 175ms/step - loss: 0.4599 - acc: 0.7680 - val_loss: 0.3050 - val_acc: 0.8750\n"
          ]
        }
      ]
    },
    {
      "cell_type": "code",
      "source": [
        "#history.history"
      ],
      "metadata": {
        "id": "rklw4s5dpbau"
      },
      "execution_count": null,
      "outputs": []
    },
    {
      "cell_type": "code",
      "source": [
        "sns.set(style='darkgrid')\n",
        "\n",
        "sns.set(font_scale=1.5)\n",
        "plt.rcParams[\"figure.figsize\"] = (12,6)\n",
        "\n",
        "# learning curve\n",
        "#plt.plot(loss_values, 'b-o')\n",
        "plt.plot(history.history['loss'],'g--',label='Train Loss')\n",
        "#plt.plot(history.history['val_acc'],'b',label='Val Accuracy')\n",
        "\n",
        "plt.title(\"Training loss\")\n",
        "plt.xlabel(\"Epoch\")\n",
        "plt.ylabel(\"Loss\")\n",
        "plt.legend()"
      ],
      "metadata": {
        "colab": {
          "base_uri": "https://localhost:8080/",
          "height": 445
        },
        "id": "pDrKB8CZpTDR",
        "outputId": "3680945a-1eca-4c74-d818-5c4c688b607e"
      },
      "execution_count": null,
      "outputs": [
        {
          "output_type": "execute_result",
          "data": {
            "text/plain": [
              "<matplotlib.legend.Legend at 0x7fb1933820d0>"
            ]
          },
          "metadata": {},
          "execution_count": 119
        },
        {
          "output_type": "display_data",
          "data": {
            "image/png": "[encoded data removed]",
            "text/plain": [
              "<Figure size 864x432 with 1 Axes>"
            ]
          },
          "metadata": {}
        }
      ]
    },
    {
      "cell_type": "code",
      "source": [
        "print(history.history['loss'])"
      ],
      "metadata": {
        "colab": {
          "base_uri": "https://localhost:8080/"
        },
        "id": "DlP_jzcl7wmf",
        "outputId": "ae409aa3-55b2-4339-9aba-ab7aa7e42c64"
      },
      "execution_count": null,
      "outputs": [
        {
          "output_type": "stream",
          "name": "stdout",
          "text": [
            "[0.8866538405418396, 0.9342406988143921, 0.8084975481033325, 0.7875945568084717, 0.8773744702339172, 0.8245067000389099, 0.7760425209999084, 0.7833065390586853, 0.8784903883934021, 0.7521083950996399, 0.7629628777503967, 0.7731646299362183, 0.7511080503463745, 0.7662729620933533, 0.6675549745559692, 0.7358502149581909, 0.6826362609863281, 0.7081995010375977, 0.7610237002372742, 0.600818395614624, 0.6761114001274109, 0.6231296062469482, 0.6330937743186951, 0.6377111673355103, 0.6592248678207397, 0.6200371980667114, 0.6300418972969055, 0.530722975730896, 0.582728385925293, 0.6248407363891602, 0.6432936191558838, 0.5868114233016968, 0.5864548087120056, 0.6127276420593262, 0.5213626623153687, 0.5535983443260193, 0.5250251889228821, 0.5742321610450745, 0.5466144680976868, 0.5156949162483215, 0.5675602555274963, 0.5409212708473206, 0.47458329796791077, 0.5359850525856018, 0.5276238322257996, 0.47876545786857605, 0.4741424322128296, 0.5069094300270081, 0.480573445558548, 0.4598500430583954]\n"
          ]
        }
      ]
    },
    {
      "cell_type": "code",
      "metadata": {
        "id": "QuO__4cTi8nt"
      },
      "source": [
        "#_,val_acc=model.evaluate(test_dataset)"
      ],
      "execution_count": null,
      "outputs": []
    },
    {
      "cell_type": "code",
      "metadata": {
        "id": "W1cyB-VfjuCL"
      },
      "source": [
        "Tids=np.zeros((len(df_test),SEQ_LEN))\n",
        "Tmask=np.zeros((len(df_test),SEQ_LEN))"
      ],
      "execution_count": null,
      "outputs": []
    },
    {
      "cell_type": "code",
      "metadata": {
        "id": "9t_i9xi97uYN"
      },
      "source": [
        "for i,sentence in enumerate(df_test['Content']):\n",
        "  Tids[i, :],Tmask[i, :]=tokenize(sentence)"
      ],
      "execution_count": null,
      "outputs": []
    },
    {
      "cell_type": "code",
      "metadata": {
        "id": "dI6r6um25cmG"
      },
      "source": [
        "arra=df_test['Label'].values\n",
        "test_labels=np.zeros((arra.size,arra.max()+1))\n",
        "test_labels[np.arange(arra.size),arra]=1"
      ],
      "execution_count": null,
      "outputs": []
    },
    {
      "cell_type": "code",
      "metadata": {
        "id": "SsWFGpXz5RRo"
      },
      "source": [
        "test_dataset=tf.data.Dataset.from_tensor_slices((Tids,Tmask,test_labels))"
      ],
      "execution_count": null,
      "outputs": []
    },
    {
      "cell_type": "code",
      "metadata": {
        "id": "j1bLlJiB6Ifg"
      },
      "source": [
        "test_dataset=test_dataset.map(map_func)"
      ],
      "execution_count": null,
      "outputs": []
    },
    {
      "cell_type": "code",
      "metadata": {
        "id": "sFM2us6b5r7-",
        "colab": {
          "base_uri": "https://localhost:8080/"
        },
        "outputId": "6384cffe-4423-4953-83da-0004c6a326a1"
      },
      "source": [
        "_,val_acc=model.evaluate(test_dataset.batch(BATCH_SIZE))"
      ],
      "execution_count": null,
      "outputs": [
        {
          "output_type": "stream",
          "name": "stdout",
          "text": [
            "13/13 [==============================] - 2s 147ms/step - loss: 0.5299 - acc: 0.7463\n"
          ]
        }
      ]
    },
    {
      "cell_type": "code",
      "metadata": {
        "id": "KOjzCJhf5380",
        "colab": {
          "base_uri": "https://localhost:8080/"
        },
        "outputId": "5e8588d1-3052-4d6d-bd1b-f659f5aae01f"
      },
      "source": [
        "val_acc"
      ],
      "execution_count": null,
      "outputs": [
        {
          "output_type": "execute_result",
          "data": {
            "text/plain": [
              "0.746268630027771"
            ]
          },
          "metadata": {},
          "execution_count": 116
        }
      ]
    }
  ]
}