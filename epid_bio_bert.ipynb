{
  "cells": [
    {
      "cell_type": "code",
      "execution_count": null,
      "metadata": {
        "id": "icQKBKPTadOY"
      },
      "outputs": [],
      "source": [
        "!pip install pytorch-pretrained-bert\n",
        "!pip install transformers"
      ]
    },
    {
      "cell_type": "code",
      "execution_count": null,
      "metadata": {
        "id": "t8Gn2SVI7utX"
      },
      "outputs": [],
      "source": [
        "import os\n",
        "import re\n",
        "import csv\n",
        "import itertools\n",
        "import json\n",
        "\n",
        "import nltk\n",
        "import pandas as pd\n",
        "import numpy as np\n",
        "import seaborn as sns\n",
        "import matplotlib.pyplot as plt\n",
        "from tqdm import tqdm, trange\n",
        "from collections import defaultdict, OrderedDict\n",
        "\n",
        "import torch\n",
        "import torch.nn as nn\n",
        "from torch.utils.data import TensorDataset, DataLoader\n",
        "from torch.utils.data import RandomSampler, SequentialSampler\n",
        "from pytorch_pretrained_bert import BertModel, BertTokenizer, BertConfig\n",
        "from transformers import BertForTokenClassification, AdamW\n",
        "from transformers import get_linear_schedule_with_warmup\n",
        "from sklearn.metrics import f1_score,precision_score,recall_score\n",
        "from sklearn.preprocessing import LabelEncoder\n",
        "from matplotlib.ticker import AutoMinorLocator\n",
        "\n",
        "import tensorflow as tf\n",
        "from keras.preprocessing.sequence import pad_sequences\n",
        "from sklearn.model_selection import train_test_split\n",
        "from nltk import FreqDist"
      ]
    },
    {
      "cell_type": "code",
      "execution_count": null,
      "metadata": {
        "id": "pBIt5HQ33ioB"
      },
      "outputs": [],
      "source": [
        "import pytorch_pretrained_bert"
      ]
    },
    {
      "cell_type": "code",
      "execution_count": null,
      "metadata": {
        "colab": {
          "base_uri": "https://localhost:8080/"
        },
        "id": "tOeVnOOSfJec",
        "outputId": "3b1adf28-57f0-487a-87d1-36913f6cd7d8"
      },
      "outputs": [
        {
          "output_type": "stream",
          "name": "stdout",
          "text": [
            "Found GPU at: /device:GPU:0\n"
          ]
        }
      ],
      "source": [
        "# Get GPU device name\n",
        "device_name = tf.test.gpu_device_name()\n",
        "\n",
        "if device_name == '/device:GPU:0':\n",
        "  print('Found GPU at: {}'.format(device_name))\n",
        "else:\n",
        "  raise SystemError('GPU device not found')"
      ]
    },
    {
      "cell_type": "code",
      "execution_count": null,
      "metadata": {
        "colab": {
          "base_uri": "https://localhost:8080/"
        },
        "id": "soCBkruYfPUc",
        "outputId": "c8690ae0-67a8-4e82-8aa5-775d3a5cf04d"
      },
      "outputs": [
        {
          "output_type": "stream",
          "name": "stdout",
          "text": [
            "There are 1 GPU(s) available.\n",
            "We will use the GPU: Tesla K80\n"
          ]
        }
      ],
      "source": [
        "# tell Pytorch to use the GPU if available\n",
        "device = torch.device(\"cuda\" if torch.cuda.is_available() else \"cpu\")\n",
        "\n",
        "print('There are %d GPU(s) available.' % torch.cuda.device_count())\n",
        "print('We will use the GPU:', torch.cuda.get_device_name(0))"
      ]
    },
    {
      "cell_type": "markdown",
      "metadata": {
        "id": "STeCPrW4KFpJ"
      },
      "source": [
        "# Import BioBERT"
      ]
    },
    {
      "cell_type": "code",
      "execution_count": null,
      "metadata": {
        "id": "U9pgQv8Iffq9"
      },
      "outputs": [],
      "source": [
        "!wget --load-cookies /tmp/cookies.txt \"https://docs.google.com/uc?export=download&confirm=$(wget --quiet --save-cookies /tmp/cookies.txt --keep-session-cookies --no-check-certificate 'https://docs.google.com/uc?export=download&id=1R84voFKHfWV9xjzeLzWBbmY1uOMYpnyD' -O- | sed -rn 's/.*confirm=([0-9A-Za-z_]+).*/\\1\\n/p')&id=1R84voFKHfWV9xjzeLzWBbmY1uOMYpnyD\" -O biobert_weights && rm -rf /tmp/cookies.txt"
      ]
    },
    {
      "cell_type": "code",
      "execution_count": null,
      "metadata": {
        "colab": {
          "base_uri": "https://localhost:8080/"
        },
        "id": "zDpKJWMBEa1G",
        "outputId": "cbe76c43-69a1-4326-bac5-3822b683b23b"
      },
      "outputs": [
        {
          "output_type": "stream",
          "name": "stdout",
          "text": [
            "bert_config.json\t\t\tmodel.ckpt-1000000.index  vocab.txt\n",
            "model.ckpt-1000000.data-00000-of-00001\tmodel.ckpt-1000000.meta\n"
          ]
        }
      ],
      "source": [
        "!tar -xzf biobert_weights\n",
        "!ls biobert_v1.1_pubmed/"
      ]
    },
    {
      "cell_type": "code",
      "execution_count": null,
      "metadata": {
        "id": "g5dhA43zEfrB"
      },
      "outputs": [],
      "source": [
        "!transformers-cli convert --model_type bert --tf_checkpoint biobert_v1.1_pubmed/model.ckpt-1000000 --config biobert_v1.1_pubmed/bert_config.json --pytorch_dump_output biobert_v1.1_pubmed/pytorch_model.bin"
      ]
    },
    {
      "cell_type": "code",
      "execution_count": null,
      "metadata": {
        "id": "_vqdJUV1EiEd"
      },
      "outputs": [],
      "source": [
        "!ls biobert_v1.1_pubmed/\n",
        "!mv biobert_v1.1_pubmed/bert_config.json biobert_v1.1_pubmed/config.json\n",
        "!ls biobert_v1.1_pubmed/"
      ]
    },
    {
      "cell_type": "code",
      "execution_count": null,
      "metadata": {
        "colab": {
          "base_uri": "https://localhost:8080/"
        },
        "id": "V9-3E8ZPLA8Z",
        "outputId": "57c6bad4-5acd-4255-93db-2f772cbfdbdf"
      },
      "outputs": [
        {
          "output_type": "stream",
          "name": "stdout",
          "text": [
            "biobert_v1.1_pubmed  biobert_weights  sample_data\n"
          ]
        }
      ],
      "source": [
        "!ls "
      ]
    },
    {
      "cell_type": "markdown",
      "metadata": {
        "id": "DXPpUMx0fZOh"
      },
      "source": [
        "# Data"
      ]
    },
    {
      "cell_type": "code",
      "execution_count": null,
      "metadata": {
        "colab": {
          "base_uri": "https://localhost:8080/"
        },
        "id": "3cSxrv3pKBx0",
        "outputId": "25d45d4c-22e5-4ae7-81f4-6e973b523fd7"
      },
      "outputs": [
        {
          "output_type": "stream",
          "name": "stdout",
          "text": [
            "Mounted at /content/gdrive\n"
          ]
        }
      ],
      "source": [
        "from google.colab import drive\n",
        "drive._mount('/content/gdrive')"
      ]
    },
    {
      "cell_type": "code",
      "execution_count": null,
      "metadata": {
        "id": "hPfP8ssmdOeW"
      },
      "outputs": [],
      "source": [
        "MAX_LEN=200\n",
        "BATCH_SIZE=16\n",
        "tokenizer = BertTokenizer(vocab_file='biobert_v1.1_pubmed/vocab.txt', do_lower_case=False)"
      ]
    },
    {
      "cell_type": "code",
      "source": [
        "def tags_list_computer(candidates_list,raw_text_list,thematic_feature):\n",
        "  \"\"\"Finds anf labels thematic features from their JSON data annotations\n",
        "     using a cascade of Regex rules\n",
        "  \"\"\"\n",
        "\n",
        "  del_features=[]\n",
        "\n",
        "  for candidate in candidates_list:\n",
        "    feature_text=[]\n",
        "    feature_type=re.findall(re.compile('type=\\\"(.*?)\\\"'),candidate)[0]\n",
        "    length=int(re.findall(re.compile('length=\\\"(.*?)\\\"'),candidate)[0])\n",
        "    index=int(re.findall(re.compile('index=(.*?) '),candidate)[0])\n",
        "    candidate_no=int(re.findall(re.compile('id=\\\"c(.*?)\\\"'),candidate)[0])\n",
        "    \n",
        "    if feature_type == thematic_feature:\n",
        "      for i in range(index,index+length):\n",
        "        del_features.append(raw_text_list[i])  \n",
        "  return [feat for feat in raw_text_list if feat not in del_features]"
      ],
      "metadata": {
        "id": "VyPXfmDC0OJS"
      },
      "execution_count": null,
      "outputs": []
    },
    {
      "cell_type": "code",
      "source": [
        "def candidates_selector(data,thematic_feature):\n",
        "  \"\"\"Finds all candidate thematic features by tag from news article\n",
        "     also prepares a raw untagged corpus after deleting excluded thematic feature if any\n",
        "  \"\"\"\n",
        "\n",
        "  raw_text_list=re.findall(re.compile('<token id=\\\"t\\d+\\\"> (.*?) </token>'),data['tagged_content'])\n",
        "  candidates_list=re.findall(re.compile('<candidate (.*?)></candidate> '),data['tagged_content'])  \n",
        "  re_raw_list=tags_list_computer(candidates_list,raw_text_list,thematic_feature)\n",
        "  raw_doc = ' '.join([str(elem) for elem in re_raw_list])  \n",
        "  return raw_doc"
      ],
      "metadata": {
        "id": "ESi2eUOZyzjM"
      },
      "execution_count": null,
      "outputs": []
    },
    {
      "cell_type": "code",
      "execution_count": null,
      "metadata": {
        "id": "RozIo9Jo0zsj"
      },
      "outputs": [],
      "source": [
        "corpora = '/content/gdrive/MyDrive/Colab Data/articles'\n",
        "tagged_data=[]\n",
        "irrelevant_docs=0\n",
        "irrelevant_docs_address=[]\n",
        "df_corpus={'Content':[],'Label':[]}\n",
        "del_thematic_feature='none' #thematic feature to be ignored either date, disease, location or host\n",
        "\n",
        "for subdir, dirs, files in os.walk(corpora):\n",
        "  \"\"\"Walks through the directory containing PADI-Web JSON News datasets\n",
        "     and cleans the corpus selecting relevant and irrelevant documents \n",
        "  \"\"\"\n",
        "  for file in files:\n",
        "    path = os.path.join(subdir, file)\n",
        "    \n",
        "    with open(path,'r') as f:\n",
        "      data=json.load(f)\n",
        "      if data['candidateLabels']: #not an empty list thus relevant document\n",
        "        if data['content']:\n",
        "          content=candidates_selector(data,del_thematic_feature)\n",
        "          df_corpus['Content'].append(content.replace('\\r', '').replace('\\t', '').replace('\\n','').replace('<br /> ',''))\n",
        "          df_corpus['Label'].append('relevant')\n",
        "\n",
        "      else:#irrelevant document\n",
        "        if data['content']:\n",
        "          content=candidates_selector(data,del_thematic_feature)\n",
        "          df_corpus['Content'].append(content.replace('\\r', '').replace('\\t', '').replace('\\n','').replace('<br /> ',''))\n",
        "          df_corpus['Label'].append('irrelevant')"
      ]
    },
    {
      "cell_type": "code",
      "execution_count": null,
      "metadata": {
        "id": "uKoN-j_1X8sV"
      },
      "outputs": [],
      "source": [
        "data=pd.DataFrame(df_corpus)"
      ]
    },
    {
      "cell_type": "code",
      "execution_count": null,
      "metadata": {
        "colab": {
          "base_uri": "https://localhost:8080/",
          "height": 206
        },
        "id": "r0WVXPruYADi",
        "outputId": "c07667cc-c496-4cbb-8702-4472ad038799"
      },
      "outputs": [
        {
          "output_type": "execute_result",
          "data": {
            "text/html": [
              "\n",
              "  <div id=\"df-78566cce-1eae-4b33-8484-2cd162c138f9\">\n",
              "    <div class=\"colab-df-container\">\n",
              "      <div>\n",
              "<style scoped>\n",
              "    .dataframe tbody tr th:only-of-type {\n",
              "        vertical-align: middle;\n",
              "    }\n",
              "\n",
              "    .dataframe tbody tr th {\n",
              "        vertical-align: top;\n",
              "    }\n",
              "\n",
              "    .dataframe thead th {\n",
              "        text-align: right;\n",
              "    }\n",
              "</style>\n",
              "<table border=\"1\" class=\"dataframe\">\n",
              "  <thead>\n",
              "    <tr style=\"text-align: right;\">\n",
              "      <th></th>\n",
              "      <th>Content</th>\n",
              "      <th>Label</th>\n",
              "    </tr>\n",
              "  </thead>\n",
              "  <tbody>\n",
              "    <tr>\n",
              "      <th>0</th>\n",
              "      <td>Instead of creating unnecessary fear and paran...</td>\n",
              "      <td>irrelevant</td>\n",
              "    </tr>\n",
              "    <tr>\n",
              "      <th>1</th>\n",
              "      <td>The International Monetary Fund has given Bots...</td>\n",
              "      <td>irrelevant</td>\n",
              "    </tr>\n",
              "    <tr>\n",
              "      <th>2</th>\n",
              "      <td>Last updated at : 5:05 AM Malawi Govt optimist...</td>\n",
              "      <td>irrelevant</td>\n",
              "    </tr>\n",
              "    <tr>\n",
              "      <th>3</th>\n",
              "      <td>YAMAGUCHI -- An outbreak of highly pathogenic ...</td>\n",
              "      <td>relevant</td>\n",
              "    </tr>\n",
              "    <tr>\n",
              "      <th>4</th>\n",
              "      <td>SEOUL South Korea has confirmed a fresh case o...</td>\n",
              "      <td>relevant</td>\n",
              "    </tr>\n",
              "  </tbody>\n",
              "</table>\n",
              "</div>\n",
              "      <button class=\"colab-df-convert\" onclick=\"convertToInteractive('df-78566cce-1eae-4b33-8484-2cd162c138f9')\"\n",
              "              title=\"Convert this dataframe to an interactive table.\"\n",
              "              style=\"display:none;\">\n",
              "        \n",
              "  <svg xmlns=\"http://www.w3.org/2000/svg\" height=\"24px\"viewBox=\"0 0 24 24\"\n",
              "       width=\"24px\">\n",
              "    <path d=\"M0 0h24v24H0V0z\" fill=\"none\"/>\n",
              "    <path d=\"M18.56 5.44l.94 2.06.94-2.06 2.06-.94-2.06-.94-.94-2.06-.94 2.06-2.06.94zm-11 1L8.5 8.5l.94-2.06 2.06-.94-2.06-.94L8.5 2.5l-.94 2.06-2.06.94zm10 10l.94 2.06.94-2.06 2.06-.94-2.06-.94-.94-2.06-.94 2.06-2.06.94z\"/><path d=\"M17.41 7.96l-1.37-1.37c-.4-.4-.92-.59-1.43-.59-.52 0-1.04.2-1.43.59L10.3 9.45l-7.72 7.72c-.78.78-.78 2.05 0 2.83L4 21.41c.39.39.9.59 1.41.59.51 0 1.02-.2 1.41-.59l7.78-7.78 2.81-2.81c.8-.78.8-2.07 0-2.86zM5.41 20L4 18.59l7.72-7.72 1.47 1.35L5.41 20z\"/>\n",
              "  </svg>\n",
              "      </button>\n",
              "      \n",
              "  <style>\n",
              "    .colab-df-container {\n",
              "      display:flex;\n",
              "      flex-wrap:wrap;\n",
              "      gap: 12px;\n",
              "    }\n",
              "\n",
              "    .colab-df-convert {\n",
              "      background-color: #E8F0FE;\n",
              "      border: none;\n",
              "      border-radius: 50%;\n",
              "      cursor: pointer;\n",
              "      display: none;\n",
              "      fill: #1967D2;\n",
              "      height: 32px;\n",
              "      padding: 0 0 0 0;\n",
              "      width: 32px;\n",
              "    }\n",
              "\n",
              "    .colab-df-convert:hover {\n",
              "      background-color: #E2EBFA;\n",
              "      box-shadow: 0px 1px 2px rgba(60, 64, 67, 0.3), 0px 1px 3px 1px rgba(60, 64, 67, 0.15);\n",
              "      fill: #174EA6;\n",
              "    }\n",
              "\n",
              "    [theme=dark] .colab-df-convert {\n",
              "      background-color: #3B4455;\n",
              "      fill: #D2E3FC;\n",
              "    }\n",
              "\n",
              "    [theme=dark] .colab-df-convert:hover {\n",
              "      background-color: #434B5C;\n",
              "      box-shadow: 0px 1px 3px 1px rgba(0, 0, 0, 0.15);\n",
              "      filter: drop-shadow(0px 1px 2px rgba(0, 0, 0, 0.3));\n",
              "      fill: #FFFFFF;\n",
              "    }\n",
              "  </style>\n",
              "\n",
              "      <script>\n",
              "        const buttonEl =\n",
              "          document.querySelector('#df-78566cce-1eae-4b33-8484-2cd162c138f9 button.colab-df-convert');\n",
              "        buttonEl.style.display =\n",
              "          google.colab.kernel.accessAllowed ? 'block' : 'none';\n",
              "\n",
              "        async function convertToInteractive(key) {\n",
              "          const element = document.querySelector('#df-78566cce-1eae-4b33-8484-2cd162c138f9');\n",
              "          const dataTable =\n",
              "            await google.colab.kernel.invokeFunction('convertToInteractive',\n",
              "                                                     [key], {});\n",
              "          if (!dataTable) return;\n",
              "\n",
              "          const docLinkHtml = 'Like what you see? Visit the ' +\n",
              "            '<a target=\"_blank\" href=https://colab.research.google.com/notebooks/data_table.ipynb>data table notebook</a>'\n",
              "            + ' to learn more about interactive tables.';\n",
              "          element.innerHTML = '';\n",
              "          dataTable['output_type'] = 'display_data';\n",
              "          await google.colab.output.renderOutput(dataTable, element);\n",
              "          const docLink = document.createElement('div');\n",
              "          docLink.innerHTML = docLinkHtml;\n",
              "          element.appendChild(docLink);\n",
              "        }\n",
              "      </script>\n",
              "    </div>\n",
              "  </div>\n",
              "  "
            ],
            "text/plain": [
              "                                             Content       Label\n",
              "0  Instead of creating unnecessary fear and paran...  irrelevant\n",
              "1  The International Monetary Fund has given Bots...  irrelevant\n",
              "2  Last updated at : 5:05 AM Malawi Govt optimist...  irrelevant\n",
              "3  YAMAGUCHI -- An outbreak of highly pathogenic ...    relevant\n",
              "4  SEOUL South Korea has confirmed a fresh case o...    relevant"
            ]
          },
          "metadata": {},
          "execution_count": 17
        }
      ],
      "source": [
        "data.head()"
      ]
    },
    {
      "cell_type": "code",
      "source": [
        "label_encoder=LabelEncoder()\n",
        "label_encoder.fit(data['Label'])"
      ],
      "metadata": {
        "colab": {
          "base_uri": "https://localhost:8080/"
        },
        "id": "gd-qC3Nd9CTc",
        "outputId": "749e13e5-8d6d-4639-b501-c3298aba9e43"
      },
      "execution_count": null,
      "outputs": [
        {
          "output_type": "execute_result",
          "data": {
            "text/plain": [
              "LabelEncoder()"
            ]
          },
          "metadata": {},
          "execution_count": 18
        }
      ]
    },
    {
      "cell_type": "code",
      "execution_count": null,
      "metadata": {
        "id": "SUT3y1fZGH8V"
      },
      "outputs": [],
      "source": [
        "X=list(data['Content'])\n",
        "y=list(label_encoder.transform(data['Label']))"
      ]
    },
    {
      "cell_type": "code",
      "execution_count": null,
      "metadata": {
        "id": "zDczy6Tyw-dw"
      },
      "outputs": [],
      "source": [
        "def tok_with_labels(doc, label):\n",
        "  \"\"\"tokenize and keep labels intact\"\"\"\n",
        "  \n",
        "  tok_doc=tokenizer.tokenize(doc)\n",
        "  \n",
        "  return tok_doc, [label]\n",
        "\n",
        "tok_texts_and_labels = [tok_with_labels(sent, labs) for sent, labs in zip(X, y)]"
      ]
    },
    {
      "cell_type": "code",
      "execution_count": null,
      "metadata": {
        "id": "lH1VCcKpyDaL"
      },
      "outputs": [],
      "source": [
        "tok_texts = [tok_label_pair[0] for tok_label_pair in tok_texts_and_labels]\n",
        "labels = [tok_label_pair[1] for tok_label_pair in tok_texts_and_labels]"
      ]
    },
    {
      "cell_type": "code",
      "execution_count": null,
      "metadata": {
        "id": "9pZrjN1uyNVl"
      },
      "outputs": [],
      "source": [
        "input_ids = pad_sequences([tokenizer.convert_tokens_to_ids(txt) for txt in tok_texts],\n",
        "                          maxlen=MAX_LEN, dtype=\"long\", value=0.0,\n",
        "                          truncating=\"post\", padding=\"post\")"
      ]
    },
    {
      "cell_type": "code",
      "execution_count": null,
      "metadata": {
        "id": "WegdV9MEBGPa"
      },
      "outputs": [],
      "source": [
        "attention_masks = [[float(i != 0.0) for i in ii] for ii in input_ids]"
      ]
    },
    {
      "cell_type": "code",
      "execution_count": null,
      "metadata": {
        "id": "XHl9n7J7BJOb"
      },
      "outputs": [],
      "source": [
        "split_size=.2\n",
        "\n",
        "tr_inputs, val_inputs, tr_tags, val_tags = train_test_split(input_ids, labels,\n",
        "                                                            random_state=2018, test_size=split_size)\n",
        "tr_masks, val_masks, _, _ = train_test_split(attention_masks, input_ids,\n",
        "                                             random_state=2018, test_size=split_size)\n",
        "\n",
        "n_attention_masks = [[float(i != 0.0) for i in ii] for ii in tr_inputs]\n",
        "\n",
        "tr_masks, test_masks, _, _ = train_test_split(n_attention_masks, tr_inputs,\n",
        "                                             random_state=2018, test_size=split_size)\n",
        "\n",
        "tr_inputs, test_inputs, tr_tags, test_tags = train_test_split(tr_inputs, tr_tags,\n",
        "                                                            random_state=2018, test_size=split_size)\n",
        "\n",
        "tr_inputs = torch.tensor(tr_inputs)\n",
        "val_inputs = torch.tensor(val_inputs)\n",
        "test_inputs = torch.tensor(test_inputs)\n",
        "\n",
        "\n",
        "tr_tags = torch.tensor(tr_tags)\n",
        "val_tags = torch.tensor(val_tags)\n",
        "test_tags = torch.tensor(test_tags)\n",
        "\n",
        "tr_masks = torch.tensor(tr_masks)\n",
        "val_masks = torch.tensor(val_masks)\n",
        "test_masks = torch.tensor(test_masks)"
      ]
    },
    {
      "cell_type": "code",
      "execution_count": null,
      "metadata": {
        "id": "5_3QCEFHb6xL",
        "colab": {
          "base_uri": "https://localhost:8080/"
        },
        "outputId": "53f1ece8-5e78-439e-b62c-69d47e18ff2c"
      },
      "outputs": [
        {
          "output_type": "execute_result",
          "data": {
            "text/plain": [
              "torch.Size([321, 1])"
            ]
          },
          "metadata": {},
          "execution_count": 42
        }
      ],
      "source": [
        "tr_tags.shape"
      ]
    },
    {
      "cell_type": "code",
      "execution_count": null,
      "metadata": {
        "id": "xVJvgMr2BL9j"
      },
      "outputs": [],
      "source": [
        "train_data = TensorDataset(tr_inputs, tr_masks, tr_tags)\n",
        "train_sampler = RandomSampler(train_data)\n",
        "train_dataloader = DataLoader(train_data, sampler=train_sampler, batch_size=BATCH_SIZE, drop_last=True)\n",
        "\n",
        "valid_data = TensorDataset(val_inputs, val_masks, val_tags)\n",
        "valid_sampler = SequentialSampler(valid_data)\n",
        "valid_dataloader = DataLoader(valid_data, sampler=valid_sampler, batch_size=BATCH_SIZE, drop_last=True)\n",
        "\n",
        "test_data = TensorDataset(test_inputs, test_masks, test_tags)\n",
        "test_sampler = SequentialSampler(test_data)\n",
        "test_dataloader = DataLoader(test_data, sampler=test_sampler, batch_size=BATCH_SIZE, drop_last=True)"
      ]
    },
    {
      "cell_type": "markdown",
      "metadata": {
        "id": "hGlRTtznfV_L"
      },
      "source": [
        "# The Model"
      ]
    },
    {
      "cell_type": "code",
      "execution_count": null,
      "metadata": {
        "id": "IyG2ydyOBadA"
      },
      "outputs": [],
      "source": [
        "config = BertConfig.from_json_file('biobert_v1.1_pubmed/config.json')\n",
        "tmp_d = torch.load('biobert_v1.1_pubmed/pytorch_model.bin', map_location=device)\n",
        "state_dict = OrderedDict()\n",
        "\n",
        "for i in list(tmp_d.keys())[:199]:\n",
        "    x = i\n",
        "    if i.find('bert') > -1:\n",
        "        x = '.'.join(i.split('.')[1:])\n",
        "    state_dict[x] = tmp_d[i]"
      ]
    },
    {
      "cell_type": "code",
      "source": [
        "state_dict['embeddings.word_embeddings.weight'].shape"
      ],
      "metadata": {
        "colab": {
          "base_uri": "https://localhost:8080/"
        },
        "id": "c9Kt28isk2Gj",
        "outputId": "ad0b1237-3b46-4f87-bbd3-db61ac09ab1c"
      },
      "execution_count": null,
      "outputs": [
        {
          "output_type": "execute_result",
          "data": {
            "text/plain": [
              "torch.Size([28996, 768])"
            ]
          },
          "metadata": {},
          "execution_count": 47
        }
      ]
    },
    {
      "cell_type": "code",
      "source": [
        "#bert = BertModel(config)\n",
        "#bert = bert.load_state_dict(state_dict, strict=False)"
      ],
      "metadata": {
        "id": "G7ljbQkI9eys"
      },
      "execution_count": null,
      "outputs": []
    },
    {
      "cell_type": "code",
      "source": [
        "#vocab_len=len(np.unique(labels))+1\n",
        "vocab_len=2"
      ],
      "metadata": {
        "id": "hHpshAvj-9pm"
      },
      "execution_count": null,
      "outputs": []
    },
    {
      "cell_type": "code",
      "execution_count": null,
      "metadata": {
        "id": "FSFH01a3bSIg"
      },
      "outputs": [],
      "source": [
        "class EpidBioBert(nn.Module):\n",
        "\n",
        "  def __init__(self, vocab_len, config, state_dict):\n",
        "    super().__init__()\n",
        "    self.bert = BertModel(config)\n",
        "    self.bert.load_state_dict(state_dict, strict=False)\n",
        "    self.dropout = nn.Dropout(p=0.3)\n",
        "    self.batchnorm=nn.BatchNorm1d(1,affine=False)\n",
        "    self.output = nn.Linear(self.bert.config.hidden_size, vocab_len)\n",
        "    self.softmax = nn.Softmax(dim=1)\n",
        "\n",
        "  def forward(self, input_ids, attention_mask):\n",
        "    encoded_layer, _ = self.bert(input_ids=input_ids, attention_mask=attention_mask)\n",
        "    encl = encoded_layer[-1]\n",
        "    max_pooled, _  = torch.max(encl, 1)\n",
        "    norm=torch.squeeze(self.batchnorm(torch.unsqueeze(max_pooled,1)),0)\n",
        "    dropped = self.dropout(norm)\n",
        "    out = self.output(dropped)\n",
        "    return out, out.argmax(-1)"
      ]
    },
    {
      "cell_type": "code",
      "execution_count": null,
      "metadata": {
        "id": "cRFqxzw0hH5j"
      },
      "outputs": [],
      "source": [
        "model = EpidBioBert(vocab_len,config,state_dict)\n",
        "model.to(device)"
      ]
    },
    {
      "cell_type": "code",
      "execution_count": null,
      "metadata": {
        "id": "7lF1ZFbWqNUm"
      },
      "outputs": [],
      "source": [
        "param_optimizer = list(model.named_parameters())\n",
        "no_decay = ['bias', 'gamma', 'beta']\n",
        "optimizer_grouped_parameters = [\n",
        "        {'params': [p for n, p in param_optimizer if not any(nd in n for nd in no_decay)],\n",
        "         'weight_decay_rate': 0.01},\n",
        "        {'params': [p for n, p in param_optimizer if any(nd in n for nd in no_decay)],\n",
        "         'weight_decay_rate': 0.0}\n",
        "    ]\n",
        "\n",
        "optimizer = AdamW(\n",
        "    optimizer_grouped_parameters,\n",
        "    lr=1e-5,\n",
        "    eps=1e-8\n",
        ")\n",
        "epochs = 50\n",
        "max_grad_norm = 1.0\n",
        "\n",
        "total_steps = len(train_dataloader.dataset) * epochs\n",
        "warmup_steps = int(epochs * len(train_dataloader.dataset) * 0.1 / BATCH_SIZE) #mine\n",
        "\n",
        "\n",
        "scheduler = get_linear_schedule_with_warmup(\n",
        "    optimizer,\n",
        "    num_warmup_steps=0,\n",
        "    #num_warmup_steps=warmup_steps,\n",
        "    num_training_steps=total_steps\n",
        ")\n",
        "loss_fn = nn.CrossEntropyLoss().to(device)"
      ]
    },
    {
      "cell_type": "code",
      "execution_count": null,
      "metadata": {
        "id": "Xmvcc45KPunQ"
      },
      "outputs": [],
      "source": [
        "def train_epoch(model,data_loader,loss_fn,optimizer,device,scheduler):\n",
        "    model = model.train()\n",
        "    losses = []\n",
        "    correct_predictions = 0.\n",
        "    batch_no = 1\n",
        "    for step,batch in enumerate(data_loader):\n",
        "\n",
        "        batch = tuple(t.to(device) for t in batch)\n",
        "        b_input_ids, b_input_mask, b_labels = batch\n",
        "        \n",
        "        outputs,y_hat = model(b_input_ids,b_input_mask)\n",
        "        _,preds = torch.max(outputs,dim=2)\n",
        "\n",
        "        outputs = outputs.view(-1,outputs.shape[-1])\n",
        "        b_labels_shaped = b_labels.view(-1)\n",
        "\n",
        "        loss=loss_fn(outputs,b_labels_shaped)\n",
        "        correct_predictions += torch.sum(preds == b_labels)\n",
        "        losses.append(loss.item())\n",
        "        \n",
        "        loss.backward()\n",
        "        torch.nn.utils.clip_grad_norm_(parameters=model.parameters(), max_norm=max_grad_norm)\n",
        "        optimizer.step()\n",
        "        scheduler.step()\n",
        "        optimizer.zero_grad()\n",
        "        \n",
        "        batch_no=batch_no+1\n",
        "\n",
        "    return correct_predictions.double()/len(data_loader.dataset) , np.mean(losses)"
      ]
    },
    {
      "cell_type": "code",
      "execution_count": null,
      "metadata": {
        "id": "l3XQ10okPyIa"
      },
      "outputs": [],
      "source": [
        "def model_eval(model,data_loader,loss_fn,device):\n",
        "    model = model.eval()\n",
        "    \n",
        "    losses = []\n",
        "    correct_predictions = 0.\n",
        "\n",
        "    original_labels, new_labels = [], []\n",
        "    \n",
        "    with torch.no_grad():\n",
        "        for step, batch in enumerate(data_loader):\n",
        "            batch = tuple(t.to(device) for t in batch)\n",
        "            b_input_ids, b_input_mask, b_labels = batch\n",
        "            \n",
        "        \n",
        "            outputs,y_hat = model(b_input_ids,b_input_mask)\n",
        "        \n",
        "            _,preds = torch.max(outputs,dim=2)\n",
        "\n",
        "            outputs = outputs.view(-1,outputs.shape[-1])\n",
        "            b_labels_shaped = b_labels.view(-1)\n",
        "            loss = loss_fn(outputs,b_labels_shaped)\n",
        "            correct_predictions += torch.sum(preds == b_labels)\n",
        "            losses.append(loss.item())\n",
        "\n",
        "            label_indices = y_hat.to('cpu').numpy()\n",
        "            pred_indices = b_labels_shaped.to('cpu').numpy()\n",
        "\n",
        "            for label_idx,pred_idx in zip(label_indices,pred_indices):\n",
        "              new_labels.append(label_idx[0])\n",
        "              original_labels.append(pred_idx)\n",
        "\n",
        "        print('\\nPrecision_Score: ',precision_score(original_labels,new_labels,pos_label=1))\n",
        "        print('\\nRecall_Score: ',recall_score(original_labels,new_labels,pos_label=1))\n",
        "        print('\\nF_Score: ',f1_score(original_labels,new_labels,pos_label=1))\n",
        "    return correct_predictions/len(data_loader.dataset) , np.mean(losses)"
      ]
    },
    {
      "cell_type": "code",
      "execution_count": null,
      "metadata": {
        "id": "o6_FdiWSQWiB"
      },
      "outputs": [],
      "source": [
        "%%time\n",
        "history = defaultdict(list)\n",
        "loss_values = []\n",
        "\n",
        "for epoch in range(epochs):\n",
        "    \n",
        "    total_loss = 0\n",
        "    print(f'======== Epoch {epoch+1}/{epochs} ========')\n",
        "    train_acc,train_loss = train_epoch(model,train_dataloader,loss_fn,optimizer,device,scheduler)\n",
        "    print(f'Train Loss: {train_loss} Train Accuracy: {train_acc}')\n",
        "    total_loss += train_loss.item()\n",
        "    \n",
        "    avg_train_loss = total_loss / len(train_dataloader.dataset)  \n",
        "    loss_values.append(avg_train_loss)\n",
        "    \n",
        "    val_acc,val_loss = model_eval(model,valid_dataloader,loss_fn,device)\n",
        "    print(f'Val Loss: {val_loss} Val Accuracy: {val_acc}')\n",
        "    \n",
        "    history['train_loss'].append(train_loss)\n",
        "    history['train_acc'].append(train_acc)\n",
        "    \n",
        "    history['val_loss'].append(val_loss)\n",
        "    history['val_acc'].append(val_acc)"
      ]
    },
    {
      "cell_type": "code",
      "source": [
        "our_loss=history['train_loss']"
      ],
      "metadata": {
        "id": "lDEVqnVBDN2v"
      },
      "execution_count": null,
      "outputs": []
    },
    {
      "cell_type": "code",
      "source": [
        "#bert_loss=[0.8866538405418396, 0.9342406988143921, 0.8084975481033325, 0.7875945568084717, 0.8773744702339172, 0.8245067000389099, 0.7760425209999084, 0.7833065390586853, 0.8784903883934021, 0.7521083950996399, 0.7629628777503967, 0.7731646299362183, 0.7511080503463745, 0.7662729620933533, 0.6675549745559692, 0.7358502149581909, 0.6826362609863281, 0.7081995010375977, 0.7610237002372742, 0.600818395614624, 0.6761114001274109, 0.6231296062469482, 0.6330937743186951, 0.6377111673355103, 0.6592248678207397, 0.6200371980667114, 0.6300418972969055, 0.530722975730896, 0.582728385925293, 0.6248407363891602, 0.6432936191558838, 0.5868114233016968, 0.5864548087120056, 0.6127276420593262, 0.5213626623153687, 0.5535983443260193, 0.5250251889228821, 0.5742321610450745, 0.5466144680976868, 0.5156949162483215, 0.5675602555274963, 0.5409212708473206, 0.47458329796791077, 0.5359850525856018, 0.5276238322257996, 0.47876545786857605, 0.4741424322128296, 0.5069094300270081, 0.480573445558548, 0.4598500430583954]"
      ],
      "metadata": {
        "id": "IxmBZzXDDa3S"
      },
      "execution_count": null,
      "outputs": []
    },
    {
      "cell_type": "code",
      "source": [
        "#our_loss=[0.6374362856149673, 0.41055207028985025, 0.2826789185404778, 0.18426613807678222, 0.15332150217145682, 0.08633588925004006, 0.08309370633214712, 0.06551368031650781, 0.046512353443540634, 0.041783068259246645, 0.02842826563573908, 0.044740932759305, 0.026580724035738967, 0.05442602168186568, 0.04823765884939348, 0.03588703701934719, 0.03473370918436558, 0.029409932198905153, 0.044622573456945244, 0.03876869796549727, 0.039273201106698255, 0.04903118615038693, 0.0390444606760866, 0.043291153057361954, 0.05177566277998267, 0.04882260328176926, 0.0386690808880303, 0.045903233187345904, 0.03661390636953001, 0.03567352056925301, 0.04335395115122083, 0.03596844800194958, 0.04106156575890054, 0.03507911734341178, 0.03355573342341813, 0.0327464080766731, 0.04452912334563734, 0.04522518518206198, 0.03233414188180177, 0.04443824849149678, 0.03148247332464962, 0.028757146170755733, 0.04840938007146178, 0.02664915938039485, 0.0304911126717343, 0.03832555972076079, 0.029668028244486777, 0.038559455154972964, 0.03762170042245998, 0.03991389599686954]"
      ],
      "metadata": {
        "id": "f04_mY8bArcu"
      },
      "execution_count": null,
      "outputs": []
    },
    {
      "cell_type": "code",
      "source": [
        "sns.set_style('ticks',{'ytick.direction': 'in','xtick.direction': 'in','xtick.top': True,'ytick.right': True,'axes.spines.left': True})\n",
        "\n",
        "fig, ax = plt.subplots()\n",
        "# learning curve\n",
        "\n",
        "ax.plot(history['train_loss'],'b',label='EpidBioBERT')\n",
        "\n",
        "\n",
        "minor_locator = AutoMinorLocator(2)\n",
        "\n",
        "ax.tick_params(axis='x', which='minor', bottom=False, top=False)\n",
        "ax.yaxis.set_minor_locator(minor_locator)\n",
        "ax.yaxis.grid(True,which='major',linestyle='--',color='grey') \n",
        "ax.tick_params(axis='x', which='minor', bottom=False)\n",
        "\n",
        "\n",
        "plt.title(\"Training loss\")\n",
        "plt.xlabel(\"Epochs\")\n",
        "plt.ylabel(\"Loss\")\n",
        "plt.minorticks_on()\n",
        "plt.legend()\n",
        "\n",
        "plt.show()"
      ],
      "metadata": {
        "colab": {
          "base_uri": "https://localhost:8080/",
          "height": 421
        },
        "id": "37YVVugRDkFy",
        "outputId": "824d7a0a-befa-442b-a033-e019c78d7e9f"
      },
      "execution_count": null,
      "outputs": [
        {
          "output_type": "display_data",
          "data": {
            "image/png": "[encoded data removed]",
            "text/plain": [
              "<Figure size 864x432 with 1 Axes>"
            ]
          },
          "metadata": {}
        }
      ]
    }
  ],
  "metadata": {
    "accelerator": "GPU",
    "colab": {
      "collapsed_sections": [],
      "name": "Doc_SpacioTemp_Epid_FT.ipynb",
      "provenance": []
    },
    "kernelspec": {
      "display_name": "Python 3",
      "name": "python3"
    }
  },
  "nbformat": 4,
  "nbformat_minor": 0
}