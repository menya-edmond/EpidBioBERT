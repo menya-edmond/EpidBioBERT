{
  "nbformat": 4,
  "nbformat_minor": 0,
  "metadata": {
    "colab": {
      "name": "Doc_SpacioTemp_OneHot.ipynb",
      "provenance": [],
      "collapsed_sections": []
    },
    "kernelspec": {
      "name": "python3",
      "display_name": "Python 3"
    },
    "accelerator": "GPU"
  },
  "cells": [
    {
      "cell_type": "code",
      "metadata": {
        "id": "XH7anOV-B1qe"
      },
      "source": [
        "import pandas as pd\n",
        "import numpy as np\n",
        "import seaborn as sns\n",
        "import matplotlib.pyplot as plt\n",
        "import os\n",
        "import csv\n",
        "import nltk\n",
        "import json"
      ],
      "execution_count": null,
      "outputs": []
    },
    {
      "cell_type": "code",
      "metadata": {
        "id": "ab60wxksFEK1"
      },
      "source": [
        "from sklearn.feature_extraction.text import TfidfVectorizer\n",
        "from sklearn.naive_bayes import MultinomialNB\n",
        "from sklearn import svm\n",
        "from sklearn.pipeline import Pipeline\n",
        "from sklearn.metrics import accuracy_score,precision_recall_fscore_support,precision_score,recall_score,f1_score,confusion_matrix,classification_report\n",
        "from sklearn.model_selection import train_test_split,KFold,cross_val_score\n",
        "from sklearn.preprocessing import LabelEncoder\n",
        "from nltk.tokenize import word_tokenize\n",
        "from sklearn.decomposition import TruncatedSVD\n",
        "from keras.preprocessing.text import Tokenizer\n",
        "from keras.preprocessing.sequence import pad_sequences"
      ],
      "execution_count": null,
      "outputs": []
    },
    {
      "cell_type": "code",
      "metadata": {
        "colab": {
          "base_uri": "https://localhost:8080/"
        },
        "id": "SbFhhPnF5PRR",
        "outputId": "e520a3fc-41fc-425c-e562-958d579eddbc"
      },
      "source": [
        "nltk.download('punkt')"
      ],
      "execution_count": null,
      "outputs": [
        {
          "output_type": "stream",
          "name": "stdout",
          "text": [
            "[nltk_data] Downloading package punkt to /root/nltk_data...\n",
            "[nltk_data]   Package punkt is already up-to-date!\n"
          ]
        },
        {
          "output_type": "execute_result",
          "data": {
            "text/plain": [
              "True"
            ]
          },
          "metadata": {},
          "execution_count": 86
        }
      ]
    },
    {
      "cell_type": "code",
      "metadata": {
        "colab": {
          "base_uri": "https://localhost:8080/"
        },
        "id": "2xUaRpn3y6p4",
        "outputId": "3336c6f9-0b1c-4770-e6ec-06d0ddc5e99c"
      },
      "source": [
        "from google.colab import drive\n",
        "drive.mount('/content/drive')"
      ],
      "execution_count": null,
      "outputs": [
        {
          "output_type": "stream",
          "name": "stdout",
          "text": [
            "Drive already mounted at /content/drive; to attempt to forcibly remount, call drive.mount(\"/content/drive\", force_remount=True).\n"
          ]
        }
      ]
    },
    {
      "cell_type": "code",
      "metadata": {
        "id": "KEZfsL-ad32r"
      },
      "source": [
        "SEQ_LEN=128\n",
        "EMB_DEPTH=300"
      ],
      "execution_count": null,
      "outputs": []
    },
    {
      "cell_type": "code",
      "metadata": {
        "id": "rw98GuKnsiCt"
      },
      "source": [
        "corpora = '/content/drive/MyDrive/Colab Data/articles'\n",
        "tagged_data=[]\n",
        "irrelevant_docs=0\n",
        "irrelevant_docs_address=[]\n",
        "df_corpus={'Content':[],'Label':[]}\n",
        "\n",
        "for subdir, dirs, files in os.walk(corpora):\n",
        "  for file in files:\n",
        "    #print(data_file)\n",
        "    path = os.path.join(subdir, file)\n",
        "    #print(path)\n",
        "    \"\"\"print(tagged_file_content(json.load(open(path))),'\\n\\n')\n",
        "    del path\"\"\"\n",
        "    \n",
        "    with open(path,'r') as f:\n",
        "      data=json.load(f)\n",
        "      if data['candidateLabels']: #not an empty list thus relevant document\n",
        "        #tagged_data.append(tagged_file_content(data))\n",
        "\n",
        "        if data['content']:\n",
        "          df_corpus['Content'].append(data['content'].replace('\\r', '').replace('\\t', '').replace('\\n','').replace('&#13;',''))\n",
        "          df_corpus['Label'].append('relevant')\n",
        "        #else:\n",
        "          #print(path,'\\n')\n",
        "\n",
        "      else:#irrelevant document\n",
        "        \"\"\"df_corpus['Content'].append(data['content'])\n",
        "        df_corpus['Label'].append('irrelevant')\"\"\"\n",
        "\n",
        "        if data['content']:\n",
        "          df_corpus['Content'].append(data['content'].replace('\\r', '').replace('\\t', '').replace('\\n','').replace('&#13;',''))\n",
        "          df_corpus['Label'].append('irrelevant')\n",
        "        #else:\n",
        "          #print(path,'\\n')#some irrelevant articles have no content\n",
        "        \n",
        "        #irrelevant_docs=irrelevant_docs+1\n",
        "        #irrelevant_docs_address.append(path)\n",
        "        #break\n",
        "\n",
        "#print(\"Irrelevant Docs are: \",irrelevant_docs)"
      ],
      "execution_count": null,
      "outputs": []
    },
    {
      "cell_type": "code",
      "metadata": {
        "id": "gWJe-pPoGLRv"
      },
      "source": [
        "data=pd.DataFrame(df_corpus)"
      ],
      "execution_count": null,
      "outputs": []
    },
    {
      "cell_type": "code",
      "metadata": {
        "colab": {
          "base_uri": "https://localhost:8080/",
          "height": 206
        },
        "id": "Acpkn8n4GHCz",
        "outputId": "105011c7-f5ba-4cec-882d-f3ba9634e9cd"
      },
      "source": [
        "data.tail()"
      ],
      "execution_count": null,
      "outputs": [
        {
          "output_type": "execute_result",
          "data": {
            "text/html": [
              "\n",
              "  <div id=\"df-a55bab64-67d2-4259-9ea0-c70b0f4bc83b\">\n",
              "    <div class=\"colab-df-container\">\n",
              "      <div>\n",
              "<style scoped>\n",
              "    .dataframe tbody tr th:only-of-type {\n",
              "        vertical-align: middle;\n",
              "    }\n",
              "\n",
              "    .dataframe tbody tr th {\n",
              "        vertical-align: top;\n",
              "    }\n",
              "\n",
              "    .dataframe thead th {\n",
              "        text-align: right;\n",
              "    }\n",
              "</style>\n",
              "<table border=\"1\" class=\"dataframe\">\n",
              "  <thead>\n",
              "    <tr style=\"text-align: right;\">\n",
              "      <th></th>\n",
              "      <th>Content</th>\n",
              "      <th>Label</th>\n",
              "    </tr>\n",
              "  </thead>\n",
              "  <tbody>\n",
              "    <tr>\n",
              "      <th>498</th>\n",
              "      <td>Poultry News Low Pathogenic Avian Flu Outbreak...</td>\n",
              "      <td>relevant</td>\n",
              "    </tr>\n",
              "    <tr>\n",
              "      <th>499</th>\n",
              "      <td>In an update on the anthrax update at Lake N...</td>\n",
              "      <td>irrelevant</td>\n",
              "    </tr>\n",
              "    <tr>\n",
              "      <th>500</th>\n",
              "      <td>KUALA LUMPUR: Malaysian veterinary officials a...</td>\n",
              "      <td>irrelevant</td>\n",
              "    </tr>\n",
              "    <tr>\n",
              "      <th>501</th>\n",
              "      <td>By Vladislav VorotnikovVladislav Vorotnikov ,...</td>\n",
              "      <td>irrelevant</td>\n",
              "    </tr>\n",
              "    <tr>\n",
              "      <th>502</th>\n",
              "      <td>Middle East Respiratory Syndrome coronavirus ...</td>\n",
              "      <td>relevant</td>\n",
              "    </tr>\n",
              "  </tbody>\n",
              "</table>\n",
              "</div>\n",
              "      <button class=\"colab-df-convert\" onclick=\"convertToInteractive('df-a55bab64-67d2-4259-9ea0-c70b0f4bc83b')\"\n",
              "              title=\"Convert this dataframe to an interactive table.\"\n",
              "              style=\"display:none;\">\n",
              "        \n",
              "  <svg xmlns=\"http://www.w3.org/2000/svg\" height=\"24px\"viewBox=\"0 0 24 24\"\n",
              "       width=\"24px\">\n",
              "    <path d=\"M0 0h24v24H0V0z\" fill=\"none\"/>\n",
              "    <path d=\"M18.56 5.44l.94 2.06.94-2.06 2.06-.94-2.06-.94-.94-2.06-.94 2.06-2.06.94zm-11 1L8.5 8.5l.94-2.06 2.06-.94-2.06-.94L8.5 2.5l-.94 2.06-2.06.94zm10 10l.94 2.06.94-2.06 2.06-.94-2.06-.94-.94-2.06-.94 2.06-2.06.94z\"/><path d=\"M17.41 7.96l-1.37-1.37c-.4-.4-.92-.59-1.43-.59-.52 0-1.04.2-1.43.59L10.3 9.45l-7.72 7.72c-.78.78-.78 2.05 0 2.83L4 21.41c.39.39.9.59 1.41.59.51 0 1.02-.2 1.41-.59l7.78-7.78 2.81-2.81c.8-.78.8-2.07 0-2.86zM5.41 20L4 18.59l7.72-7.72 1.47 1.35L5.41 20z\"/>\n",
              "  </svg>\n",
              "      </button>\n",
              "      \n",
              "  <style>\n",
              "    .colab-df-container {\n",
              "      display:flex;\n",
              "      flex-wrap:wrap;\n",
              "      gap: 12px;\n",
              "    }\n",
              "\n",
              "    .colab-df-convert {\n",
              "      background-color: #E8F0FE;\n",
              "      border: none;\n",
              "      border-radius: 50%;\n",
              "      cursor: pointer;\n",
              "      display: none;\n",
              "      fill: #1967D2;\n",
              "      height: 32px;\n",
              "      padding: 0 0 0 0;\n",
              "      width: 32px;\n",
              "    }\n",
              "\n",
              "    .colab-df-convert:hover {\n",
              "      background-color: #E2EBFA;\n",
              "      box-shadow: 0px 1px 2px rgba(60, 64, 67, 0.3), 0px 1px 3px 1px rgba(60, 64, 67, 0.15);\n",
              "      fill: #174EA6;\n",
              "    }\n",
              "\n",
              "    [theme=dark] .colab-df-convert {\n",
              "      background-color: #3B4455;\n",
              "      fill: #D2E3FC;\n",
              "    }\n",
              "\n",
              "    [theme=dark] .colab-df-convert:hover {\n",
              "      background-color: #434B5C;\n",
              "      box-shadow: 0px 1px 3px 1px rgba(0, 0, 0, 0.15);\n",
              "      filter: drop-shadow(0px 1px 2px rgba(0, 0, 0, 0.3));\n",
              "      fill: #FFFFFF;\n",
              "    }\n",
              "  </style>\n",
              "\n",
              "      <script>\n",
              "        const buttonEl =\n",
              "          document.querySelector('#df-a55bab64-67d2-4259-9ea0-c70b0f4bc83b button.colab-df-convert');\n",
              "        buttonEl.style.display =\n",
              "          google.colab.kernel.accessAllowed ? 'block' : 'none';\n",
              "\n",
              "        async function convertToInteractive(key) {\n",
              "          const element = document.querySelector('#df-a55bab64-67d2-4259-9ea0-c70b0f4bc83b');\n",
              "          const dataTable =\n",
              "            await google.colab.kernel.invokeFunction('convertToInteractive',\n",
              "                                                     [key], {});\n",
              "          if (!dataTable) return;\n",
              "\n",
              "          const docLinkHtml = 'Like what you see? Visit the ' +\n",
              "            '<a target=\"_blank\" href=https://colab.research.google.com/notebooks/data_table.ipynb>data table notebook</a>'\n",
              "            + ' to learn more about interactive tables.';\n",
              "          element.innerHTML = '';\n",
              "          dataTable['output_type'] = 'display_data';\n",
              "          await google.colab.output.renderOutput(dataTable, element);\n",
              "          const docLink = document.createElement('div');\n",
              "          docLink.innerHTML = docLinkHtml;\n",
              "          element.appendChild(docLink);\n",
              "        }\n",
              "      </script>\n",
              "    </div>\n",
              "  </div>\n",
              "  "
            ],
            "text/plain": [
              "                                               Content       Label\n",
              "498  Poultry News Low Pathogenic Avian Flu Outbreak...    relevant\n",
              "499    In an update on the anthrax update at Lake N...  irrelevant\n",
              "500  KUALA LUMPUR: Malaysian veterinary officials a...  irrelevant\n",
              "501   By Vladislav VorotnikovVladislav Vorotnikov ,...  irrelevant\n",
              "502   Middle East Respiratory Syndrome coronavirus ...    relevant"
            ]
          },
          "metadata": {},
          "execution_count": 91
        }
      ]
    },
    {
      "cell_type": "code",
      "metadata": {
        "id": "uoRfAbnn-nrr"
      },
      "source": [
        "#data[data.isnull().any(axis=1)]"
      ],
      "execution_count": null,
      "outputs": []
    },
    {
      "cell_type": "code",
      "source": [
        "label_encoder=LabelEncoder()"
      ],
      "metadata": {
        "id": "AnYZ7qKZUn37"
      },
      "execution_count": null,
      "outputs": []
    },
    {
      "cell_type": "code",
      "source": [
        "label_encoder.fit(data['Label'])"
      ],
      "metadata": {
        "colab": {
          "base_uri": "https://localhost:8080/"
        },
        "id": "mDE91cNTUodk",
        "outputId": "083b2d58-f747-480c-cd14-4d8c4aef60ab"
      },
      "execution_count": null,
      "outputs": [
        {
          "output_type": "execute_result",
          "data": {
            "text/plain": [
              "LabelEncoder()"
            ]
          },
          "metadata": {},
          "execution_count": 94
        }
      ]
    },
    {
      "cell_type": "code",
      "metadata": {
        "id": "cR6z8Bw5CI9-"
      },
      "source": [
        "X=data['Content'].to_numpy()\n",
        "#y=data['Label'].to_numpy()\n",
        "y=label_encoder.transform(data['Label'])"
      ],
      "execution_count": null,
      "outputs": []
    },
    {
      "cell_type": "code",
      "metadata": {
        "id": "Bxlji-qr3GF8"
      },
      "source": [
        "#X_train[0].replace('\\r', '').replace('\\t', '').replace('\\n','').replace('&#13;','')"
      ],
      "execution_count": null,
      "outputs": []
    },
    {
      "cell_type": "code",
      "metadata": {
        "id": "5Ii0oDI-XMYc"
      },
      "source": [
        "tokenizer = Tokenizer(num_words= 30000,lower=False)"
      ],
      "execution_count": null,
      "outputs": []
    },
    {
      "cell_type": "code",
      "metadata": {
        "id": "eTqMEbp0Y3lD"
      },
      "source": [
        "tokenizer.fit_on_texts(data['Content'])"
      ],
      "execution_count": null,
      "outputs": []
    },
    {
      "cell_type": "code",
      "metadata": {
        "colab": {
          "base_uri": "https://localhost:8080/"
        },
        "id": "7mMyM01lXpKm",
        "outputId": "575b2325-4d0c-4e12-ffae-f0fda3e1e740"
      },
      "source": [
        "tokenizer.texts_to_sequences([\"utilize new market development opportunities\"])"
      ],
      "execution_count": null,
      "outputs": [
        {
          "output_type": "execute_result",
          "data": {
            "text/plain": [
              "[[13569, 88, 75, 301, 857]]"
            ]
          },
          "metadata": {},
          "execution_count": 99
        }
      ]
    },
    {
      "cell_type": "code",
      "metadata": {
        "colab": {
          "base_uri": "https://localhost:8080/"
        },
        "id": "qT15kshtb8Xc",
        "outputId": "3bd13a84-6eda-4862-cd23-abda7778edd0"
      },
      "source": [
        "tokenizer.sequences_to_texts([[13569, 88, 75, 301, 857]])"
      ],
      "execution_count": null,
      "outputs": [
        {
          "output_type": "execute_result",
          "data": {
            "text/plain": [
              "['utilize new market development opportunities']"
            ]
          },
          "metadata": {},
          "execution_count": 100
        }
      ]
    },
    {
      "cell_type": "code",
      "metadata": {
        "colab": {
          "base_uri": "https://localhost:8080/"
        },
        "id": "AanYPHE4ZO3D",
        "outputId": "9fee88d2-277d-4f55-ea45-61ea072c46da"
      },
      "source": [
        "sequences = tokenizer.texts_to_sequences([\"World's largest non-alcoholic beverages producer \"])\n",
        "datas = pad_sequences(sequences, maxlen= 4) \n",
        "print(datas) "
      ],
      "execution_count": null,
      "outputs": [
        {
          "output_type": "stream",
          "name": "stdout",
          "text": [
            "[[  625 13554 13555   961]]\n"
          ]
        }
      ]
    },
    {
      "cell_type": "code",
      "metadata": {
        "id": "G1ZUQtQk3xW2"
      },
      "source": [
        "xx=[]\n",
        "for document in X:\n",
        "  tokens=word_tokenize(document)\n",
        "  for token in tokens:\n",
        "    xx.append(token)"
      ],
      "execution_count": null,
      "outputs": []
    },
    {
      "cell_type": "code",
      "metadata": {
        "colab": {
          "base_uri": "https://localhost:8080/"
        },
        "id": "oaZDwr-gf9z5",
        "outputId": "9067bc8e-20f2-4733-e1c0-9f26cffb54fd"
      },
      "source": [
        "len(xx)"
      ],
      "execution_count": null,
      "outputs": [
        {
          "output_type": "execute_result",
          "data": {
            "text/plain": [
              "234689"
            ]
          },
          "metadata": {},
          "execution_count": 103
        }
      ]
    },
    {
      "cell_type": "code",
      "metadata": {
        "colab": {
          "base_uri": "https://localhost:8080/"
        },
        "id": "X7uA7qht6MJu",
        "outputId": "f749c043-f7ea-4034-8c98-346d5b10e794"
      },
      "source": [
        "xx[0:5]"
      ],
      "execution_count": null,
      "outputs": [
        {
          "output_type": "execute_result",
          "data": {
            "text/plain": [
              "['Instead', 'of', 'creating', 'unnecessary', 'fear']"
            ]
          },
          "metadata": {},
          "execution_count": 104
        }
      ]
    },
    {
      "cell_type": "code",
      "metadata": {
        "id": "FAj2graeHfgq"
      },
      "source": [
        "vectorizer=TfidfVectorizer()"
      ],
      "execution_count": null,
      "outputs": []
    },
    {
      "cell_type": "code",
      "metadata": {
        "id": "nStp2tst5kau"
      },
      "source": [
        "XX=vectorizer.fit_transform(xx)"
      ],
      "execution_count": null,
      "outputs": []
    },
    {
      "cell_type": "code",
      "metadata": {
        "colab": {
          "base_uri": "https://localhost:8080/"
        },
        "id": "yc_82a085qyd",
        "outputId": "bf1b0d5f-7820-4f12-a834-9eedc09c22e2"
      },
      "source": [
        "XX.shape"
      ],
      "execution_count": null,
      "outputs": [
        {
          "output_type": "execute_result",
          "data": {
            "text/plain": [
              "(234689, 16060)"
            ]
          },
          "metadata": {},
          "execution_count": 107
        }
      ]
    },
    {
      "cell_type": "code",
      "metadata": {
        "id": "A5QnGxZwRz6q"
      },
      "source": [
        "#vectorizer.vocabulary_"
      ],
      "execution_count": null,
      "outputs": []
    },
    {
      "cell_type": "code",
      "metadata": {
        "id": "aH7HuaMojTxT"
      },
      "source": [
        "svd=TruncatedSVD(n_components=EMB_DEPTH)"
      ],
      "execution_count": null,
      "outputs": []
    },
    {
      "cell_type": "code",
      "metadata": {
        "id": "rtSbDvDfjc7Q"
      },
      "source": [
        "one_hot_embeddings=svd.fit_transform(XX)"
      ],
      "execution_count": null,
      "outputs": []
    },
    {
      "cell_type": "code",
      "metadata": {
        "colab": {
          "base_uri": "https://localhost:8080/"
        },
        "id": "NBY3mPLJkkhp",
        "outputId": "bf1b3a52-d27d-4fb6-9295-8443c14ab9d9"
      },
      "source": [
        "one_hot_embeddings.shape"
      ],
      "execution_count": null,
      "outputs": [
        {
          "output_type": "execute_result",
          "data": {
            "text/plain": [
              "(234689, 300)"
            ]
          },
          "metadata": {},
          "execution_count": 111
        }
      ]
    },
    {
      "cell_type": "code",
      "metadata": {
        "id": "yj95iwbCpAlb"
      },
      "source": [
        "#one_hot_embeddings[3]"
      ],
      "execution_count": null,
      "outputs": []
    },
    {
      "cell_type": "code",
      "metadata": {
        "id": "qbcPJ-p759Z7"
      },
      "source": [
        "#XX.toarray()"
      ],
      "execution_count": null,
      "outputs": []
    },
    {
      "cell_type": "code",
      "metadata": {
        "id": "1f8S9YZi5vkx"
      },
      "source": [
        "#vectorizer.vocabulary_"
      ],
      "execution_count": null,
      "outputs": []
    },
    {
      "cell_type": "code",
      "metadata": {
        "id": "QziqR9Hmb4zl"
      },
      "source": [
        "#np.reshape(XX,(1,-1)).toarray()"
      ],
      "execution_count": null,
      "outputs": []
    },
    {
      "cell_type": "code",
      "metadata": {
        "id": "-Zy8YEqJoRKG",
        "colab": {
          "base_uri": "https://localhost:8080/"
        },
        "outputId": "f1ba6ab3-0651-4da9-8f9d-76ac155f8079"
      },
      "source": [
        "xx.index(\"largest\")"
      ],
      "execution_count": null,
      "outputs": [
        {
          "output_type": "execute_result",
          "data": {
            "text/plain": [
              "6575"
            ]
          },
          "metadata": {},
          "execution_count": 116
        }
      ]
    },
    {
      "cell_type": "code",
      "metadata": {
        "id": "4Q2MMyUGkWOk",
        "colab": {
          "base_uri": "https://localhost:8080/"
        },
        "outputId": "931e38f5-bc2a-49fc-e20d-072fcdbfb90e"
      },
      "source": [
        "'largest' in xx"
      ],
      "execution_count": null,
      "outputs": [
        {
          "output_type": "execute_result",
          "data": {
            "text/plain": [
              "True"
            ]
          },
          "metadata": {},
          "execution_count": 117
        }
      ]
    },
    {
      "cell_type": "code",
      "metadata": {
        "id": "1uxNbB94nx--"
      },
      "source": [
        "def document_vectorizer(document):\n",
        "  \"\"\"Embedds themtic features in PADI-Web News corpus with one hotted vectors\"\"\"\n",
        "  embed_list=[]\n",
        "  for i in range(0,len(document[0])):\n",
        "    word_index=document[0][i]\n",
        "    word=tokenizer.sequences_to_texts([[word_index]])[0]\n",
        "    if word in xx:\n",
        "      embed_list.append(one_hot_embeddings[xx.index(word)])\n",
        "    else:\n",
        "      embed_list.append(np.zeros((EMB_DEPTH,)))\n",
        "  return np.array(embed_list).flatten()"
      ],
      "execution_count": null,
      "outputs": []
    },
    {
      "cell_type": "code",
      "metadata": {
        "id": "i8GPAqaXqkEw",
        "colab": {
          "base_uri": "https://localhost:8080/"
        },
        "outputId": "737914d1-9f4b-4ab8-80f3-2eeb4f81505f"
      },
      "source": [
        "one_hot_embeddings[0].shape"
      ],
      "execution_count": null,
      "outputs": [
        {
          "output_type": "execute_result",
          "data": {
            "text/plain": [
              "(300,)"
            ]
          },
          "metadata": {},
          "execution_count": 120
        }
      ]
    },
    {
      "cell_type": "code",
      "metadata": {
        "id": "Y8mAwingpl68"
      },
      "source": [
        "embed=[]\n",
        "for document in X:\n",
        "  sequences = tokenizer.texts_to_sequences([document])\n",
        "  seq_document = pad_sequences(sequences, maxlen= SEQ_LEN, padding='post') \n",
        "  embed.append(document_vectorizer(seq_document))"
      ],
      "execution_count": null,
      "outputs": []
    },
    {
      "cell_type": "code",
      "metadata": {
        "id": "Em-DL2Fbsut6",
        "colab": {
          "base_uri": "https://localhost:8080/"
        },
        "outputId": "2e951708-b2d3-47f4-a09a-9bcea7060512"
      },
      "source": [
        "embed[123].shape"
      ],
      "execution_count": null,
      "outputs": [
        {
          "output_type": "execute_result",
          "data": {
            "text/plain": [
              "(38400,)"
            ]
          },
          "metadata": {},
          "execution_count": 123
        }
      ]
    },
    {
      "cell_type": "code",
      "metadata": {
        "id": "U4xjAWPsQYP3",
        "colab": {
          "base_uri": "https://localhost:8080/"
        },
        "outputId": "052bdd6e-3be5-48a9-db29-ea83a016d9b0"
      },
      "source": [
        "len(embed)"
      ],
      "execution_count": null,
      "outputs": [
        {
          "output_type": "execute_result",
          "data": {
            "text/plain": [
              "503"
            ]
          },
          "metadata": {},
          "execution_count": 124
        }
      ]
    },
    {
      "cell_type": "code",
      "metadata": {
        "id": "EmwHgmlpntQW"
      },
      "source": [
        "X_train,X_val,y_train,y_val=train_test_split(embed,y,test_size=0.2)\n",
        "\n",
        "X_train,X_test,y_train,y_test=train_test_split(X_train,y_train,test_size=0.2)"
      ],
      "execution_count": null,
      "outputs": []
    },
    {
      "cell_type": "code",
      "metadata": {
        "id": "CJKYquNnoyI2",
        "colab": {
          "base_uri": "https://localhost:8080/"
        },
        "outputId": "95a583c0-a301-40fe-9151-8d27f06b9527"
      },
      "source": [
        "len(X_train)"
      ],
      "execution_count": null,
      "outputs": [
        {
          "output_type": "execute_result",
          "data": {
            "text/plain": [
              "321"
            ]
          },
          "metadata": {},
          "execution_count": 128
        }
      ]
    },
    {
      "cell_type": "code",
      "metadata": {
        "id": "TZruES2ErU2T"
      },
      "source": [
        "cls=svm.SVC(kernel='rbf')"
      ],
      "execution_count": null,
      "outputs": []
    },
    {
      "cell_type": "code",
      "metadata": {
        "id": "BSTrdcmarVjn",
        "colab": {
          "base_uri": "https://localhost:8080/"
        },
        "outputId": "45fe441d-87e2-4eee-c5d4-ecd2cb32776a"
      },
      "source": [
        "cls.fit(X_train,y_train)"
      ],
      "execution_count": null,
      "outputs": [
        {
          "output_type": "execute_result",
          "data": {
            "text/plain": [
              "SVC()"
            ]
          },
          "metadata": {},
          "execution_count": 130
        }
      ]
    },
    {
      "cell_type": "code",
      "source": [
        "y_train"
      ],
      "metadata": {
        "colab": {
          "base_uri": "https://localhost:8080/"
        },
        "id": "TJthtlxLUHvo",
        "outputId": "63a3bca1-ba2c-47de-f8a9-268e952c6d4f"
      },
      "execution_count": null,
      "outputs": [
        {
          "output_type": "execute_result",
          "data": {
            "text/plain": [
              "array([0, 1, 0, 0, 0, 1, 0, 0, 0, 0, 0, 1, 0, 0, 0, 1, 0, 0, 1, 1, 0, 1,\n",
              "       1, 0, 1, 0, 0, 0, 0, 0, 0, 0, 1, 1, 0, 0, 1, 0, 0, 0, 0, 0, 0, 1,\n",
              "       0, 0, 1, 0, 0, 0, 0, 0, 0, 0, 0, 0, 0, 0, 1, 0, 1, 0, 0, 1, 0, 1,\n",
              "       0, 0, 0, 1, 1, 1, 0, 0, 1, 0, 0, 0, 1, 0, 1, 1, 0, 0, 0, 0, 0, 0,\n",
              "       1, 0, 0, 0, 0, 0, 0, 0, 0, 0, 1, 0, 1, 1, 1, 0, 0, 1, 1, 0, 0, 1,\n",
              "       1, 1, 0, 0, 0, 1, 0, 1, 0, 0, 0, 0, 1, 0, 0, 0, 0, 1, 0, 0, 1, 0,\n",
              "       0, 1, 0, 0, 1, 0, 0, 0, 1, 1, 0, 0, 0, 0, 0, 0, 0, 0, 1, 1, 0, 1,\n",
              "       0, 0, 0, 0, 0, 0, 1, 0, 0, 1, 1, 1, 1, 0, 0, 0, 1, 0, 0, 0, 0, 0,\n",
              "       0, 0, 1, 1, 1, 1, 1, 1, 0, 0, 1, 1, 1, 1, 0, 0, 0, 0, 0, 0, 0, 0,\n",
              "       0, 1, 1, 0, 0, 0, 0, 0, 1, 0, 0, 0, 0, 0, 1, 1, 0, 0, 0, 0, 0, 0,\n",
              "       0, 1, 1, 0, 1, 0, 0, 0, 0, 0, 1, 0, 1, 1, 1, 0, 1, 0, 1, 0, 0, 0,\n",
              "       0, 1, 1, 1, 0, 1, 0, 0, 0, 0, 0, 1, 0, 1, 0, 0, 1, 0, 1, 1, 1, 1,\n",
              "       0, 0, 0, 0, 0, 0, 0, 1, 0, 0, 0, 0, 1, 1, 0, 0, 1, 1, 1, 0, 0, 0,\n",
              "       0, 0, 0, 1, 1, 1, 1, 1, 1, 1, 0, 0, 1, 1, 1, 0, 0, 0, 1, 1, 1, 0,\n",
              "       1, 0, 1, 0, 0, 0, 1, 1, 1, 0, 0, 0, 0])"
            ]
          },
          "metadata": {},
          "execution_count": 131
        }
      ]
    },
    {
      "cell_type": "code",
      "source": [
        "result = {}\n",
        "for i in range(2,11):\n",
        "  kfold = KFold(n_splits=i)\n",
        "  c_validated = cross_val_score(cls,X_train,y_train,cv=kfold,scoring='f1') \n",
        "  result[i] = c_validated.mean()\n",
        "print(result)"
      ],
      "metadata": {
        "colab": {
          "base_uri": "https://localhost:8080/"
        },
        "id": "sfzC7EmeSOkl",
        "outputId": "fa9634a6-b25d-4e53-fef7-12f3b7ecdc41"
      },
      "execution_count": null,
      "outputs": [
        {
          "output_type": "stream",
          "name": "stdout",
          "text": [
            "{2: 0.22586427656850194, 3: 0.2545911817872207, 4: 0.2809649610678532, 5: 0.2375048480930834, 6: 0.2792809042809043, 7: 0.2411750530171583, 8: 0.30131897256510254, 9: 0.29998802939979413, 10: 0.24411382734912151}\n"
          ]
        }
      ]
    },
    {
      "cell_type": "code",
      "source": [
        "list(result.values())"
      ],
      "metadata": {
        "colab": {
          "base_uri": "https://localhost:8080/"
        },
        "id": "qSr6VRZRSZM9",
        "outputId": "51561436-b07a-4c24-e3a0-422f7e13f1fc"
      },
      "execution_count": null,
      "outputs": [
        {
          "output_type": "execute_result",
          "data": {
            "text/plain": [
              "[0.22586427656850194,\n",
              " 0.2545911817872207,\n",
              " 0.2809649610678532,\n",
              " 0.2375048480930834,\n",
              " 0.2792809042809043,\n",
              " 0.2411750530171583,\n",
              " 0.30131897256510254,\n",
              " 0.29998802939979413,\n",
              " 0.24411382734912151]"
            ]
          },
          "metadata": {},
          "execution_count": 133
        }
      ]
    },
    {
      "cell_type": "code",
      "metadata": {
        "id": "YQojAmLQuXWB"
      },
      "source": [
        "#cls.predict(X_test)"
      ],
      "execution_count": null,
      "outputs": []
    },
    {
      "cell_type": "code",
      "metadata": {
        "id": "Aaj45VDuuqTe",
        "colab": {
          "base_uri": "https://localhost:8080/"
        },
        "outputId": "78aa6502-4ec9-4afa-d82b-cd731962a443"
      },
      "source": [
        "y_train[0:5]"
      ],
      "execution_count": null,
      "outputs": [
        {
          "output_type": "execute_result",
          "data": {
            "text/plain": [
              "array([0, 1, 0, 0, 0])"
            ]
          },
          "metadata": {},
          "execution_count": 135
        }
      ]
    },
    {
      "cell_type": "code",
      "metadata": {
        "id": "4pwAQaV1pNXM"
      },
      "source": [
        "prediction=cls.predict(X_test)"
      ],
      "execution_count": null,
      "outputs": []
    },
    {
      "cell_type": "code",
      "metadata": {
        "id": "q2xF1z3EpRRh",
        "colab": {
          "base_uri": "https://localhost:8080/"
        },
        "outputId": "af8c7dc2-491c-40e0-da61-36353cf05ccb"
      },
      "source": [
        "print(accuracy_score(y_test,prediction))"
      ],
      "execution_count": null,
      "outputs": [
        {
          "output_type": "stream",
          "name": "stdout",
          "text": [
            "0.691358024691358\n"
          ]
        }
      ]
    },
    {
      "cell_type": "code",
      "metadata": {
        "id": "QupvW4jdpVfu"
      },
      "source": [
        "precision_score(y_test,prediction,pos_label='relevant')"
      ],
      "execution_count": null,
      "outputs": []
    },
    {
      "cell_type": "code",
      "metadata": {
        "id": "VOxFLM_ZstUT"
      },
      "source": [
        "recall_score(y_test,prediction,pos_label='relevant')"
      ],
      "execution_count": null,
      "outputs": []
    },
    {
      "cell_type": "code",
      "metadata": {
        "id": "O4FZT1QBszf-"
      },
      "source": [
        "f1_score(y_test,prediction,pos_label='relevant')"
      ],
      "execution_count": null,
      "outputs": []
    },
    {
      "cell_type": "code",
      "metadata": {
        "id": "orVNY86G-9uv"
      },
      "source": [
        "fig, ax = plt.subplots(figsize=(5,5)) \n",
        "sns.heatmap(pd.DataFrame(confusion_matrix(y_test, prediction)), annot=True, fmt='d', cmap='YlGnBu', alpha=0.8, vmin=0,ax=ax)"
      ],
      "execution_count": null,
      "outputs": []
    }
  ]
}