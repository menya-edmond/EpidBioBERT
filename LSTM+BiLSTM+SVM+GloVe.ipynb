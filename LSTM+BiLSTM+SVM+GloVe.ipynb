{
  "cells": [
    {
      "cell_type": "code",
      "execution_count": null,
      "metadata": {
        "id": "niFLVBtA9ugK"
      },
      "outputs": [],
      "source": [
        "#!python -m spacy download en_core_web_md"
      ]
    },
    {
      "cell_type": "code",
      "execution_count": null,
      "metadata": {
        "id": "CSnlk7OtfeAp"
      },
      "outputs": [],
      "source": [
        "from sklearn.feature_extraction.text import TfidfVectorizer\n",
        "from sklearn.decomposition import PCA\n",
        "from sklearn.naive_bayes import MultinomialNB\n",
        "from sklearn import svm\n",
        "from sklearn.pipeline import Pipeline\n",
        "from sklearn.metrics import accuracy_score,precision_recall_fscore_support,precision_score,recall_score,f1_score,confusion_matrix,classification_report\n",
        "from sklearn.model_selection import train_test_split,KFold,cross_val_score\n",
        "from sklearn.preprocessing import LabelEncoder\n",
        "import matplotlib.pyplot as plt"
      ]
    },
    {
      "cell_type": "code",
      "execution_count": null,
      "metadata": {
        "id": "kQIg6LIrlCG4"
      },
      "outputs": [],
      "source": [
        "import pandas as pd\n",
        "import numpy as np\n",
        "import seaborn as sns\n",
        "import matplotlib.pyplot as plt\n",
        "import keras.backend as K\n",
        "import tensorflow as tf\n",
        "import os\n",
        "import csv\n",
        "import nltk\n",
        "import spacy\n",
        "import json"
      ]
    },
    {
      "cell_type": "code",
      "execution_count": null,
      "metadata": {
        "id": "5NDxgRFQGHKH"
      },
      "outputs": [],
      "source": [
        "from tensorflow.keras.models import *\n",
        "from tensorflow.keras.layers import *\n",
        "from tensorflow.keras.callbacks import *\n",
        "from tensorflow.keras.preprocessing.text import Tokenizer\n",
        "from tensorflow.keras.preprocessing.sequence import pad_sequences"
      ]
    },
    {
      "cell_type": "code",
      "execution_count": null,
      "metadata": {
        "id": "gUrcOjjB4xsi"
      },
      "outputs": [],
      "source": [
        "embedding_file=spacy.load('en_core_web_md')"
      ]
    },
    {
      "cell_type": "code",
      "execution_count": null,
      "metadata": {
        "id": "uzkVu3eZ9yMV"
      },
      "outputs": [],
      "source": [
        "#embedding_file('the').vector"
      ]
    },
    {
      "cell_type": "code",
      "execution_count": null,
      "metadata": {
        "id": "GYkAronEwXvr",
        "colab": {
          "base_uri": "https://localhost:8080/"
        },
        "outputId": "f8590df3-ddb1-4a8e-cbc3-3b939cad097d"
      },
      "outputs": [
        {
          "output_type": "stream",
          "name": "stdout",
          "text": [
            "Mounted at /content/drive\n"
          ]
        }
      ],
      "source": [
        "from google.colab import drive\n",
        "drive.mount('/content/drive')"
      ]
    },
    {
      "cell_type": "code",
      "execution_count": null,
      "metadata": {
        "id": "rw98GuKnsiCt"
      },
      "outputs": [],
      "source": [
        "corpora = '/content/drive/MyDrive/Colab Data/articles'\n",
        "tagged_data=[]\n",
        "irrelevant_docs=0\n",
        "irrelevant_docs_address=[]\n",
        "df_corpus={'Content':[],'Label':[]}\n",
        "\n",
        "for subdir, dirs, files in os.walk(corpora):\n",
        "  for file in files:\n",
        "    #print(data_file)\n",
        "    path = os.path.join(subdir, file)\n",
        "    with open(path,'r') as f:\n",
        "      data=json.load(f)\n",
        "      if data['candidateLabels']: #not an empty list thus relevant document\n",
        "\n",
        "        if data['content']:\n",
        "          df_corpus['Content'].append(data['content'].replace('\\r', '').replace('\\t', '').replace('\\n','').replace('&#13;',''))\n",
        "          df_corpus['Label'].append('relevant')\n",
        "      else:#irrelevant document\n",
        "        \"\"\"df_corpus['Content'].append(data['content'])\n",
        "        df_corpus['Label'].append('irrelevant')\"\"\"\n",
        "\n",
        "        if data['content']:\n",
        "          df_corpus['Content'].append(data['content'].replace('\\r', '').replace('\\t', '').replace('\\n','').replace('&#13;',''))\n",
        "          df_corpus['Label'].append('irrelevant')"
      ]
    },
    {
      "cell_type": "code",
      "execution_count": null,
      "metadata": {
        "id": "y4o4sN_S00-H"
      },
      "outputs": [],
      "source": [
        "data=pd.DataFrame(df_corpus)"
      ]
    },
    {
      "cell_type": "code",
      "execution_count": null,
      "metadata": {
        "id": "mAnMG5suL3cT"
      },
      "outputs": [],
      "source": [
        "tokenizer=Tokenizer()\n",
        "label_encoder=LabelEncoder()"
      ]
    },
    {
      "cell_type": "code",
      "execution_count": null,
      "metadata": {
        "id": "qkNGKtB8QTv6",
        "colab": {
          "base_uri": "https://localhost:8080/"
        },
        "outputId": "05c3d802-f5bc-43ab-a7e3-01fd35038583"
      },
      "outputs": [
        {
          "output_type": "execute_result",
          "data": {
            "text/plain": [
              "LabelEncoder()"
            ]
          },
          "metadata": {},
          "execution_count": 11
        }
      ],
      "source": [
        "label_encoder.fit(data['Label'])"
      ]
    },
    {
      "cell_type": "code",
      "execution_count": null,
      "metadata": {
        "id": "_amzBRS9Mz1I"
      },
      "outputs": [],
      "source": [
        "X=data['Content']\n",
        "y=label_encoder.transform(data['Label'])"
      ]
    },
    {
      "cell_type": "code",
      "execution_count": null,
      "metadata": {
        "id": "Dv87zojWOLwD"
      },
      "outputs": [],
      "source": [
        "cls_2=svm.SVC(kernel='rbf')"
      ]
    },
    {
      "cell_type": "code",
      "execution_count": null,
      "metadata": {
        "id": "70xM3e7tMAPW"
      },
      "outputs": [],
      "source": [
        "tokenizer.fit_on_texts(X)"
      ]
    },
    {
      "cell_type": "code",
      "execution_count": null,
      "metadata": {
        "id": "quAZxd_gMFKD",
        "colab": {
          "base_uri": "https://localhost:8080/"
        },
        "outputId": "507b2d8b-ed2e-47c7-ba68-435157bfc7a2"
      },
      "outputs": [
        {
          "output_type": "execute_result",
          "data": {
            "text/plain": [
              "18021"
            ]
          },
          "metadata": {},
          "execution_count": 18
        }
      ],
      "source": [
        "size_of_vocab=len(tokenizer.word_index)+1\n",
        "size_of_vocab"
      ]
    },
    {
      "cell_type": "code",
      "execution_count": null,
      "metadata": {
        "id": "FAj3RHpJ5jbZ"
      },
      "outputs": [],
      "source": [
        "embedding_matrix=np.zeros((size_of_vocab,300))\n",
        "i=0\n",
        "for word in tokenizer.word_index:\n",
        "  embedding_vector=embedding_file(word).vector\n",
        "  if embedding_vector is not None:\n",
        "    embedding_matrix[i]=embedding_vector\n",
        "  i=i+1"
      ]
    },
    {
      "cell_type": "code",
      "execution_count": null,
      "metadata": {
        "id": "oIve52RTNCG_"
      },
      "outputs": [],
      "source": [
        "X_train,X_val,y_train,y_val=train_test_split(X,y,test_size=0.2)\n",
        "\n",
        "X_train,X_test,y_train,y_test=train_test_split(X_train,y_train,test_size=0.2)"
      ]
    },
    {
      "cell_type": "code",
      "execution_count": null,
      "metadata": {
        "id": "zWS0UfRVNE8Z"
      },
      "outputs": [],
      "source": [
        "x_train_seq=tokenizer.texts_to_sequences(X_train)\n",
        "x_test_seq=tokenizer.texts_to_sequences(X_test)\n",
        "#x_val_seq=tokenizer.texts_to_sequences(X_val)"
      ]
    },
    {
      "cell_type": "code",
      "execution_count": null,
      "metadata": {
        "id": "BtO5Tjg4NmjG"
      },
      "outputs": [],
      "source": [
        "SEQ_LEN=128\n",
        "x_tr_seq=pad_sequences(x_train_seq,maxlen=SEQ_LEN)\n",
        "#x_val_seq=pad_sequences(x_val_seq,maxlen=SEQ_LEN)\n",
        "x_test_seq=pad_sequences(x_test_seq,maxlen=SEQ_LEN)"
      ]
    },
    {
      "cell_type": "code",
      "execution_count": null,
      "metadata": {
        "id": "l2Z7ZoNDOX-6",
        "colab": {
          "base_uri": "https://localhost:8080/"
        },
        "outputId": "72a3155b-680a-44d3-e6ec-2a0bd82e55a2"
      },
      "outputs": [
        {
          "output_type": "execute_result",
          "data": {
            "text/plain": [
              "(321, 128)"
            ]
          },
          "metadata": {},
          "execution_count": 23
        }
      ],
      "source": [
        "x_tr_seq.shape"
      ]
    },
    {
      "cell_type": "code",
      "execution_count": null,
      "metadata": {
        "id": "1lbIzEv_eAum",
        "colab": {
          "base_uri": "https://localhost:8080/"
        },
        "outputId": "e4f4ecc5-1349-4055-ced1-c51869ac1adf"
      },
      "outputs": [
        {
          "output_type": "execute_result",
          "data": {
            "text/plain": [
              "['the eu’s trade notification system traces shows there have been no direct cattle or sheep goat imports into the uk from this region or the neighbouring puy de dome region since 1 august “however as many consignments come through assembly centres it is not always obvious what the place of origin would be and therefore livestock keepers in the uk should be vigilant to possible clinical signs ” said defra “until the origin of disease is understood and the extent of spread it is difficult to assess whether this outbreak signifies an increase in our risk level from low to medium meteorological modelling of recent weather conditions to assess whether the uk has been at risk of incursion in the past two months will be carried out ”']"
            ]
          },
          "metadata": {},
          "execution_count": 24
        }
      ],
      "source": [
        "tokenizer.sequences_to_texts(list([x_tr_seq[0]]))"
      ]
    },
    {
      "cell_type": "code",
      "execution_count": null,
      "metadata": {
        "id": "I_JsSbOXFiUp"
      },
      "outputs": [],
      "source": [
        "model=Sequential()\n",
        "model.add(Embedding(size_of_vocab,300,weights=[embedding_matrix],input_length=SEQ_LEN,trainable=True))#,weights=[embedding_matrix]\n",
        "model.add(LSTM(128,return_sequences=True,dropout=0.2))\n",
        "#model.add(Bidirectional(LSTM(128,return_sequences=True,dropout=0.2)))\n",
        "model.add(GlobalMaxPool1D())\n",
        "model.add(Dense(64,activation='relu'))\n",
        "model.add(Dense(2,activation='softmax'))"
      ]
    },
    {
      "cell_type": "code",
      "execution_count": null,
      "metadata": {
        "id": "m-6mlegbFzgW"
      },
      "outputs": [],
      "source": [
        "model.compile(optimizer='adam',loss='sparse_categorical_crossentropy',metrics=['Accuracy'])\n",
        "es=EarlyStopping(monitor='val_loss',mode='min',verbose=1,patience=3)\n",
        "mc=ModelCheckpoint('best_model.h5',monitor='val_acc',mode='max',save_best_only=True,verbose=1)"
      ]
    },
    {
      "cell_type": "code",
      "execution_count": null,
      "metadata": {
        "id": "kzUwN9CLFz-E",
        "colab": {
          "base_uri": "https://localhost:8080/"
        },
        "outputId": "856e01ea-4279-45ef-839e-3de193b11578"
      },
      "outputs": [
        {
          "output_type": "stream",
          "name": "stdout",
          "text": [
            "Model: \"sequential\"\n",
            "_________________________________________________________________\n",
            " Layer (type)                Output Shape              Param #   \n",
            "=================================================================\n",
            " embedding (Embedding)       (None, 128, 300)          5406300   \n",
            "                                                                 \n",
            " lstm (LSTM)                 (None, 128, 128)          219648    \n",
            "                                                                 \n",
            " global_max_pooling1d (Globa  (None, 128)              0         \n",
            " lMaxPooling1D)                                                  \n",
            "                                                                 \n",
            " dense (Dense)               (None, 64)                8256      \n",
            "                                                                 \n",
            " dense_1 (Dense)             (None, 2)                 130       \n",
            "                                                                 \n",
            "=================================================================\n",
            "Total params: 5,634,334\n",
            "Trainable params: 5,634,334\n",
            "Non-trainable params: 0\n",
            "_________________________________________________________________\n"
          ]
        }
      ],
      "source": [
        "model.summary()"
      ]
    },
    {
      "cell_type": "code",
      "execution_count": null,
      "metadata": {
        "id": "huGt6lVDRCKY",
        "colab": {
          "base_uri": "https://localhost:8080/"
        },
        "outputId": "60fe75e1-361a-4015-c8b6-094d46cfe3e4"
      },
      "outputs": [
        {
          "output_type": "execute_result",
          "data": {
            "text/plain": [
              "SVC()"
            ]
          },
          "metadata": {},
          "execution_count": 28
        }
      ],
      "source": [
        "cls_2.fit(x_tr_seq,y_train)"
      ]
    },
    {
      "cell_type": "code",
      "source": [
        "y_train"
      ],
      "metadata": {
        "id": "jCDeLj3oUKvt"
      },
      "execution_count": null,
      "outputs": []
    },
    {
      "cell_type": "code",
      "source": [
        "result = {}\n",
        "for i in range(2,11):\n",
        "  kfold = KFold(n_splits=i)\n",
        "  c_validated = cross_val_score(cls_2,x_tr_seq,y_train,cv=kfold,scoring='f1') \n",
        "  result[i] = c_validated.mean()\n",
        "print(result)"
      ],
      "metadata": {
        "id": "Ey-I0Fm1zftw",
        "colab": {
          "base_uri": "https://localhost:8080/"
        },
        "outputId": "ed5d59b9-78a4-47ac-bdc2-54901086e1cb"
      },
      "execution_count": null,
      "outputs": [
        {
          "output_type": "stream",
          "name": "stdout",
          "text": [
            "{2: 0.18085106382978725, 3: 0.26209992193598747, 4: 0.20079558123036384, 5: 0.14523684975297874, 6: 0.1713391984359726, 7: 0.18736009985437904, 8: 0.17591514844804318, 9: 0.18596760443307758, 10: 0.1731022073901331}\n"
          ]
        }
      ]
    },
    {
      "cell_type": "code",
      "source": [
        "plt.plot(list(result.keys()),list(result.values()))\n",
        "plt.ylabel('F1-Score')\n",
        "plt.xlabel('K-Fold Cross Validation')\n",
        "plt.show()"
      ],
      "metadata": {
        "colab": {
          "base_uri": "https://localhost:8080/",
          "height": 279
        },
        "id": "0P2JTvCYGJTe",
        "outputId": "2c180263-15bb-49c1-aed7-6a655de78d86"
      },
      "execution_count": null,
      "outputs": [
        {
          "output_type": "display_data",
          "data": {
            "image/png": "[encoded data removed]",
            "text/plain": [
              "<Figure size 432x288 with 1 Axes>"
            ]
          },
          "metadata": {
            "needs_background": "light"
          }
        }
      ]
    },
    {
      "cell_type": "code",
      "source": [
        "c_validated"
      ],
      "metadata": {
        "id": "G1ubHeLe0NRQ",
        "colab": {
          "base_uri": "https://localhost:8080/"
        },
        "outputId": "f6b5a2dd-14eb-486c-a981-1b2d95fcd075"
      },
      "execution_count": null,
      "outputs": [
        {
          "output_type": "execute_result",
          "data": {
            "text/plain": [
              "array([0.37735849, 0.51345029, 0.63636364, 0.40740741, 0.39622642,\n",
              "       0.37662338, 0.45142857, 0.36374269, 0.47934919, 0.5       ])"
            ]
          },
          "metadata": {},
          "execution_count": 31
        }
      ]
    },
    {
      "cell_type": "code",
      "execution_count": null,
      "metadata": {
        "id": "saurC8CLRM0o"
      },
      "outputs": [],
      "source": [
        "prediction=cls_2.predict(x_test_seq)"
      ]
    },
    {
      "cell_type": "code",
      "execution_count": null,
      "metadata": {
        "id": "suJLWDWDRVIe",
        "colab": {
          "base_uri": "https://localhost:8080/"
        },
        "outputId": "9e4e74e1-6371-4989-da6a-2907921d9d75"
      },
      "outputs": [
        {
          "output_type": "stream",
          "name": "stdout",
          "text": [
            "0.7283950617283951\n"
          ]
        }
      ],
      "source": [
        "print(accuracy_score(y_test,prediction))"
      ]
    },
    {
      "cell_type": "code",
      "execution_count": null,
      "metadata": {
        "id": "QeJf-1X9RZre",
        "colab": {
          "base_uri": "https://localhost:8080/"
        },
        "outputId": "e067843c-6d5f-4839-a683-0ce4c20fb39f"
      },
      "outputs": [
        {
          "output_type": "execute_result",
          "data": {
            "text/plain": [
              "0.7272727272727273"
            ]
          },
          "metadata": {},
          "execution_count": 34
        }
      ],
      "source": [
        "precision_score(y_test,prediction,pos_label=1)"
      ]
    },
    {
      "cell_type": "code",
      "execution_count": null,
      "metadata": {
        "id": "YkHp9E8xRix8",
        "colab": {
          "base_uri": "https://localhost:8080/"
        },
        "outputId": "d1518687-7015-4374-af00-62fa954e8f49"
      },
      "outputs": [
        {
          "output_type": "execute_result",
          "data": {
            "text/plain": [
              "0.2962962962962963"
            ]
          },
          "metadata": {},
          "execution_count": 35
        }
      ],
      "source": [
        "recall_score(y_test,prediction,pos_label=1)"
      ]
    },
    {
      "cell_type": "code",
      "execution_count": null,
      "metadata": {
        "id": "TbXfrsGdRmaE",
        "colab": {
          "base_uri": "https://localhost:8080/"
        },
        "outputId": "c81380b9-ec03-4ee1-e7c3-1b7a0412362d"
      },
      "outputs": [
        {
          "output_type": "execute_result",
          "data": {
            "text/plain": [
              "0.42105263157894735"
            ]
          },
          "metadata": {},
          "execution_count": 36
        }
      ],
      "source": [
        "f1_score(y_test,prediction,pos_label=1)"
      ]
    },
    {
      "cell_type": "code",
      "execution_count": null,
      "metadata": {
        "id": "hucCS7pMtjER",
        "colab": {
          "base_uri": "https://localhost:8080/"
        },
        "outputId": "cbb47d16-297b-4459-b8a8-3a2bb3233c6c"
      },
      "outputs": [
        {
          "output_type": "stream",
          "name": "stdout",
          "text": [
            "Epoch 1/50\n",
            "6/6 [==============================] - 5s 47ms/step - loss: 0.6680 - Accuracy: 0.6293\n",
            "Epoch 2/50\n",
            "6/6 [==============================] - 0s 39ms/step - loss: 0.6347 - Accuracy: 0.6324\n",
            "Epoch 3/50\n",
            "6/6 [==============================] - 0s 36ms/step - loss: 0.6178 - Accuracy: 0.7009\n",
            "Epoch 4/50\n",
            "6/6 [==============================] - 0s 35ms/step - loss: 0.5986 - Accuracy: 0.6854\n",
            "Epoch 5/50\n",
            "6/6 [==============================] - 0s 34ms/step - loss: 0.5756 - Accuracy: 0.6854\n",
            "Epoch 6/50\n",
            "6/6 [==============================] - 0s 32ms/step - loss: 0.5559 - Accuracy: 0.7165\n",
            "Epoch 7/50\n",
            "6/6 [==============================] - 0s 32ms/step - loss: 0.5395 - Accuracy: 0.6511\n",
            "Epoch 8/50\n",
            "6/6 [==============================] - 0s 32ms/step - loss: 0.5097 - Accuracy: 0.6854\n",
            "Epoch 9/50\n",
            "6/6 [==============================] - 0s 31ms/step - loss: 0.4449 - Accuracy: 0.8162\n",
            "Epoch 10/50\n",
            "6/6 [==============================] - 0s 33ms/step - loss: 0.4479 - Accuracy: 0.8442\n",
            "Epoch 11/50\n",
            "6/6 [==============================] - 0s 31ms/step - loss: 0.3680 - Accuracy: 0.9003\n",
            "Epoch 12/50\n",
            "6/6 [==============================] - 0s 32ms/step - loss: 0.3747 - Accuracy: 0.8131\n",
            "Epoch 13/50\n",
            "6/6 [==============================] - 0s 32ms/step - loss: 0.3365 - Accuracy: 0.8785\n",
            "Epoch 14/50\n",
            "6/6 [==============================] - 0s 32ms/step - loss: 0.3103 - Accuracy: 0.8536\n",
            "Epoch 15/50\n",
            "6/6 [==============================] - 0s 32ms/step - loss: 0.2605 - Accuracy: 0.9221\n",
            "Epoch 16/50\n",
            "6/6 [==============================] - 0s 33ms/step - loss: 0.1820 - Accuracy: 0.9439\n",
            "Epoch 17/50\n",
            "6/6 [==============================] - 0s 34ms/step - loss: 0.1550 - Accuracy: 0.9439\n",
            "Epoch 18/50\n",
            "6/6 [==============================] - 0s 32ms/step - loss: 0.1113 - Accuracy: 0.9688\n",
            "Epoch 19/50\n",
            "6/6 [==============================] - 0s 33ms/step - loss: 0.0955 - Accuracy: 0.9626\n",
            "Epoch 20/50\n",
            "6/6 [==============================] - 0s 32ms/step - loss: 0.1062 - Accuracy: 0.9564\n",
            "Epoch 21/50\n",
            "6/6 [==============================] - 0s 32ms/step - loss: 0.0835 - Accuracy: 0.9751\n",
            "Epoch 22/50\n",
            "6/6 [==============================] - 0s 32ms/step - loss: 0.0688 - Accuracy: 0.9751\n",
            "Epoch 23/50\n",
            "6/6 [==============================] - 0s 33ms/step - loss: 0.0627 - Accuracy: 0.9751\n",
            "Epoch 24/50\n",
            "6/6 [==============================] - 0s 32ms/step - loss: 0.0414 - Accuracy: 0.9844\n",
            "Epoch 25/50\n",
            "6/6 [==============================] - 0s 32ms/step - loss: 0.0492 - Accuracy: 0.9844\n",
            "Epoch 26/50\n",
            "6/6 [==============================] - 0s 32ms/step - loss: 0.0389 - Accuracy: 0.9813\n",
            "Epoch 27/50\n",
            "6/6 [==============================] - 0s 33ms/step - loss: 0.0337 - Accuracy: 0.9782\n",
            "Epoch 28/50\n",
            "6/6 [==============================] - 0s 33ms/step - loss: 0.0409 - Accuracy: 0.9782\n",
            "Epoch 29/50\n",
            "6/6 [==============================] - 0s 33ms/step - loss: 0.0444 - Accuracy: 0.9720\n",
            "Epoch 30/50\n",
            "6/6 [==============================] - 0s 32ms/step - loss: 0.0356 - Accuracy: 0.9875\n",
            "Epoch 31/50\n",
            "6/6 [==============================] - 0s 32ms/step - loss: 0.0338 - Accuracy: 0.9813\n",
            "Epoch 32/50\n",
            "6/6 [==============================] - 0s 32ms/step - loss: 0.0288 - Accuracy: 0.9813\n",
            "Epoch 33/50\n",
            "6/6 [==============================] - 0s 33ms/step - loss: 0.0331 - Accuracy: 0.9751\n",
            "Epoch 34/50\n",
            "6/6 [==============================] - 0s 32ms/step - loss: 0.0276 - Accuracy: 0.9844\n",
            "Epoch 35/50\n",
            "6/6 [==============================] - 0s 33ms/step - loss: 0.0320 - Accuracy: 0.9782\n",
            "Epoch 36/50\n",
            "6/6 [==============================] - 0s 33ms/step - loss: 0.0292 - Accuracy: 0.9813\n",
            "Epoch 37/50\n",
            "6/6 [==============================] - 0s 33ms/step - loss: 0.3928 - Accuracy: 0.8100\n",
            "Epoch 38/50\n",
            "6/6 [==============================] - 0s 31ms/step - loss: 0.2151 - Accuracy: 0.8910\n",
            "Epoch 39/50\n",
            "6/6 [==============================] - 0s 31ms/step - loss: 0.1128 - Accuracy: 0.9813\n",
            "Epoch 40/50\n",
            "6/6 [==============================] - 0s 32ms/step - loss: 0.1146 - Accuracy: 0.9720\n",
            "Epoch 41/50\n",
            "6/6 [==============================] - 0s 33ms/step - loss: 0.0822 - Accuracy: 0.9813\n",
            "Epoch 42/50\n",
            "6/6 [==============================] - 0s 32ms/step - loss: 0.0748 - Accuracy: 0.9875\n",
            "Epoch 43/50\n",
            "6/6 [==============================] - 0s 32ms/step - loss: 0.0615 - Accuracy: 0.9844\n",
            "Epoch 44/50\n",
            "6/6 [==============================] - 0s 33ms/step - loss: 0.0549 - Accuracy: 0.9907\n",
            "Epoch 45/50\n",
            "6/6 [==============================] - 0s 33ms/step - loss: 0.0521 - Accuracy: 0.9782\n",
            "Epoch 46/50\n",
            "6/6 [==============================] - 0s 32ms/step - loss: 0.0484 - Accuracy: 0.9844\n",
            "Epoch 47/50\n",
            "6/6 [==============================] - 0s 33ms/step - loss: 0.0453 - Accuracy: 0.9844\n",
            "Epoch 48/50\n",
            "6/6 [==============================] - 0s 33ms/step - loss: 0.0407 - Accuracy: 0.9844\n",
            "Epoch 49/50\n",
            "6/6 [==============================] - 0s 33ms/step - loss: 0.0378 - Accuracy: 0.9875\n",
            "Epoch 50/50\n",
            "6/6 [==============================] - 0s 32ms/step - loss: 0.0339 - Accuracy: 0.9875\n"
          ]
        }
      ],
      "source": [
        "BATCH_SIZE=64\n",
        "epochs=50\n",
        "history=model.fit(x_tr_seq,y_train,batch_size=BATCH_SIZE,epochs=epochs)#,validation_data=(x_val_seq,y_val),verbose=1,callbacks=[es,mc],validation_steps=1)"
      ]
    },
    {
      "cell_type": "code",
      "execution_count": null,
      "metadata": {
        "id": "kK72IpWf2-Qr",
        "colab": {
          "base_uri": "https://localhost:8080/"
        },
        "outputId": "0d397415-a72e-41f5-8e35-aaf2d056421a"
      },
      "outputs": [
        {
          "output_type": "stream",
          "name": "stdout",
          "text": [
            "2/2 [==============================] - 1s 16ms/step - loss: 0.3006 - Accuracy: 0.8519\n",
            "0.8518518805503845\n"
          ]
        }
      ],
      "source": [
        "_,test_acc=model.evaluate(x_test_seq,y_test,batch_size=64)\n",
        "print(test_acc)"
      ]
    },
    {
      "cell_type": "code",
      "execution_count": null,
      "metadata": {
        "id": "QZjZLTSD-0fQ"
      },
      "outputs": [],
      "source": [
        "predictions=model.predict(x_test_seq)"
      ]
    },
    {
      "cell_type": "code",
      "execution_count": null,
      "metadata": {
        "id": "YU6kVkGv_ghP"
      },
      "outputs": [],
      "source": [
        "#predictions.shape"
      ]
    },
    {
      "cell_type": "code",
      "execution_count": null,
      "metadata": {
        "id": "vJKEx0fl_UL7"
      },
      "outputs": [],
      "source": [
        "#y_test.shape"
      ]
    },
    {
      "cell_type": "code",
      "execution_count": null,
      "metadata": {
        "id": "3XFhy2xKA_mC",
        "colab": {
          "base_uri": "https://localhost:8080/"
        },
        "outputId": "ab6e3ced-63ac-4588-9fd0-246ffb6a1fc9"
      },
      "outputs": [
        {
          "output_type": "execute_result",
          "data": {
            "text/plain": [
              "0.8333333333333333"
            ]
          },
          "metadata": {},
          "execution_count": 42
        }
      ],
      "source": [
        "y_hat=tf.math.argmax(predictions,1)\n",
        "y_true=y_test\n",
        "f1_score(y_true,y_hat,average='macro')"
      ]
    },
    {
      "cell_type": "code",
      "execution_count": null,
      "metadata": {
        "id": "nEZZT0zkT3rm",
        "colab": {
          "base_uri": "https://localhost:8080/"
        },
        "outputId": "763578e8-f391-4e66-b497-d86bb43aff0a"
      },
      "outputs": [
        {
          "output_type": "execute_result",
          "data": {
            "text/plain": [
              "0.8333333333333333"
            ]
          },
          "metadata": {},
          "execution_count": 43
        }
      ],
      "source": [
        "precision_score(y_true,y_hat,average='macro')"
      ]
    },
    {
      "cell_type": "code",
      "execution_count": null,
      "metadata": {
        "id": "FVnPN0b6T8-a",
        "colab": {
          "base_uri": "https://localhost:8080/"
        },
        "outputId": "bfce1149-eaf1-4ac3-c4b9-1769edb44205"
      },
      "outputs": [
        {
          "output_type": "execute_result",
          "data": {
            "text/plain": [
              "0.8333333333333333"
            ]
          },
          "metadata": {},
          "execution_count": 44
        }
      ],
      "source": [
        "recall_score(y_true,y_hat,average='macro')"
      ]
    }
  ],
  "metadata": {
    "accelerator": "GPU",
    "colab": {
      "collapsed_sections": [],
      "name": "Doc_SpacioTemp_GloVe.ipynb",
      "provenance": []
    },
    "kernelspec": {
      "display_name": "Python 3",
      "name": "python3"
    },
    "language_info": {
      "name": "python"
    }
  },
  "nbformat": 4,
  "nbformat_minor": 0
}