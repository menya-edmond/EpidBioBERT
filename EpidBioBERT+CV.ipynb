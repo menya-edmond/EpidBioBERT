{
  "cells": [
    {
      "cell_type": "code",
      "execution_count": null,
      "metadata": {
        "id": "icQKBKPTadOY"
      },
      "outputs": [],
      "source": [
        "!pip install pytorch-pretrained-bert\n",
        "!pip install transformers"
      ]
    },
    {
      "cell_type": "code",
      "execution_count": null,
      "metadata": {
        "id": "t8Gn2SVI7utX"
      },
      "outputs": [],
      "source": [
        "import os\n",
        "import re\n",
        "import csv\n",
        "import itertools\n",
        "import json\n",
        "\n",
        "import nltk\n",
        "import pandas as pd\n",
        "import numpy as np\n",
        "import seaborn as sns\n",
        "import matplotlib.pyplot as plt\n",
        "from tqdm import tqdm, trange\n",
        "from collections import defaultdict, OrderedDict\n",
        "\n",
        "import torch\n",
        "import torch.nn as nn\n",
        "from torch.utils.data import TensorDataset, DataLoader\n",
        "from torch.utils.data import RandomSampler, SequentialSampler\n",
        "from pytorch_pretrained_bert import BertModel, BertTokenizer, BertConfig\n",
        "from transformers import BertForTokenClassification, AdamW\n",
        "from transformers import get_linear_schedule_with_warmup\n",
        "from sklearn.metrics import f1_score,precision_score,recall_score\n",
        "from sklearn.preprocessing import LabelEncoder\n",
        "\n",
        "import tensorflow as tf\n",
        "from keras.preprocessing.sequence import pad_sequences\n",
        "from sklearn.model_selection import train_test_split\n",
        "from sklearn.model_selection import KFold\n",
        "from nltk import FreqDist"
      ]
    },
    {
      "cell_type": "code",
      "execution_count": null,
      "metadata": {
        "id": "pBIt5HQ33ioB"
      },
      "outputs": [],
      "source": [
        "import pytorch_pretrained_bert"
      ]
    },
    {
      "cell_type": "code",
      "execution_count": null,
      "metadata": {
        "colab": {
          "base_uri": "https://localhost:8080/"
        },
        "id": "tOeVnOOSfJec",
        "outputId": "8d63bb90-a658-4156-a414-f7722f03ebd0"
      },
      "outputs": [
        {
          "name": "stdout",
          "output_type": "stream",
          "text": [
            "Found GPU at: /device:GPU:0\n"
          ]
        }
      ],
      "source": [
        "# Get GPU device name\n",
        "device_name = tf.test.gpu_device_name()\n",
        "\n",
        "if device_name == '/device:GPU:0':\n",
        "  print('Found GPU at: {}'.format(device_name))\n",
        "else:\n",
        "  raise SystemError('GPU device not found')"
      ]
    },
    {
      "cell_type": "code",
      "execution_count": null,
      "metadata": {
        "colab": {
          "base_uri": "https://localhost:8080/"
        },
        "id": "soCBkruYfPUc",
        "outputId": "c6d10286-db9f-459f-91c4-8461a074c286"
      },
      "outputs": [
        {
          "name": "stdout",
          "output_type": "stream",
          "text": [
            "There are 1 GPU(s) available.\n",
            "We will use the GPU: Tesla K80\n"
          ]
        }
      ],
      "source": [
        "# tell Pytorch to use the GPU if available\n",
        "device = torch.device(\"cuda\" if torch.cuda.is_available() else \"cpu\")\n",
        "\n",
        "print('There are %d GPU(s) available.' % torch.cuda.device_count())\n",
        "print('We will use the GPU:', torch.cuda.get_device_name(0))"
      ]
    },
    {
      "cell_type": "markdown",
      "metadata": {
        "id": "STeCPrW4KFpJ"
      },
      "source": [
        "# Import BioBERT"
      ]
    },
    {
      "cell_type": "code",
      "execution_count": null,
      "metadata": {
        "id": "U9pgQv8Iffq9"
      },
      "outputs": [],
      "source": [
        "!wget --load-cookies /tmp/cookies.txt \"https://docs.google.com/uc?export=download&confirm=$(wget --quiet --save-cookies /tmp/cookies.txt --keep-session-cookies --no-check-certificate 'https://docs.google.com/uc?export=download&id=1R84voFKHfWV9xjzeLzWBbmY1uOMYpnyD' -O- | sed -rn 's/.*confirm=([0-9A-Za-z_]+).*/\\1\\n/p')&id=1R84voFKHfWV9xjzeLzWBbmY1uOMYpnyD\" -O biobert_weights && rm -rf /tmp/cookies.txt"
      ]
    },
    {
      "cell_type": "code",
      "execution_count": null,
      "metadata": {
        "colab": {
          "base_uri": "https://localhost:8080/"
        },
        "id": "zDpKJWMBEa1G",
        "outputId": "b9745428-d3df-4cd8-c833-bf32fa61e141"
      },
      "outputs": [
        {
          "name": "stdout",
          "output_type": "stream",
          "text": [
            "bert_config.json\t\t\tmodel.ckpt-1000000.index  vocab.txt\n",
            "config.json\t\t\t\tmodel.ckpt-1000000.meta\n",
            "model.ckpt-1000000.data-00000-of-00001\tpytorch_model.bin\n"
          ]
        }
      ],
      "source": [
        "!tar -xzf biobert_weights\n",
        "!ls biobert_v1.1_pubmed/"
      ]
    },
    {
      "cell_type": "code",
      "execution_count": null,
      "metadata": {
        "id": "g5dhA43zEfrB"
      },
      "outputs": [],
      "source": [
        "!transformers-cli convert --model_type bert --tf_checkpoint biobert_v1.1_pubmed/model.ckpt-1000000 --config biobert_v1.1_pubmed/bert_config.json --pytorch_dump_output biobert_v1.1_pubmed/pytorch_model.bin"
      ]
    },
    {
      "cell_type": "code",
      "execution_count": null,
      "metadata": {
        "id": "_vqdJUV1EiEd"
      },
      "outputs": [],
      "source": [
        "!ls biobert_v1.1_pubmed/\n",
        "!mv biobert_v1.1_pubmed/bert_config.json biobert_v1.1_pubmed/config.json\n",
        "!ls biobert_v1.1_pubmed/"
      ]
    },
    {
      "cell_type": "code",
      "execution_count": null,
      "metadata": {
        "colab": {
          "base_uri": "https://localhost:8080/"
        },
        "id": "V9-3E8ZPLA8Z",
        "outputId": "9514fcbd-c9c9-45b8-9095-1b42fd3213ba"
      },
      "outputs": [
        {
          "name": "stdout",
          "output_type": "stream",
          "text": [
            "biobert_v1.1_pubmed  biobert_weights  gdrive  sample_data\n"
          ]
        }
      ],
      "source": [
        "!ls "
      ]
    },
    {
      "cell_type": "markdown",
      "metadata": {
        "id": "DXPpUMx0fZOh"
      },
      "source": [
        "# Data"
      ]
    },
    {
      "cell_type": "code",
      "execution_count": null,
      "metadata": {
        "colab": {
          "base_uri": "https://localhost:8080/"
        },
        "id": "3cSxrv3pKBx0",
        "outputId": "39644f6d-fae2-47f1-ac12-cec42d09c9e8"
      },
      "outputs": [
        {
          "name": "stdout",
          "output_type": "stream",
          "text": [
            "Drive already mounted at /content/gdrive; to attempt to forcibly remount, call drive.mount(\"/content/gdrive\", force_remount=True).\n"
          ]
        }
      ],
      "source": [
        "from google.colab import drive\n",
        "drive._mount('/content/gdrive')"
      ]
    },
    {
      "cell_type": "code",
      "execution_count": null,
      "metadata": {
        "id": "hPfP8ssmdOeW"
      },
      "outputs": [],
      "source": [
        "MAX_LEN=128\n",
        "BATCH_SIZE=16\n",
        "num_folds=2\n",
        "tokenizer = BertTokenizer(vocab_file='biobert_v1.1_pubmed/vocab.txt', do_lower_case=False)"
      ]
    },
    {
      "cell_type": "code",
      "execution_count": null,
      "metadata": {
        "id": "VyPXfmDC0OJS"
      },
      "outputs": [],
      "source": [
        "def tags_list_computer(candidates_list,raw_text_list,thematic_feature):\n",
        "  \"\"\"Finds anf labels thematic features from their JSON data annotations\n",
        "     using a cascade of Regex rules\n",
        "  \"\"\"\n",
        "\n",
        "  del_features=[]\n",
        "\n",
        "  for candidate in candidates_list:\n",
        "    feature_text=[]\n",
        "    feature_type=re.findall(re.compile('type=\\\"(.*?)\\\"'),candidate)[0]\n",
        "    length=int(re.findall(re.compile('length=\\\"(.*?)\\\"'),candidate)[0])\n",
        "    index=int(re.findall(re.compile('index=(.*?) '),candidate)[0])\n",
        "    candidate_no=int(re.findall(re.compile('id=\\\"c(.*?)\\\"'),candidate)[0])\n",
        "    \n",
        "    if feature_type == thematic_feature:\n",
        "      for i in range(index,index+length):\n",
        "        del_features.append(raw_text_list[i])  \n",
        "  return [feat for feat in raw_text_list if feat not in del_features]"
      ]
    },
    {
      "cell_type": "code",
      "execution_count": null,
      "metadata": {
        "id": "ESi2eUOZyzjM"
      },
      "outputs": [],
      "source": [
        "def candidates_selector(data,thematic_feature):\n",
        "  \"\"\"Finds all candidate thematic features by tag from news article\n",
        "     also prepares a raw untagged corpus after deleting excluded thematic feature if any\n",
        "  \"\"\"\n",
        "\n",
        "  raw_text_list=re.findall(re.compile('<token id=\\\"t\\d+\\\"> (.*?) </token>'),data['tagged_content'])\n",
        "  candidates_list=re.findall(re.compile('<candidate (.*?)></candidate> '),data['tagged_content'])  \n",
        "  re_raw_list=tags_list_computer(candidates_list,raw_text_list,thematic_feature)\n",
        "  raw_doc = ' '.join([str(elem) for elem in re_raw_list])  \n",
        "  return raw_doc"
      ]
    },
    {
      "cell_type": "code",
      "execution_count": null,
      "metadata": {
        "id": "RozIo9Jo0zsj"
      },
      "outputs": [],
      "source": [
        "corpora = '/content/gdrive/MyDrive/Colab Data/articles'\n",
        "tagged_data=[]\n",
        "irrelevant_docs=0\n",
        "irrelevant_docs_address=[]\n",
        "df_corpus={'Content':[],'Label':[]}\n",
        "del_thematic_feature='none' #thematic feature to be ignored either date, disease, location or host\n",
        "\n",
        "for subdir, dirs, files in os.walk(corpora):\n",
        "  \"\"\"Walks through the directory containing PADI-Web JSON News datasets\n",
        "     and cleans the corpus selecting relevant and irrelevant documents \n",
        "  \"\"\"\n",
        "  for file in files:\n",
        "    path = os.path.join(subdir, file)\n",
        "    \n",
        "    with open(path,'r') as f:\n",
        "      data=json.load(f)\n",
        "      if data['candidateLabels']: #not an empty list thus relevant document\n",
        "        if data['content']:\n",
        "          content=candidates_selector(data,del_thematic_feature)\n",
        "          df_corpus['Content'].append(content.replace('\\r', '').replace('\\t', '').replace('\\n','').replace('<br /> ',''))\n",
        "          df_corpus['Label'].append('relevant')\n",
        "\n",
        "      else:#irrelevant document\n",
        "        if data['content']:\n",
        "          content=candidates_selector(data,del_thematic_feature)\n",
        "          df_corpus['Content'].append(content.replace('\\r', '').replace('\\t', '').replace('\\n','').replace('<br /> ',''))\n",
        "          df_corpus['Label'].append('irrelevant')"
      ]
    },
    {
      "cell_type": "code",
      "execution_count": null,
      "metadata": {
        "id": "uKoN-j_1X8sV"
      },
      "outputs": [],
      "source": [
        "data=pd.DataFrame(df_corpus)"
      ]
    },
    {
      "cell_type": "code",
      "execution_count": null,
      "metadata": {
        "colab": {
          "base_uri": "https://localhost:8080/",
          "height": 206
        },
        "id": "r0WVXPruYADi",
        "outputId": "af8168e6-9d54-4541-f012-674feaa581c4"
      },
      "outputs": [
        {
          "data": {
            "text/html": [
              "\n",
              "  <div id=\"df-7d0ea60d-ae2b-47dc-9a40-bb1d240c3a31\">\n",
              "    <div class=\"colab-df-container\">\n",
              "      <div>\n",
              "<style scoped>\n",
              "    .dataframe tbody tr th:only-of-type {\n",
              "        vertical-align: middle;\n",
              "    }\n",
              "\n",
              "    .dataframe tbody tr th {\n",
              "        vertical-align: top;\n",
              "    }\n",
              "\n",
              "    .dataframe thead th {\n",
              "        text-align: right;\n",
              "    }\n",
              "</style>\n",
              "<table border=\"1\" class=\"dataframe\">\n",
              "  <thead>\n",
              "    <tr style=\"text-align: right;\">\n",
              "      <th></th>\n",
              "      <th>Content</th>\n",
              "      <th>Label</th>\n",
              "    </tr>\n",
              "  </thead>\n",
              "  <tbody>\n",
              "    <tr>\n",
              "      <th>0</th>\n",
              "      <td>Instead of creating unnecessary fear and paran...</td>\n",
              "      <td>irrelevant</td>\n",
              "    </tr>\n",
              "    <tr>\n",
              "      <th>1</th>\n",
              "      <td>The International Monetary Fund has given Bots...</td>\n",
              "      <td>irrelevant</td>\n",
              "    </tr>\n",
              "    <tr>\n",
              "      <th>2</th>\n",
              "      <td>10 October 2015 Last updated at : 5:05 AM Mala...</td>\n",
              "      <td>irrelevant</td>\n",
              "    </tr>\n",
              "    <tr>\n",
              "      <th>3</th>\n",
              "      <td>YAMAGUCHI -- An outbreak of highly pathogenic ...</td>\n",
              "      <td>relevant</td>\n",
              "    </tr>\n",
              "    <tr>\n",
              "      <th>4</th>\n",
              "      <td>SEOUL South Korea has confirmed a fresh case o...</td>\n",
              "      <td>relevant</td>\n",
              "    </tr>\n",
              "  </tbody>\n",
              "</table>\n",
              "</div>\n",
              "      <button class=\"colab-df-convert\" onclick=\"convertToInteractive('df-7d0ea60d-ae2b-47dc-9a40-bb1d240c3a31')\"\n",
              "              title=\"Convert this dataframe to an interactive table.\"\n",
              "              style=\"display:none;\">\n",
              "        \n",
              "  <svg xmlns=\"http://www.w3.org/2000/svg\" height=\"24px\"viewBox=\"0 0 24 24\"\n",
              "       width=\"24px\">\n",
              "    <path d=\"M0 0h24v24H0V0z\" fill=\"none\"/>\n",
              "    <path d=\"M18.56 5.44l.94 2.06.94-2.06 2.06-.94-2.06-.94-.94-2.06-.94 2.06-2.06.94zm-11 1L8.5 8.5l.94-2.06 2.06-.94-2.06-.94L8.5 2.5l-.94 2.06-2.06.94zm10 10l.94 2.06.94-2.06 2.06-.94-2.06-.94-.94-2.06-.94 2.06-2.06.94z\"/><path d=\"M17.41 7.96l-1.37-1.37c-.4-.4-.92-.59-1.43-.59-.52 0-1.04.2-1.43.59L10.3 9.45l-7.72 7.72c-.78.78-.78 2.05 0 2.83L4 21.41c.39.39.9.59 1.41.59.51 0 1.02-.2 1.41-.59l7.78-7.78 2.81-2.81c.8-.78.8-2.07 0-2.86zM5.41 20L4 18.59l7.72-7.72 1.47 1.35L5.41 20z\"/>\n",
              "  </svg>\n",
              "      </button>\n",
              "      \n",
              "  <style>\n",
              "    .colab-df-container {\n",
              "      display:flex;\n",
              "      flex-wrap:wrap;\n",
              "      gap: 12px;\n",
              "    }\n",
              "\n",
              "    .colab-df-convert {\n",
              "      background-color: #E8F0FE;\n",
              "      border: none;\n",
              "      border-radius: 50%;\n",
              "      cursor: pointer;\n",
              "      display: none;\n",
              "      fill: #1967D2;\n",
              "      height: 32px;\n",
              "      padding: 0 0 0 0;\n",
              "      width: 32px;\n",
              "    }\n",
              "\n",
              "    .colab-df-convert:hover {\n",
              "      background-color: #E2EBFA;\n",
              "      box-shadow: 0px 1px 2px rgba(60, 64, 67, 0.3), 0px 1px 3px 1px rgba(60, 64, 67, 0.15);\n",
              "      fill: #174EA6;\n",
              "    }\n",
              "\n",
              "    [theme=dark] .colab-df-convert {\n",
              "      background-color: #3B4455;\n",
              "      fill: #D2E3FC;\n",
              "    }\n",
              "\n",
              "    [theme=dark] .colab-df-convert:hover {\n",
              "      background-color: #434B5C;\n",
              "      box-shadow: 0px 1px 3px 1px rgba(0, 0, 0, 0.15);\n",
              "      filter: drop-shadow(0px 1px 2px rgba(0, 0, 0, 0.3));\n",
              "      fill: #FFFFFF;\n",
              "    }\n",
              "  </style>\n",
              "\n",
              "      <script>\n",
              "        const buttonEl =\n",
              "          document.querySelector('#df-7d0ea60d-ae2b-47dc-9a40-bb1d240c3a31 button.colab-df-convert');\n",
              "        buttonEl.style.display =\n",
              "          google.colab.kernel.accessAllowed ? 'block' : 'none';\n",
              "\n",
              "        async function convertToInteractive(key) {\n",
              "          const element = document.querySelector('#df-7d0ea60d-ae2b-47dc-9a40-bb1d240c3a31');\n",
              "          const dataTable =\n",
              "            await google.colab.kernel.invokeFunction('convertToInteractive',\n",
              "                                                     [key], {});\n",
              "          if (!dataTable) return;\n",
              "\n",
              "          const docLinkHtml = 'Like what you see? Visit the ' +\n",
              "            '<a target=\"_blank\" href=https://colab.research.google.com/notebooks/data_table.ipynb>data table notebook</a>'\n",
              "            + ' to learn more about interactive tables.';\n",
              "          element.innerHTML = '';\n",
              "          dataTable['output_type'] = 'display_data';\n",
              "          await google.colab.output.renderOutput(dataTable, element);\n",
              "          const docLink = document.createElement('div');\n",
              "          docLink.innerHTML = docLinkHtml;\n",
              "          element.appendChild(docLink);\n",
              "        }\n",
              "      </script>\n",
              "    </div>\n",
              "  </div>\n",
              "  "
            ],
            "text/plain": [
              "                                             Content       Label\n",
              "0  Instead of creating unnecessary fear and paran...  irrelevant\n",
              "1  The International Monetary Fund has given Bots...  irrelevant\n",
              "2  10 October 2015 Last updated at : 5:05 AM Mala...  irrelevant\n",
              "3  YAMAGUCHI -- An outbreak of highly pathogenic ...    relevant\n",
              "4  SEOUL South Korea has confirmed a fresh case o...    relevant"
            ]
          },
          "execution_count": 17,
          "metadata": {},
          "output_type": "execute_result"
        }
      ],
      "source": [
        "data.head()"
      ]
    },
    {
      "cell_type": "code",
      "execution_count": null,
      "metadata": {
        "colab": {
          "base_uri": "https://localhost:8080/"
        },
        "id": "gd-qC3Nd9CTc",
        "outputId": "f5559808-ac38-4d27-8b8d-f7f03e3d4892"
      },
      "outputs": [
        {
          "data": {
            "text/plain": [
              "LabelEncoder()"
            ]
          },
          "execution_count": 18,
          "metadata": {},
          "output_type": "execute_result"
        }
      ],
      "source": [
        "label_encoder=LabelEncoder()\n",
        "label_encoder.fit(data['Label'])"
      ]
    },
    {
      "cell_type": "code",
      "execution_count": null,
      "metadata": {
        "id": "SUT3y1fZGH8V"
      },
      "outputs": [],
      "source": [
        "X=list(data['Content'])\n",
        "y=list(label_encoder.transform(data['Label']))"
      ]
    },
    {
      "cell_type": "code",
      "execution_count": null,
      "metadata": {
        "colab": {
          "base_uri": "https://localhost:8080/"
        },
        "id": "XVTRcSkgGVS4",
        "outputId": "662867dc-84e0-4f2f-bd83-8de6b8221abd"
      },
      "outputs": [
        {
          "data": {
            "text/plain": [
              "array(['irrelevant'], dtype=object)"
            ]
          },
          "execution_count": 20,
          "metadata": {},
          "output_type": "execute_result"
        }
      ],
      "source": [
        "label_encoder.inverse_transform([0])"
      ]
    },
    {
      "cell_type": "code",
      "execution_count": null,
      "metadata": {
        "colab": {
          "base_uri": "https://localhost:8080/"
        },
        "id": "JiozbL1VYViz",
        "outputId": "3f7bc079-4844-48cb-a0c8-2f31a79a150b"
      },
      "outputs": [
        {
          "data": {
            "text/plain": [
              "[\"Instead of creating unnecessary fear and paranoia over rabies , the authorities should promote proper education on the disease so Malaysians can better protect themselves and their pets . COMMENT By Carol N With the recent announcement of a rabies outbreak in Malaysia , there exists many misconceptions about the disease and how preventable and treatable it is . Allow me to dispel some of these myths with referenced sources . Myth 1 : Anyone who gets bitten by a rabid dog can not be saved and will soon die a terribly painful death It is true that rabies will result in a painful death through inflammation of the central nervous system . Rabies in humans is untreatable upon the onset of clinical symptoms such as a tingling sensation , fear and anxiety which progresses to hyperactivity and paralysis . The key point here , as stated in this WHO fact sheet , is that the incubation period between contact with rabies and onset of symptoms is typically 1 to 3 months . Only very rarely do symptoms in humans show up within less than a week . Sometimes symptoms only show in humans after a year . This gives anyone who suspects they have come into contact with a rabid animal , either by touching their saliva , getting scratched or bitten , ample time to get the series of rabies vaccination shots which will be 100 per cent effective in preventing the onset of symptoms , hence no death . The same WHO Fact Sheet also states that `` Rabies is a neglected disease of poor and vulnerable populations whose deaths are rarely reported and where human vaccines and immunoglobulin are not readily available or accessible . '' Is Penang a poor and rural state ? Is it devoid of advanced medical facilities ? Why is it so difficult for the local authorities to share these facts and educate the public ? Malaysians are now panicking and rushing to get rabies vaccinations , which has resulted in a shortage of rabies vaccinations for humans . This means anyone who ACTUALLY does come into contact with a rabid animal and desperately NEEDS the vaccine , runs the risk of not being able to get the vaccine in time because of unnecessarily panicked Malaysians using up available stocks . Myth 2 : ALL rabid dogs will become unnaturally ferocious , biting monsters Rabies automatically brings to mind the image of mad dogs foaming at the mouth . However , not all rabid dogs become ferocious , also known as ` Furious Rabies ' . The Baker Institute for Animal Health explains that there are three stages of rabies -- prodromal , furious , and paralytic ( dumb ) . Animals at the prodromal stage exhibit non-specific symptoms like apprehension , restlessness , loss of appetite , temperament changes and sometimes vomiting . This is followed by either furious , and paralytic ( dumb ) form . Only 25-30 per cent of infected animals develop Furious Rabies . The MOST common form is ` Dumb Rabies ' where the infected animal drools excessively , becomes paralysed , easily frightened or unusually tame and is generally NOT very dangerous at all to anyone . Myth 3 : We are having an emergency rabies outbreak To date , the current number of reported dog bite cases tested positive for rabies is less than 50 . Out of those cases including only TWO dog bite cases in Penang , there has so far been ZERO human deaths in the whole of Malaysia . If this is classified as an ` emergency outbreak ' , then authorities are hypocritical by not similarly declaring dengue and leptospirosis as ` emergency outbreaks ' . As of June 20 , 2015 , there were 53,823 cases of dengue with 158 dengue-deaths reported in Malaysia for 2015 . Last year there were over 7000 cases of leptospirosis or ' rat urine disease ' , and 92 deaths from this disease . Both diseases are endemic to Malaysia , meaning they have been in this country all this time . Therefore it is illogical to declare rabies an outbreak when vector-borne diseases have proven to be a significantly higher threat in Malaysia . Myth 4 : Rabies injections are now necessary for all our pets The local authorities have been advising dog owners to get rabies shots for their pets , resulting in another mad rush by pet owners and a shortage of vaccine supplies for dogs . What the authorities have not told , is that priority of rabies vaccinations should be given to pets that are kept outdoors , where they have a higher risk of coming in contact with an infected animal . Many Malaysians keep small breed dogs indoors where they have very little risk of contacting a rabid animal . While small breed owners should ensure their small breed dogs receive normal vaccinations to protect against other diseases , over-vaccinating a small breed unnecessarily also poses a risk . Rabies vaccines , like all vaccines are essentially a small dosage of deactivated rabies viruses , meant to stimulate the body to naturally produce the required antibodies to fight rabies . However , dosages of vaccines usually given to small dogs is the same as given to dogs of all sizes , which is sometimes too much for the immune system of small breeds to handle . Therefore over-vaccinating small breeds can result in adverse and sometimes fatal reactions , such as in this story where a pug broke out in horrible rashes after a rabies shot . Therefore if you have a small breed dog which is primarily kept indoors and does not come in contact with stray animals , rabies vaccinations are not necessary ! Vaccinating a small breed that has close to zero risk of getting rabies is depriving supply of the vaccine for pets that need it more . What is the real agenda ? It is clear , given the facts , that the authorities have created unnecessary fear and paranoia over rabies . This is posing an even greater danger to both humans and pets who actually need the vaccines because of the resulting shortages , when what should have been done was proper education on rabies and how Malaysians should protect themselves and their pets . It is not a big secret that dogs are disdained by certain local communities , however what most people may not know is that Penang Chief Minister Lim Guan Eng has publicly stated his desire to make Penang a stray -- free state . We all want this country to be developed , but if in the process of that development , 40,000 innocent lives are needlessly taken , it will never be a development any Malaysian with a soul can be proud of . Carol N is an FMT reader . With a firm belief in freedom of expression and without prejudice , FMT tries its best to share reliable content from third parties . Such articles are strictly the writer 's personal opinion . FMT does not necessarily endorse the views or opinions given by any third party content provider . The views expressed in the contents are those of our users and do not necessarily reflect the views of FMT .\",\n",
              " \"The International Monetary Fund has given Botswana a resounding thumbs-up in its latest assessment of the country 's economy -- but warns that growth may be slowing . In an unusually upbeat assessment of the country 's economic progress , the organization commended the country 's authorities for their `` good governance and prudent management of natural resources . '' In the years since independence in 1966 , Botswana has consistently attracted international acclaim for successfully avoiding the `` resource curse '' , a trap into which some other resource-rich African economies have fallen . Botswana achieved this feat by effectively channeling profits from the lucrative diamond-mining sector into public healthcare , education and large-scale national infrastructure projects . Advertisement However , the nation 's dependence on diamonds has led to a lack of export diversification , which leaves `` Botswana 's economy vulnerable to fluctuations in the international demand for diamonds , '' warns the IMF report . Concern over the country 's heavy reliance on a single export sector has grown in recent years as the Botswana Meat Commission , the organization solely responsible for the slaughter and marketing of all beef exports from Botswana , became unable to export beef to the European Union because of foot-and-mouth disease in the country . Unease grew in January this year , when a long-anticipated ban on commercial hunting was announced by President Ian Khama . Opponents of the ban say it harms the country 's lucrative tourism industry , which currently accounts for 11 % of GDP . The IMF projects that Botswana 's real GDP growth will slow to 4.4 % in 2014 after achieving a `` faster-than-expected '' 6 % increase last year . The organization says Botswana 's growth rate is easing due to a `` slowdown in diamond recovery and continued problems in the electricity and water supply , which has affected the non-mineral sector . '' Write to Jessica Eaton at Jessica.Eaton@dowjones.com . <br />\",\n",
              " \"10 October 2015 Last updated at : 5:05 AM Malawi Govt optimistic on Subsidy programme Govt upbeat for successful FISP program this year . Government says it is confident that this year 's subsidized input program will reach beneficiaries in time as it has engaged with private companies in the selling of the commodities . This is a better development as compared to the previous years when the inputs used to reach farmers late which led to some farmers experiencing low yields . Deputy National Director of farm inputs subsidy program in the ministry of Agriculture Osborn Tsoka said the ministry has already awarded contracts to suppliers and transporters of the inputs which are different from the previous years . Tsoka further said they are moving in the right direction as the rains are a few months away and the program will be officially launched this month . Related Related Posts 15 January 2016 13 January 2016 12 January 2016 4 January 2016 <br />\"]"
            ]
          },
          "execution_count": 21,
          "metadata": {},
          "output_type": "execute_result"
        }
      ],
      "source": [
        "X[0:3]"
      ]
    },
    {
      "cell_type": "code",
      "execution_count": null,
      "metadata": {
        "colab": {
          "base_uri": "https://localhost:8080/"
        },
        "id": "5mORwNfdYZjK",
        "outputId": "592389a6-201e-4550-f46d-22a09fafe509"
      },
      "outputs": [
        {
          "data": {
            "text/plain": [
              "[0, 0, 0]"
            ]
          },
          "execution_count": 22,
          "metadata": {},
          "output_type": "execute_result"
        }
      ],
      "source": [
        "y[0:3]"
      ]
    },
    {
      "cell_type": "code",
      "execution_count": null,
      "metadata": {
        "id": "zDczy6Tyw-dw"
      },
      "outputs": [],
      "source": [
        "def tok_with_labels(doc, label):\n",
        "  \n",
        "  tok_doc=tokenizer.tokenize(doc)\n",
        "  \n",
        "  return tok_doc, [label]\n",
        "\n",
        "tok_texts_and_labels = [tok_with_labels(sent, labs) for sent, labs in zip(X, y)]"
      ]
    },
    {
      "cell_type": "code",
      "execution_count": null,
      "metadata": {
        "id": "yyCt9zj7vaFl"
      },
      "outputs": [],
      "source": [
        "#tok_texts_and_labels[0]"
      ]
    },
    {
      "cell_type": "code",
      "execution_count": null,
      "metadata": {
        "id": "lH1VCcKpyDaL"
      },
      "outputs": [],
      "source": [
        "tok_texts = [tok_label_pair[0] for tok_label_pair in tok_texts_and_labels]\n",
        "labels = np.array([tok_label_pair[1] for tok_label_pair in tok_texts_and_labels])"
      ]
    },
    {
      "cell_type": "code",
      "execution_count": null,
      "metadata": {
        "colab": {
          "base_uri": "https://localhost:8080/"
        },
        "id": "VSJKHo-zWcV4",
        "outputId": "d49e52da-5bc5-4594-f67d-f20773ced8be"
      },
      "outputs": [
        {
          "name": "stdout",
          "output_type": "stream",
          "text": [
            "['Instead', 'of', 'creating', 'unnecessary', 'fear', 'and', 'para', '##no', '##ia', 'over', 'r', '##abi', '##es', ',', 'the', 'authorities', 'should', 'promote', 'proper', 'education', 'on', 'the', 'disease', 'so', 'Malaysian', '##s', 'can', 'better', 'protect', 'themselves', 'and', 'their', 'pets', '.', 'CO', '##MM', '##EN', '##T', 'By', 'Carol', 'N', 'With', 'the', 'recent', 'announcement', 'of', 'a', 'r', '##abi', '##es', 'outbreak', 'in', 'Malaysia', ',', 'there', 'exists', 'many', 'mi', '##sco', '##nce', '##ption', '##s', 'about', 'the', 'disease', 'and', 'how', 'prevent', '##able', 'and', 'treat', '##able', 'it', 'is', '.', 'All', '##ow', 'me', 'to', 'di', '##sp', '##el', 'some', 'of', 'these', 'myths', 'with', 'referenced', 'sources', '.', 'My', '##th', '1', ':', 'Anyone', 'who', 'gets', 'bitten', 'by', 'a', 'r', '##abi', '##d', 'dog', 'can', 'not', 'be', 'saved', 'and', 'will', 'soon', 'die', 'a', 'terribly', 'painful', 'death', 'It', 'is', 'true', 'that', 'r', '##abi', '##es', 'will', 'result', 'in', 'a', 'painful', 'death', 'through', 'inflammation', 'of', 'the', 'central', 'nervous', 'system', '.', 'Ra', '##bies', 'in', 'humans', 'is', 'un', '##tre', '##ata', '##ble', 'upon', 'the', 'onset', 'of', 'clinical', 'symptoms', 'such', 'as', 'a', 'tingling', 'sensation', ',', 'fear', 'and', 'anxiety', 'which', 'progresses', 'to', 'h', '##yper', '##act', '##ivity', 'and', 'para', '##lysis', '.', 'The', 'key', 'point', 'here', ',', 'as', 'stated', 'in', 'this', 'WHO', 'fact', 'sheet', ',', 'is', 'that', 'the', 'in', '##cu', '##bation', 'period', 'between', 'contact', 'with', 'r', '##abi', '##es', 'and', 'onset', 'of', 'symptoms', 'is', 'typically', '1', 'to', '3', 'months', '.', 'Only', 'very', 'rarely', 'do', 'symptoms', 'in', 'humans', 'show', 'up', 'within', 'less', 'than', 'a', 'week', '.', 'Sometimes', 'symptoms', 'only', 'show', 'in', 'humans', 'after', 'a', 'year', '.', 'This', 'gives', 'anyone', 'who', 'suspects', 'they', 'have', 'come', 'into', 'contact', 'with', 'a', 'r', '##abi', '##d', 'animal', ',', 'either', 'by', 'touching', 'their', 'sa', '##liva', ',', 'getting', 'scratched', 'or', 'bitten', ',', 'ample', 'time', 'to', 'get', 'the', 'series', 'of', 'r', '##abi', '##es', 'v', '##ac', '##cin', '##ation', 'shots', 'which', 'will', 'be', '100', 'per', 'cent', 'effective', 'in', 'preventing', 'the', 'onset', 'of', 'symptoms', ',', 'hence', 'no', 'death', '.', 'The', 'same', 'WHO', 'F', '##act', 'She', '##et', 'also', 'states', 'that', '`', '`', 'Ra', '##bies', 'is', 'a', 'neglected', 'disease', 'of', 'poor', 'and', 'vulnerable', 'populations', 'whose', 'deaths', 'are', 'rarely', 'reported', 'and', 'where', 'human', 'vaccine', '##s', 'and', 'im', '##mu', '##no', '##g', '##lo', '##bul', '##in', 'are', 'not', 'readily', 'available', 'or', 'accessible', '.', \"'\", \"'\", 'Is', 'Penang', 'a', 'poor', 'and', 'rural', 'state', '?', 'Is', 'it', 'devoid', 'of', 'advanced', 'medical', 'facilities', '?', 'Why', 'is', 'it', 'so', 'difficult', 'for', 'the', 'local', 'authorities', 'to', 'share', 'these', 'facts', 'and', 'educate', 'the', 'public', '?', 'Malaysian', '##s', 'are', 'now', 'panic', '##king', 'and', 'rushing', 'to', 'get', 'r', '##abi', '##es', 'v', '##ac', '##cin', '##ations', ',', 'which', 'has', 'resulted', 'in', 'a', 'shortage', 'of', 'r', '##abi', '##es', 'v', '##ac', '##cin', '##ations', 'for', 'humans', '.', 'This', 'means', 'anyone', 'who', 'ACT', '##U', '##AL', '##L', '##Y', 'does', 'come', 'into', 'contact', 'with', 'a', 'r', '##abi', '##d', 'animal', 'and', 'desperately', 'NE', '##ED', '##S', 'the', 'vaccine', ',', 'runs', 'the', 'risk', 'of', 'not', 'being', 'able', 'to', 'get', 'the', 'vaccine', 'in', 'time', 'because', 'of', 'un', '##ne', '##cess', '##arily', 'panicked', 'Malaysian', '##s', 'using', 'up', 'available', 'stocks', '.', 'My', '##th', '2', ':', 'AL', '##L', 'r', '##abi', '##d', 'dogs', 'will', 'become', 'unnatural', '##ly', 'f', '##ero', '##cious', ',', 'biting', 'monsters', 'Ra', '##bies', 'automatically', 'brings', 'to', 'mind', 'the', 'image', 'of', 'mad', 'dogs', 'foam', '##ing', 'at', 'the', 'mouth', '.', 'However', ',', 'not', 'all', 'r', '##abi', '##d', 'dogs', 'become', 'f', '##ero', '##cious', ',', 'also', 'known', 'as', '`', 'Fu', '##rious', 'Ra', '##bies', \"'\", '.', 'The', 'Baker', 'Institute', 'for', 'Animal', 'Health', 'explains', 'that', 'there', 'are', 'three', 'stages', 'of', 'r', '##abi', '##es', '-', '-', 'pro', '##dr', '##oma', '##l', ',', 'furious', ',', 'and', 'para', '##ly', '##tic', '(', 'dumb', ')', '.', 'Animals', 'at', 'the', 'pro', '##dr', '##oma', '##l', 'stage', 'exhibit', 'non', '-', 'specific', 'symptoms', 'like', 'app', '##rehension', ',', 'restless', '##ness', ',', 'loss', 'of', 'appetite', ',', 'temper', '##ament', 'changes', 'and', 'sometimes', 'vomit', '##ing', '.', 'This', 'is', 'followed', 'by', 'either', 'furious', ',', 'and', 'para', '##ly', '##tic', '(', 'dumb', ')', 'form', '.', 'Only', '25', '-', '30', 'per', 'cent', 'of', 'infected', 'animals', 'develop', 'Fu', '##rious', 'Ra', '##bies', '.', 'The', 'M', '##OS', '##T', 'common', 'form', 'is', '`', 'Du', '##mb', 'Ra', '##bies', \"'\", 'where', 'the', 'infected', 'animal', 'd', '##roo', '##ls', 'excessive', '##ly', ',', 'becomes', 'para', '##ly', '##sed', ',', 'easily', 'frightened', 'or', 'unusually', 'ta', '##me', 'and', 'is', 'generally', 'NO', '##T', 'very', 'dangerous', 'at', 'all', 'to', 'anyone', '.', 'My', '##th', '3', ':', 'We', 'are', 'having', 'an', 'emergency', 'r', '##abi', '##es', 'outbreak', 'To', 'date', ',', 'the', 'current', 'number', 'of', 'reported', 'dog', 'bite', 'cases', 'tested', 'positive', 'for', 'r', '##abi', '##es', 'is', 'less', 'than', '50', '.', 'Out', 'of', 'those', 'cases', 'including', 'only', 'T', '##W', '##O', 'dog', 'bite', 'cases', 'in', 'Penang', ',', 'there', 'has', 'so', 'far', 'been', 'Z', '##ER', '##O', 'human', 'deaths', 'in', 'the', 'whole', 'of', 'Malaysia', '.', 'If', 'this', 'is', 'classified', 'as', 'an', '`', 'emergency', 'outbreak', \"'\", ',', 'then', 'authorities', 'are', 'h', '##y', '##po', '##c', '##ritic', '##al', 'by', 'not', 'similarly', 'declaring', 'den', '##gue', 'and', 'le', '##pt', '##os', '##pi', '##rosis', 'as', '`', 'emergency', 'outbreak', '##s', \"'\", '.', 'As', 'of', 'June', '20', ',', '2015', ',', 'there', 'were', '53', ',', '82', '##3', 'cases', 'of', 'den', '##gue', 'with', '158', 'den', '##gue', '-', 'deaths', 'reported', 'in', 'Malaysia', 'for', '2015', '.', 'Last', 'year', 'there', 'were', 'over', '700', '##0', 'cases', 'of', 'le', '##pt', '##os', '##pi', '##rosis', 'or', \"'\", 'rat', 'urine', 'disease', \"'\", ',', 'and', '92', 'deaths', 'from', 'this', 'disease', '.', 'Both', 'diseases', 'are', 'endemic', 'to', 'Malaysia', ',', 'meaning', 'they', 'have', 'been', 'in', 'this', 'country', 'all', 'this', 'time', '.', 'Therefore', 'it', 'is', 'ill', '##ogical', 'to', 'declare', 'r', '##abi', '##es', 'an', 'outbreak', 'when', 'vector', '-', 'borne', 'diseases', 'have', 'proven', 'to', 'be', 'a', 'significantly', 'higher', 'threat', 'in', 'Malaysia', '.', 'My', '##th', '4', ':', 'Ra', '##bies', 'injection', '##s', 'are', 'now', 'necessary', 'for', 'all', 'our', 'pets', 'The', 'local', 'authorities', 'have', 'been', 'advising', 'dog', 'owners', 'to', 'get', 'r', '##abi', '##es', 'shots', 'for', 'their', 'pets', ',', 'resulting', 'in', 'another', 'mad', 'rush', 'by', 'pet', 'owners', 'and', 'a', 'shortage', 'of', 'vaccine', 'supplies', 'for', 'dogs', '.', 'What', 'the', 'authorities', 'have', 'not', 'told', ',', 'is', 'that', 'priority', 'of', 'r', '##abi', '##es', 'v', '##ac', '##cin', '##ations', 'should', 'be', 'given', 'to', 'pets', 'that', 'are', 'kept', 'outdoors', ',', 'where', 'they', 'have', 'a', 'higher', 'risk', 'of', 'coming', 'in', 'contact', 'with', 'an', 'infected', 'animal', '.', 'Many', 'Malaysian', '##s', 'keep', 'small', 'breed', 'dogs', 'indoor', '##s', 'where', 'they', 'have', 'very', 'little', 'risk', 'of', 'contact', '##ing', 'a', 'r', '##abi', '##d', 'animal', '.', 'While', 'small', 'breed', 'owners', 'should', 'ensure', 'their', 'small', 'breed', 'dogs', 'receive', 'normal', 'v', '##ac', '##cin', '##ations', 'to', 'protect', 'against', 'other', 'diseases', ',', 'over', '-', 'v', '##ac', '##cin', '##ating', 'a', 'small', 'breed', 'un', '##ne', '##cess', '##arily', 'also', 'poses', 'a', 'risk', '.', 'Ra', '##bies', 'vaccine', '##s', ',', 'like', 'all', 'vaccine', '##s', 'are', 'essentially', 'a', 'small', 'dos', '##age', 'of', 'de', '##activated', 'r', '##abi', '##es', 'viruses', ',', 'meant', 'to', 'stimulate', 'the', 'body', 'to', 'naturally', 'produce', 'the', 'required', 'antibodies', 'to', 'fight', 'r', '##abi', '##es', '.', 'However', ',', 'dos', '##ages', 'of', 'vaccine', '##s', 'usually', 'given', 'to', 'small', 'dogs', 'is', 'the', 'same', 'as', 'given', 'to', 'dogs', 'of', 'all', 'sizes', ',', 'which', 'is', 'sometimes', 'too', 'much', 'for', 'the', 'immune', 'system', 'of', 'small', 'breeds', 'to', 'handle', '.', 'Therefore', 'over', '-', 'v', '##ac', '##cin', '##ating', 'small', 'breeds', 'can', 'result', 'in', 'adverse', 'and', 'sometimes', 'fatal', 'reactions', ',', 'such', 'as', 'in', 'this', 'story', 'where', 'a', 'pu', '##g', 'broke', 'out', 'in', 'horrible', 'r', '##ash', '##es', 'after', 'a', 'r', '##abi', '##es', 'shot', '.', 'Therefore', 'if', 'you', 'have', 'a', 'small', 'breed', 'dog', 'which', 'is', 'primarily', 'kept', 'indoor', '##s', 'and', 'does', 'not', 'come', 'in', 'contact', 'with', 'stray', 'animals', ',', 'r', '##abi', '##es', 'v', '##ac', '##cin', '##ations', 'are', 'not', 'necessary', '!', 'V', '##ac', '##cin', '##ating', 'a', 'small', 'breed', 'that', 'has', 'close', 'to', 'zero', 'risk', 'of', 'getting', 'r', '##abi', '##es', 'is', 'de', '##p', '##ri', '##ving', 'supply', 'of', 'the', 'vaccine', 'for', 'pets', 'that', 'need', 'it', 'more', '.', 'What', 'is', 'the', 'real', 'agenda', '?', 'It', 'is', 'clear', ',', 'given', 'the', 'facts', ',', 'that', 'the', 'authorities', 'have', 'created', 'unnecessary', 'fear', 'and', 'para', '##no', '##ia', 'over', 'r', '##abi', '##es', '.', 'This', 'is', 'posing', 'an', 'even', 'greater', 'danger', 'to', 'both', 'humans', 'and', 'pets', 'who', 'actually', 'need', 'the', 'vaccine', '##s', 'because', 'of', 'the', 'resulting', 'shortages', ',', 'when', 'what', 'should', 'have', 'been', 'done', 'was', 'proper', 'education', 'on', 'r', '##abi', '##es', 'and', 'how', 'Malaysian', '##s', 'should', 'protect', 'themselves', 'and', 'their', 'pets', '.', 'It', 'is', 'not', 'a', 'big', 'secret', 'that', 'dogs', 'are', 'di', '##s', '##dain', '##ed', 'by', 'certain', 'local', 'communities', ',', 'however', 'what', 'most', 'people', 'may', 'not', 'know', 'is', 'that', 'Penang', 'Chief', 'Minister', 'Lim', 'G', '##uan', 'En', '##g', 'has', 'publicly', 'stated', 'his', 'desire', 'to', 'make', 'Penang', 'a', 'stray', '-', '-', 'free', 'state', '.', 'We', 'all', 'want', 'this', 'country', 'to', 'be', 'developed', ',', 'but', 'if', 'in', 'the', 'process', 'of', 'that', 'development', ',', '40', ',', '000', 'innocent', 'lives', 'are', 'needles', '##s', '##ly', 'taken', ',', 'it', 'will', 'never', 'be', 'a', 'development', 'any', 'Malaysian', 'with', 'a', 'soul', 'can', 'be', 'proud', 'of', '.', 'Carol', 'N', 'is', 'an', 'FM', '##T', 'reader', '.', 'With', 'a', 'firm', 'belief', 'in', 'freedom', 'of', 'expression', 'and', 'without', 'prejudice', ',', 'FM', '##T', 'tries', 'its', 'best', 'to', 'share', 'reliable', 'content', 'from', 'third', 'parties', '.', 'Such', 'articles', 'are', 'strictly', 'the', 'writer', \"'\", 's', 'personal', 'opinion', '.', 'FM', '##T', 'does', 'not', 'necessarily', 'end', '##orse', 'the', 'views', 'or', 'opinions', 'given', 'by', 'any', 'third', 'party', 'content', 'provider', '.', 'The', 'views', 'expressed', 'in', 'the', 'contents', 'are', 'those', 'of', 'our', 'users', 'and', 'do', 'not', 'necessarily', 'reflect', 'the', 'views', 'of', 'FM', '##T', '.']\n"
          ]
        }
      ],
      "source": [
        "print(tok_texts[0])"
      ]
    },
    {
      "cell_type": "code",
      "execution_count": null,
      "metadata": {
        "colab": {
          "base_uri": "https://localhost:8080/"
        },
        "id": "HPbKMGUSD-5_",
        "outputId": "8d7ee7bb-5649-4994-ee77-6c03e9269554"
      },
      "outputs": [
        {
          "data": {
            "text/plain": [
              "861"
            ]
          },
          "execution_count": 27,
          "metadata": {},
          "output_type": "execute_result"
        }
      ],
      "source": [
        "len(tok_texts[50])"
      ]
    },
    {
      "cell_type": "code",
      "execution_count": null,
      "metadata": {
        "colab": {
          "base_uri": "https://localhost:8080/"
        },
        "id": "TJB59M5bWlDF",
        "outputId": "e449b5d2-1b40-4f87-f42c-61993086e500"
      },
      "outputs": [
        {
          "name": "stdout",
          "output_type": "stream",
          "text": [
            "[0]\n"
          ]
        }
      ],
      "source": [
        "print(labels[0])"
      ]
    },
    {
      "cell_type": "code",
      "execution_count": null,
      "metadata": {
        "colab": {
          "base_uri": "https://localhost:8080/"
        },
        "id": "yHPtXTIByG7x",
        "outputId": "74010492-998b-455c-b91c-2b8ec17a5a44"
      },
      "outputs": [
        {
          "data": {
            "text/plain": [
              "503"
            ]
          },
          "execution_count": 29,
          "metadata": {},
          "output_type": "execute_result"
        }
      ],
      "source": [
        "len(tok_texts)"
      ]
    },
    {
      "cell_type": "code",
      "execution_count": null,
      "metadata": {
        "colab": {
          "base_uri": "https://localhost:8080/"
        },
        "id": "H7eGXvY_vsPG",
        "outputId": "13bfb376-0810-41e0-f46a-a2c318ba36d6"
      },
      "outputs": [
        {
          "data": {
            "text/plain": [
              "503"
            ]
          },
          "execution_count": 30,
          "metadata": {},
          "output_type": "execute_result"
        }
      ],
      "source": [
        "len(labels)"
      ]
    },
    {
      "cell_type": "code",
      "execution_count": null,
      "metadata": {
        "id": "9pZrjN1uyNVl"
      },
      "outputs": [],
      "source": [
        "input_ids = pad_sequences([tokenizer.convert_tokens_to_ids(txt) for txt in tok_texts],\n",
        "                          maxlen=MAX_LEN, dtype=\"long\", value=0.0,\n",
        "                          truncating=\"post\", padding=\"post\")"
      ]
    },
    {
      "cell_type": "code",
      "execution_count": null,
      "metadata": {
        "colab": {
          "base_uri": "https://localhost:8080/"
        },
        "id": "YnPPA4p5FEke",
        "outputId": "6e75e3b4-5a24-4c50-e846-f528a34eb6a0"
      },
      "outputs": [
        {
          "data": {
            "text/plain": [
              "(503, 200)"
            ]
          },
          "execution_count": 32,
          "metadata": {},
          "output_type": "execute_result"
        }
      ],
      "source": [
        "input_ids.shape"
      ]
    },
    {
      "cell_type": "code",
      "execution_count": null,
      "metadata": {
        "id": "WegdV9MEBGPa"
      },
      "outputs": [],
      "source": [
        "attention_masks = [[float(i != 0.0) for i in ii] for ii in input_ids]"
      ]
    },
    {
      "cell_type": "code",
      "execution_count": null,
      "metadata": {
        "colab": {
          "base_uri": "https://localhost:8080/"
        },
        "id": "PY-hSHqJdNKt",
        "outputId": "02764d08-32a6-43fe-dc71-715289a4ef19"
      },
      "outputs": [
        {
          "data": {
            "text/plain": [
              "503"
            ]
          },
          "execution_count": 40,
          "metadata": {},
          "output_type": "execute_result"
        }
      ],
      "source": [
        "len(attention_masks)"
      ]
    },
    {
      "cell_type": "markdown",
      "metadata": {
        "id": "hGlRTtznfV_L"
      },
      "source": [
        "# Model"
      ]
    },
    {
      "cell_type": "code",
      "execution_count": null,
      "metadata": {
        "id": "IyG2ydyOBadA"
      },
      "outputs": [],
      "source": [
        "config = BertConfig.from_json_file('biobert_v1.1_pubmed/config.json')\n",
        "tmp_d = torch.load('biobert_v1.1_pubmed/pytorch_model.bin', map_location=device)\n",
        "state_dict = OrderedDict()\n",
        "\n",
        "for i in list(tmp_d.keys())[:199]:\n",
        "    x = i\n",
        "    if i.find('bert') > -1:\n",
        "        x = '.'.join(i.split('.')[1:])\n",
        "    state_dict[x] = tmp_d[i]"
      ]
    },
    {
      "cell_type": "code",
      "execution_count": null,
      "metadata": {
        "id": "hHpshAvj-9pm"
      },
      "outputs": [],
      "source": [
        "#vocab_len=len(np.unique(labels))+1\n",
        "vocab_len=2"
      ]
    },
    {
      "cell_type": "code",
      "execution_count": null,
      "metadata": {
        "id": "FSFH01a3bSIg"
      },
      "outputs": [],
      "source": [
        "class EpidBioBert(nn.Module):\n",
        "\n",
        "  def __init__(self, vocab_len, config, state_dict):\n",
        "    super().__init__()\n",
        "    self.bert = BertModel(config)\n",
        "    self.bert.load_state_dict(state_dict, strict=False)\n",
        "    self.dropout = nn.Dropout(p=0.3)\n",
        "    self.batchnorm=nn.BatchNorm1d(1,affine=False)\n",
        "    self.output = nn.Linear(self.bert.config.hidden_size, vocab_len)\n",
        "    self.softmax = nn.Softmax(dim=1)\n",
        "\n",
        "  def forward(self, input_ids, attention_mask):\n",
        "    encoded_layer, _ = self.bert(input_ids=input_ids, attention_mask=attention_mask)\n",
        "    encl = encoded_layer[-1]\n",
        "    max_pooled, _  = torch.max(encl, 1)\n",
        "    norm=torch.squeeze(self.batchnorm(torch.unsqueeze(max_pooled,1)),0)\n",
        "    dropped = self.dropout(norm)\n",
        "    out = self.output(dropped)\n",
        "    return out, out.argmax(-1)"
      ]
    },
    {
      "cell_type": "code",
      "execution_count": null,
      "metadata": {
        "id": "Xmvcc45KPunQ"
      },
      "outputs": [],
      "source": [
        "def train_epoch(model,data_loader,loss_fn,optimizer,device,scheduler):\n",
        "    model = model.train()\n",
        "    losses = []\n",
        "    correct_predictions = 0.\n",
        "    batch_no = 1\n",
        "    for step,batch in enumerate(data_loader):\n",
        "\n",
        "        batch = tuple(t.to(device) for t in batch)\n",
        "        b_input_ids, b_input_mask, b_labels = batch\n",
        "        \n",
        "        outputs,y_hat = model(b_input_ids,b_input_mask)\n",
        "        _,preds = torch.max(outputs,dim=2)\n",
        "\n",
        "        outputs = outputs.view(-1,outputs.shape[-1])\n",
        "        b_labels_shaped = b_labels.view(-1)\n",
        "\n",
        "        loss=loss_fn(outputs,b_labels_shaped)\n",
        "        correct_predictions += torch.sum(preds == b_labels)\n",
        "        losses.append(loss.item())\n",
        "        \n",
        "        loss.backward()\n",
        "        torch.nn.utils.clip_grad_norm_(parameters=model.parameters(), max_norm=max_grad_norm)\n",
        "        optimizer.step()\n",
        "        scheduler.step()\n",
        "        optimizer.zero_grad()\n",
        "        \n",
        "        batch_no=batch_no+1\n",
        "\n",
        "    return correct_predictions.double()/len(data_loader.dataset) , np.mean(losses)"
      ]
    },
    {
      "cell_type": "code",
      "execution_count": null,
      "metadata": {
        "id": "l3XQ10okPyIa"
      },
      "outputs": [],
      "source": [
        "def model_eval(model,data_loader,loss_fn,device):\n",
        "    model = model.eval()\n",
        "    \n",
        "    losses = []\n",
        "    correct_predictions = 0.\n",
        "\n",
        "    original_labels, new_labels = [], []\n",
        "    \n",
        "    with torch.no_grad():\n",
        "        for step, batch in enumerate(data_loader):\n",
        "            batch = tuple(t.to(device) for t in batch)\n",
        "            b_input_ids, b_input_mask, b_labels = batch\n",
        "            \n",
        "        \n",
        "            outputs,y_hat = model(b_input_ids,b_input_mask)\n",
        "        \n",
        "            _,preds = torch.max(outputs,dim=2)\n",
        "\n",
        "            outputs = outputs.view(-1,outputs.shape[-1])\n",
        "            b_labels_shaped = b_labels.view(-1)\n",
        "            loss = loss_fn(outputs,b_labels_shaped)\n",
        "            correct_predictions += torch.sum(preds == b_labels)\n",
        "            losses.append(loss.item())\n",
        "\n",
        "            label_indices = y_hat.to('cpu').numpy()\n",
        "            pred_indices = b_labels_shaped.to('cpu').numpy()\n",
        "\n",
        "            for label_idx,pred_idx in zip(label_indices,pred_indices):\n",
        "              new_labels.append(label_idx[0])\n",
        "              original_labels.append(pred_idx)\n",
        "\n",
        "        print('\\nPrecision_Score: ',precision_score(original_labels,new_labels,pos_label=1))\n",
        "        print('\\nRecall_Score: ',recall_score(original_labels,new_labels,pos_label=1))\n",
        "        print('\\nF_Score: ',f1_score(original_labels,new_labels,pos_label=1))\n",
        "    return correct_predictions/len(data_loader.dataset) , np.mean(losses)"
      ]
    },
    {
      "cell_type": "code",
      "execution_count": null,
      "metadata": {
        "colab": {
          "base_uri": "https://localhost:8080/"
        },
        "id": "QYinJKLh2E8_",
        "outputId": "84ab7e11-db0f-48d4-b257-45541e6a47b6"
      },
      "outputs": [
        {
          "name": "stdout",
          "output_type": "stream",
          "text": [
            "CPU times: user 2 µs, sys: 1e+03 ns, total: 3 µs\n",
            "Wall time: 5.72 µs\n",
            "======== Epoch 1/5 ========\n",
            "Train Loss: 0.7755016028881073 Train Accuracy: 0.5875\n"
          ]
        },
        {
          "name": "stderr",
          "output_type": "stream",
          "text": [
            "/usr/local/lib/python3.7/dist-packages/sklearn/metrics/_classification.py:1308: UndefinedMetricWarning: Precision is ill-defined and being set to 0.0 due to no predicted samples. Use `zero_division` parameter to control this behavior.\n",
            "  _warn_prf(average, modifier, msg_start, len(result))\n"
          ]
        },
        {
          "name": "stdout",
          "output_type": "stream",
          "text": [
            "\n",
            "Precision_Score:  0.0\n",
            "\n",
            "Recall_Score:  0.0\n",
            "\n",
            "F_Score:  0.0\n",
            "Val Loss: 0.6270269751548767 Val Accuracy: 0.6274510025978088\n",
            "======== Epoch 2/5 ========\n",
            "Train Loss: 0.5591334044933319 Train Accuracy: 0.7312500000000001\n",
            "\n",
            "Precision_Score:  0.7142857142857143\n",
            "\n",
            "Recall_Score:  0.625\n",
            "\n",
            "F_Score:  0.6666666666666666\n",
            "Val Loss: 0.5134502351284027 Val Accuracy: 0.7450980544090271\n",
            "======== Epoch 3/5 ========\n",
            "Train Loss: 0.4260137140750885 Train Accuracy: 0.8\n",
            "\n",
            "Precision_Score:  0.8333333333333334\n",
            "\n",
            "Recall_Score:  0.625\n",
            "\n",
            "F_Score:  0.7142857142857143\n",
            "Val Loss: 0.40579689542452496 Val Accuracy: 0.7843137383460999\n",
            "======== Epoch 4/5 ========\n",
            "Train Loss: 0.27534659057855604 Train Accuracy: 0.925\n",
            "\n",
            "Precision_Score:  0.6666666666666666\n",
            "\n",
            "Recall_Score:  0.875\n",
            "\n",
            "F_Score:  0.7567567567567567\n",
            "Val Loss: 0.3570333520571391 Val Accuracy: 0.7647058963775635\n",
            "======== Epoch 5/5 ========\n",
            "Train Loss: 0.20934491902589797 Train Accuracy: 0.93125\n",
            "\n",
            "Precision_Score:  0.6666666666666666\n",
            "\n",
            "Recall_Score:  0.875\n",
            "\n",
            "F_Score:  0.7567567567567567\n",
            "Val Loss: 0.2943565845489502 Val Accuracy: 0.7647058963775635\n",
            "\n",
            "Precision_Score:  0.8666666666666667\n",
            "\n",
            "Recall_Score:  0.8666666666666667\n",
            "\n",
            "F_Score:  0.8666666666666667\n",
            "Test Loss for fold 1: 0.4035138338804245 Test Accuracy: 0.699999988079071 F Score: 0.8666666666666667\n",
            "CPU times: user 2 µs, sys: 0 ns, total: 2 µs\n",
            "Wall time: 5.25 µs\n",
            "======== Epoch 1/5 ========\n",
            "Train Loss: 0.6680133014917373 Train Accuracy: 0.68125\n",
            "\n",
            "Precision_Score:  0.75\n",
            "\n",
            "Recall_Score:  0.5454545454545454\n",
            "\n",
            "F_Score:  0.631578947368421\n",
            "Val Loss: 0.6445387999216715 Val Accuracy: 0.6666666865348816\n",
            "======== Epoch 2/5 ========\n",
            "Train Loss: 0.4946148067712784 Train Accuracy: 0.775\n",
            "\n",
            "Precision_Score:  0.875\n",
            "\n",
            "Recall_Score:  0.3181818181818182\n",
            "\n",
            "F_Score:  0.4666666666666667\n",
            "Val Loss: 0.5837717453638712 Val Accuracy: 0.6274510025978088\n",
            "======== Epoch 3/5 ========\n",
            "Train Loss: 0.35025114119052886 Train Accuracy: 0.83125\n",
            "\n",
            "Precision_Score:  0.7727272727272727\n",
            "\n",
            "Recall_Score:  0.7727272727272727\n",
            "\n",
            "F_Score:  0.7727272727272727\n",
            "Val Loss: 0.4876897434393565 Val Accuracy: 0.7450980544090271\n",
            "======== Epoch 4/5 ========\n",
            "Train Loss: 0.22495976835489273 Train Accuracy: 0.9500000000000001\n",
            "\n",
            "Precision_Score:  0.8421052631578947\n",
            "\n",
            "Recall_Score:  0.7272727272727273\n",
            "\n",
            "F_Score:  0.7804878048780488\n",
            "Val Loss: 0.43363528450330097 Val Accuracy: 0.7647058963775635\n",
            "======== Epoch 5/5 ========\n",
            "Train Loss: 0.1821790985763073 Train Accuracy: 0.9125000000000001\n",
            "\n",
            "Precision_Score:  0.84\n",
            "\n",
            "Recall_Score:  0.9545454545454546\n",
            "\n",
            "F_Score:  0.8936170212765958\n",
            "Val Loss: 0.3920229772726695 Val Accuracy: 0.843137264251709\n",
            "\n",
            "Precision_Score:  0.8181818181818182\n",
            "\n",
            "Recall_Score:  0.6923076923076923\n",
            "\n",
            "F_Score:  0.7500000000000001\n",
            "Test Loss for fold 2: 0.35482966899871826 Test Accuracy: 0.6341463327407837 F Score: 0.7500000000000001\n"
          ]
        }
      ],
      "source": [
        "#our_cv_acc, our_cv_f_score = [],[]\n",
        "#for num_folds in range(2,5):\n",
        "kfold = KFold(n_splits=num_folds, shuffle=True)\n",
        "fold_no = 1\n",
        "split_size=.2\n",
        "acc_per_fold, f_score_per_fold = [],[]\n",
        "for train, test in kfold.split(input_ids, labels):\n",
        "  \n",
        "  #input_ids=input_ids[train]\n",
        "  #labels=labels[train]\n",
        "\n",
        "  #test_input_ids=input_ids[test]\n",
        "  #test_labels=labels[test]\n",
        "\n",
        "  tr_inputs, val_inputs, tr_tags, val_tags = train_test_split(input_ids[train], labels[train],\n",
        "                                                            random_state=2018, test_size=split_size)\n",
        "  tr_masks, val_masks, _, _ = train_test_split(np.array(attention_masks)[train], input_ids[train],\n",
        "                                              random_state=2018, test_size=split_size)\n",
        "\n",
        "  n_attention_masks = [[float(i != 0.0) for i in ii] for ii in tr_inputs]\n",
        "\n",
        "  tr_masks, test_masks, _, _ = train_test_split(n_attention_masks, tr_inputs,\n",
        "                                              random_state=2018, test_size=split_size)\n",
        "\n",
        "  tr_inputs, test_inputs, tr_tags, test_tags = train_test_split(tr_inputs, tr_tags,\n",
        "                                                              random_state=2018, test_size=split_size)\n",
        "\n",
        "  tr_inputs = torch.tensor(tr_inputs)\n",
        "  val_inputs = torch.tensor(val_inputs)\n",
        "  test_inputs = torch.tensor(test_inputs)\n",
        "\n",
        "\n",
        "  tr_tags = torch.tensor(tr_tags)\n",
        "  val_tags = torch.tensor(val_tags)\n",
        "  test_tags = torch.tensor(test_tags)\n",
        "\n",
        "  tr_masks = torch.tensor(tr_masks)\n",
        "  val_masks = torch.tensor(val_masks)\n",
        "  test_masks = torch.tensor(test_masks)\n",
        "\n",
        "  train_data = TensorDataset(tr_inputs, tr_masks, tr_tags)\n",
        "  train_sampler = RandomSampler(train_data)\n",
        "  train_dataloader = DataLoader(train_data, sampler=train_sampler, batch_size=BATCH_SIZE, drop_last=True)\n",
        "\n",
        "  valid_data = TensorDataset(val_inputs, val_masks, val_tags)\n",
        "  valid_sampler = SequentialSampler(valid_data)\n",
        "  valid_dataloader = DataLoader(valid_data, sampler=valid_sampler, batch_size=BATCH_SIZE, drop_last=True)\n",
        "\n",
        "  test_data = TensorDataset(test_inputs, test_masks, test_tags)\n",
        "  test_sampler = SequentialSampler(test_data)\n",
        "  test_dataloader = DataLoader(test_data, sampler=test_sampler, batch_size=BATCH_SIZE, drop_last=True)\n",
        "\n",
        "  model = EpidBioBERT(vocab_len,config,state_dict)\n",
        "  model.to(device)\n",
        "\n",
        "  param_optimizer = list(model.named_parameters())\n",
        "  no_decay = ['bias', 'gamma', 'beta']\n",
        "  optimizer_grouped_parameters = [\n",
        "          {'params': [p for n, p in param_optimizer if not any(nd in n for nd in no_decay)],\n",
        "          'weight_decay_rate': 0.01},\n",
        "          {'params': [p for n, p in param_optimizer if any(nd in n for nd in no_decay)],\n",
        "          'weight_decay_rate': 0.0}\n",
        "      ]\n",
        "\n",
        "  optimizer = AdamW(\n",
        "      optimizer_grouped_parameters,\n",
        "      lr=1e-5,\n",
        "      eps=1e-8\n",
        "  )\n",
        "  epochs = 5 #Simply train for 1 epoch\n",
        "  max_grad_norm = 1.0\n",
        "\n",
        "  total_steps = len(train_dataloader.dataset) * epochs\n",
        "  warmup_steps = int(epochs * len(train_dataloader.dataset) * 0.1 / BATCH_SIZE) #mine\n",
        "\n",
        "\n",
        "  scheduler = get_linear_schedule_with_warmup(\n",
        "      optimizer,\n",
        "      num_warmup_steps=0,\n",
        "      #num_warmup_steps=warmup_steps,\n",
        "      num_training_steps=total_steps\n",
        "  )\n",
        "  loss_fn = nn.CrossEntropyLoss().to(device)\n",
        "\n",
        "  %%time\n",
        "  history = defaultdict(list)\n",
        "  best_accuracy = 0\n",
        "  normalizer = BATCH_SIZE*MAX_LEN\n",
        "  loss_values = []\n",
        "\n",
        "  for epoch in range(epochs):\n",
        "      \n",
        "      total_loss = 0\n",
        "      print(f'======== Epoch {epoch+1}/{epochs} ========')\n",
        "      train_acc,train_loss = train_epoch(model,train_dataloader,loss_fn,optimizer,device,scheduler)\n",
        "      #train_acc = train_acc/normalizer\n",
        "      print(f'Train Loss: {train_loss} Train Accuracy: {train_acc}')\n",
        "      total_loss += train_loss.item()\n",
        "      \n",
        "      avg_train_loss = total_loss / len(train_dataloader.dataset)  \n",
        "      loss_values.append(avg_train_loss)\n",
        "      \n",
        "      val_acc,val_loss,_ = model_eval(model,valid_dataloader,loss_fn,device)\n",
        "      #val_acc = val_acc/normalizer\n",
        "      print(f'Val Loss: {val_loss} Val Accuracy: {val_acc}')\n",
        "      \n",
        "      history['train_loss'].append(train_loss)\n",
        "      history['train_acc'].append(train_acc)\n",
        "      \n",
        "      history['val_loss'].append(val_loss)\n",
        "      history['val_acc'].append(val_acc)\n",
        "\n",
        "  \n",
        "\n",
        "  \"\"\"sns.set(style='darkgrid')\n",
        "\n",
        "  sns.set(font_scale=1.5)\n",
        "  plt.rcParams[\"figure.figsize\"] = (12,6)\n",
        "\n",
        "  # learning curve\n",
        "  plt.plot(loss_values, 'b-o')\n",
        "  plt.plot(history['train_loss'],'g--',label='Train Loss')\n",
        "  plt.plot(history['val_loss'],'b',label='Val Loss')\n",
        "\n",
        "  plt.title(\"Training loss\")\n",
        "  plt.xlabel(\"Epoch\")\n",
        "  plt.ylabel(\"Loss\")\n",
        "  plt.legend()\n",
        "\n",
        "  plt.show()\"\"\"\n",
        "\n",
        "  test_acc,test_loss,f_score = model_eval(model,test_dataloader,loss_fn,device)\n",
        "  #test_acc = test_acc\n",
        "  print(f'Test Loss for fold {fold_no}: {test_loss} Test Accuracy: {test_acc} F Score: {f_score}')\n",
        "  acc_per_fold.append(test_acc)\n",
        "  f_score_per_fold.append(f_score)\n",
        "\n",
        "  fold_no = fold_no + 1\n",
        "\n",
        "  #our_cv_acc.append(torch.mean(torch.stack(acc_per_fold)))\n",
        "  #our_cv_f_score.append(np.mean(f_score_per_fold))\n"
      ]
    },
    {
      "cell_type": "code",
      "execution_count": null,
      "metadata": {
        "colab": {
          "base_uri": "https://localhost:8080/"
        },
        "id": "ui8qRGI1J0Ry",
        "outputId": "a3bad79d-50ef-4cb6-a6eb-e6e61d81f65c"
      },
      "outputs": [
        {
          "name": "stdout",
          "output_type": "stream",
          "text": [
            "------------------------------------------------------------------------\n",
            "Average scores for all folds:\n",
            "> Accuracy: 0.667073130607605 (+- 0.04656556621193886)\n",
            "> F_Score: 0.8083333333333333 (+- 0.05833333333333329)\n"
          ]
        }
      ],
      "source": [
        "#for i in range(0,num_folds):\n",
        "print('------------------------------------------------------------------------')\n",
        "print('Average scores for all folds:')\n",
        "print(f'> Accuracy: {torch.mean(torch.stack(acc_per_fold),dim=0)} (+- {torch.std(torch.stack(acc_per_fold),dim=0)})')\n",
        "print(f'> F_Score: {np.mean(f_score_per_fold)} (+- {np.std(f_score_per_fold)})')"
      ]
    },
    {
      "cell_type": "code",
      "execution_count": null,
      "metadata": {
        "id": "-pU5RieT6GJK"
      },
      "outputs": [],
      "source": [
        "our_cv_acc=[0.8083,0.8685,0.8680,0.8239,0.8167,0.8784,0.8784,0.8784,0.8784]\n",
        "svm_glove_cv_acc=[0.1808,0.2620, 0.2007, 0.1452, 0.1713, 0.1873, 0.1759, 0.1859, 0.1731]\n",
        "svm_ohe_cv_acc=[0.2258, 0.2545, 0.2809, 0.2375, 0.2792, 0.2411, 0.3013, 0.2999, 0.2441]\n",
        "svm_tfidf_cv_acc=[0.1676, 0.2374, 0.2377, 0.2251, 0.2553, 0.2651, 0.2569, 0.2438, 0.2220]"
      ]
    },
    {
      "cell_type": "code",
      "execution_count": null,
      "metadata": {
        "colab": {
          "background_save": true
        },
        "id": "WBxqhZ6450Ub",
        "outputId": "fd7978fe-edce-4479-de62-730dcf924a9f"
      },
      "outputs": [
        {
          "data": {
            "image/png": "[encoded data removed]",
            "text/plain": [
              "<Figure size 864x432 with 1 Axes>"
            ]
          },
          "metadata": {},
          "output_type": "display_data"
        }
      ],
      "source": [
        "\"\"\"sns.set(style='darkgrid')\n",
        "sns.set_style(\"white\")\n",
        "sns.despine(left=True, bottom=True)\n",
        "\n",
        "sns.set(font_scale=1.5)\"\"\"\n",
        "sns.set_style('ticks',{'xtick.direction': 'out'})\n",
        "plt.rcParams[\"figure.figsize\"] = (12,6)\n",
        "cv_range=[2,3,4,5,6,7,8,9,10]\n",
        "\n",
        "# learning curve\n",
        "plt.plot(cv_range,our_cv_acc,'b',label='EpidBioBERT+CV')\n",
        "plt.plot(cv_range,svm_ohe_cv_acc,'r',label='SVM+OHE+CV')\n",
        "plt.plot(cv_range,svm_glove_cv_acc,'g',label='SVM+GloVe+CV')\n",
        "plt.plot(cv_range,svm_tfidf_cv_acc,'orange',label='SVM+TF-IDF+CV')\n",
        "\n",
        "\n",
        "plt.title(\"Cross Validated Performance\")\n",
        "plt.xlabel(\"K-Fold Cross Validation\")\n",
        "plt.ylabel(\"Average Folds F-Score\")\n",
        "plt.legend()\n",
        "\n",
        "plt.show()"
      ]
    }
  ],
  "metadata": {
    "accelerator": "GPU",
    "colab": {
      "collapsed_sections": [],
      "name": "Doc_SpacioTemp_Epid_FT_CV.ipynb",
      "provenance": []
    },
    "kernelspec": {
      "display_name": "Python 3",
      "name": "python3"
    }
  },
  "nbformat": 4,
  "nbformat_minor": 0
}