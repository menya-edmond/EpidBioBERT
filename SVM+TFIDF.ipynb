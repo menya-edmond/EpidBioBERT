{
  "cells": [
    {
      "cell_type": "code",
      "execution_count": null,
      "metadata": {
        "id": "CSnlk7OtfeAp"
      },
      "outputs": [],
      "source": [
        "from sklearn.feature_extraction.text import TfidfVectorizer\n",
        "from sklearn.decomposition import PCA\n",
        "from sklearn.naive_bayes import MultinomialNB\n",
        "from sklearn import svm\n",
        "from sklearn.pipeline import Pipeline\n",
        "from sklearn.metrics import accuracy_score,precision_recall_fscore_support,precision_score,recall_score,f1_score,confusion_matrix,classification_report\n",
        "from sklearn.model_selection import train_test_split,KFold,cross_val_score\n",
        "from sklearn.preprocessing import LabelEncoder\n",
        "import matplotlib.pyplot as plt"
      ]
    },
    {
      "cell_type": "code",
      "execution_count": null,
      "metadata": {
        "id": "kQIg6LIrlCG4"
      },
      "outputs": [],
      "source": [
        "import pandas as pd\n",
        "import numpy as np\n",
        "import seaborn as sns\n",
        "import matplotlib.pyplot as plt\n",
        "import keras.backend as K\n",
        "import tensorflow as tf\n",
        "import os\n",
        "import csv\n",
        "import nltk\n",
        "import spacy\n",
        "import json"
      ]
    },
    {
      "cell_type": "code",
      "execution_count": null,
      "metadata": {
        "id": "5NDxgRFQGHKH"
      },
      "outputs": [],
      "source": [
        "from tensorflow.keras.models import *\n",
        "from tensorflow.keras.layers import *\n",
        "from tensorflow.keras.callbacks import *\n",
        "from tensorflow.keras.preprocessing.text import Tokenizer\n",
        "from tensorflow.keras.preprocessing.sequence import pad_sequences"
      ]
    },
    {
      "cell_type": "code",
      "execution_count": null,
      "metadata": {
        "id": "GYkAronEwXvr",
        "colab": {
          "base_uri": "https://localhost:8080/"
        },
        "outputId": "5d5cd884-c7ff-4525-8f77-ac26c61b7858"
      },
      "outputs": [
        {
          "output_type": "stream",
          "name": "stdout",
          "text": [
            "Mounted at /content/drive\n"
          ]
        }
      ],
      "source": [
        "from google.colab import drive\n",
        "drive._mount('/content/drive')"
      ]
    },
    {
      "cell_type": "code",
      "source": [
        "SEQ_LEN=128\n",
        "DIM_EMB=300"
      ],
      "metadata": {
        "id": "OuW1O5PWOHPT"
      },
      "execution_count": null,
      "outputs": []
    },
    {
      "cell_type": "code",
      "execution_count": null,
      "metadata": {
        "id": "rw98GuKnsiCt"
      },
      "outputs": [],
      "source": [
        "corpora = '/content/drive/MyDrive/Colab Data/articles'\n",
        "tagged_data=[]\n",
        "irrelevant_docs=0\n",
        "irrelevant_docs_address=[]\n",
        "df_corpus={'Content':[],'Label':[]}\n",
        "\n",
        "for subdir, dirs, files in os.walk(corpora):\n",
        "  for file in files:\n",
        "    path = os.path.join(subdir, file)\n",
        "    \n",
        "    with open(path,'r') as f:\n",
        "      data=json.load(f)\n",
        "      if data['candidateLabels']: #not an empty list thus relevant document\n",
        "\n",
        "        if data['content']:\n",
        "          df_corpus['Content'].append(data['content'].replace('\\r', '').replace('\\t', '').replace('\\n','').replace('&#13;',''))\n",
        "          df_corpus['Label'].append('relevant')\n",
        "\n",
        "      else:#irrelevant document\n",
        "        \"\"\"df_corpus['Content'].append(data['content'])\n",
        "        df_corpus['Label'].append('irrelevant')\"\"\"\n",
        "\n",
        "        if data['content']:\n",
        "          df_corpus['Content'].append(data['content'].replace('\\r', '').replace('\\t', '').replace('\\n','').replace('&#13;',''))\n",
        "          df_corpus['Label'].append('irrelevant')"
      ]
    },
    {
      "cell_type": "code",
      "execution_count": null,
      "metadata": {
        "id": "y4o4sN_S00-H"
      },
      "outputs": [],
      "source": [
        "data=pd.DataFrame(df_corpus)"
      ]
    },
    {
      "cell_type": "code",
      "execution_count": null,
      "metadata": {
        "id": "ICzjD_4unmvu",
        "colab": {
          "base_uri": "https://localhost:8080/",
          "height": 206
        },
        "outputId": "7c04b371-0995-4bef-cc47-54246cb6f263"
      },
      "outputs": [
        {
          "output_type": "execute_result",
          "data": {
            "text/html": [
              "\n",
              "  <div id=\"df-fed2794f-a35c-426b-9fff-9984d40760ee\">\n",
              "    <div class=\"colab-df-container\">\n",
              "      <div>\n",
              "<style scoped>\n",
              "    .dataframe tbody tr th:only-of-type {\n",
              "        vertical-align: middle;\n",
              "    }\n",
              "\n",
              "    .dataframe tbody tr th {\n",
              "        vertical-align: top;\n",
              "    }\n",
              "\n",
              "    .dataframe thead th {\n",
              "        text-align: right;\n",
              "    }\n",
              "</style>\n",
              "<table border=\"1\" class=\"dataframe\">\n",
              "  <thead>\n",
              "    <tr style=\"text-align: right;\">\n",
              "      <th></th>\n",
              "      <th>Content</th>\n",
              "      <th>Label</th>\n",
              "    </tr>\n",
              "  </thead>\n",
              "  <tbody>\n",
              "    <tr>\n",
              "      <th>0</th>\n",
              "      <td>Instead of creating unnecessary fear and paran...</td>\n",
              "      <td>irrelevant</td>\n",
              "    </tr>\n",
              "    <tr>\n",
              "      <th>1</th>\n",
              "      <td>The International Monetary Fund has given Bot...</td>\n",
              "      <td>irrelevant</td>\n",
              "    </tr>\n",
              "    <tr>\n",
              "      <th>2</th>\n",
              "      <td>10 October 2015 Last updated at: 5:05 AM  M...</td>\n",
              "      <td>irrelevant</td>\n",
              "    </tr>\n",
              "    <tr>\n",
              "      <th>3</th>\n",
              "      <td>YAMAGUCHI – An outbreak of highly pathogenic ...</td>\n",
              "      <td>relevant</td>\n",
              "    </tr>\n",
              "    <tr>\n",
              "      <th>4</th>\n",
              "      <td>SEOUL South Korea has confirmed a fresh case o...</td>\n",
              "      <td>relevant</td>\n",
              "    </tr>\n",
              "  </tbody>\n",
              "</table>\n",
              "</div>\n",
              "      <button class=\"colab-df-convert\" onclick=\"convertToInteractive('df-fed2794f-a35c-426b-9fff-9984d40760ee')\"\n",
              "              title=\"Convert this dataframe to an interactive table.\"\n",
              "              style=\"display:none;\">\n",
              "        \n",
              "  <svg xmlns=\"http://www.w3.org/2000/svg\" height=\"24px\"viewBox=\"0 0 24 24\"\n",
              "       width=\"24px\">\n",
              "    <path d=\"M0 0h24v24H0V0z\" fill=\"none\"/>\n",
              "    <path d=\"M18.56 5.44l.94 2.06.94-2.06 2.06-.94-2.06-.94-.94-2.06-.94 2.06-2.06.94zm-11 1L8.5 8.5l.94-2.06 2.06-.94-2.06-.94L8.5 2.5l-.94 2.06-2.06.94zm10 10l.94 2.06.94-2.06 2.06-.94-2.06-.94-.94-2.06-.94 2.06-2.06.94z\"/><path d=\"M17.41 7.96l-1.37-1.37c-.4-.4-.92-.59-1.43-.59-.52 0-1.04.2-1.43.59L10.3 9.45l-7.72 7.72c-.78.78-.78 2.05 0 2.83L4 21.41c.39.39.9.59 1.41.59.51 0 1.02-.2 1.41-.59l7.78-7.78 2.81-2.81c.8-.78.8-2.07 0-2.86zM5.41 20L4 18.59l7.72-7.72 1.47 1.35L5.41 20z\"/>\n",
              "  </svg>\n",
              "      </button>\n",
              "      \n",
              "  <style>\n",
              "    .colab-df-container {\n",
              "      display:flex;\n",
              "      flex-wrap:wrap;\n",
              "      gap: 12px;\n",
              "    }\n",
              "\n",
              "    .colab-df-convert {\n",
              "      background-color: #E8F0FE;\n",
              "      border: none;\n",
              "      border-radius: 50%;\n",
              "      cursor: pointer;\n",
              "      display: none;\n",
              "      fill: #1967D2;\n",
              "      height: 32px;\n",
              "      padding: 0 0 0 0;\n",
              "      width: 32px;\n",
              "    }\n",
              "\n",
              "    .colab-df-convert:hover {\n",
              "      background-color: #E2EBFA;\n",
              "      box-shadow: 0px 1px 2px rgba(60, 64, 67, 0.3), 0px 1px 3px 1px rgba(60, 64, 67, 0.15);\n",
              "      fill: #174EA6;\n",
              "    }\n",
              "\n",
              "    [theme=dark] .colab-df-convert {\n",
              "      background-color: #3B4455;\n",
              "      fill: #D2E3FC;\n",
              "    }\n",
              "\n",
              "    [theme=dark] .colab-df-convert:hover {\n",
              "      background-color: #434B5C;\n",
              "      box-shadow: 0px 1px 3px 1px rgba(0, 0, 0, 0.15);\n",
              "      filter: drop-shadow(0px 1px 2px rgba(0, 0, 0, 0.3));\n",
              "      fill: #FFFFFF;\n",
              "    }\n",
              "  </style>\n",
              "\n",
              "      <script>\n",
              "        const buttonEl =\n",
              "          document.querySelector('#df-fed2794f-a35c-426b-9fff-9984d40760ee button.colab-df-convert');\n",
              "        buttonEl.style.display =\n",
              "          google.colab.kernel.accessAllowed ? 'block' : 'none';\n",
              "\n",
              "        async function convertToInteractive(key) {\n",
              "          const element = document.querySelector('#df-fed2794f-a35c-426b-9fff-9984d40760ee');\n",
              "          const dataTable =\n",
              "            await google.colab.kernel.invokeFunction('convertToInteractive',\n",
              "                                                     [key], {});\n",
              "          if (!dataTable) return;\n",
              "\n",
              "          const docLinkHtml = 'Like what you see? Visit the ' +\n",
              "            '<a target=\"_blank\" href=https://colab.research.google.com/notebooks/data_table.ipynb>data table notebook</a>'\n",
              "            + ' to learn more about interactive tables.';\n",
              "          element.innerHTML = '';\n",
              "          dataTable['output_type'] = 'display_data';\n",
              "          await google.colab.output.renderOutput(dataTable, element);\n",
              "          const docLink = document.createElement('div');\n",
              "          docLink.innerHTML = docLinkHtml;\n",
              "          element.appendChild(docLink);\n",
              "        }\n",
              "      </script>\n",
              "    </div>\n",
              "  </div>\n",
              "  "
            ],
            "text/plain": [
              "                                             Content       Label\n",
              "0  Instead of creating unnecessary fear and paran...  irrelevant\n",
              "1   The International Monetary Fund has given Bot...  irrelevant\n",
              "2     10 October 2015 Last updated at: 5:05 AM  M...  irrelevant\n",
              "3   YAMAGUCHI – An outbreak of highly pathogenic ...    relevant\n",
              "4  SEOUL South Korea has confirmed a fresh case o...    relevant"
            ]
          },
          "metadata": {},
          "execution_count": 8
        }
      ],
      "source": [
        "data.head()"
      ]
    },
    {
      "cell_type": "code",
      "source": [
        "X=data['Content'].to_numpy()\n",
        "y=data['Label'].to_numpy()"
      ],
      "metadata": {
        "id": "XWTT3-ZDRV8a"
      },
      "execution_count": null,
      "outputs": []
    },
    {
      "cell_type": "code",
      "execution_count": null,
      "metadata": {
        "id": "mAnMG5suL3cT"
      },
      "outputs": [],
      "source": [
        "tokenizer = Tokenizer(num_words= 30000,lower=False)\n",
        "label_encoder=LabelEncoder()"
      ]
    },
    {
      "cell_type": "code",
      "source": [
        "tokenizer.fit_on_texts(data['Content'])"
      ],
      "metadata": {
        "id": "LV0EjugcRhv9"
      },
      "execution_count": null,
      "outputs": []
    },
    {
      "cell_type": "code",
      "execution_count": null,
      "metadata": {
        "id": "qkNGKtB8QTv6",
        "colab": {
          "base_uri": "https://localhost:8080/"
        },
        "outputId": "0a44c5d8-651e-456d-d158-a162cb392236"
      },
      "outputs": [
        {
          "output_type": "execute_result",
          "data": {
            "text/plain": [
              "LabelEncoder()"
            ]
          },
          "metadata": {},
          "execution_count": 12
        }
      ],
      "source": [
        "label_encoder.fit(data['Label'])"
      ]
    },
    {
      "cell_type": "code",
      "source": [
        "label_encoder.inverse_transform([0])"
      ],
      "metadata": {
        "colab": {
          "base_uri": "https://localhost:8080/"
        },
        "id": "1TjQLJDdUGII",
        "outputId": "0054b617-faa3-4547-8512-167149c7f0e3"
      },
      "execution_count": null,
      "outputs": [
        {
          "output_type": "execute_result",
          "data": {
            "text/plain": [
              "array(['irrelevant'], dtype=object)"
            ]
          },
          "metadata": {},
          "execution_count": 13
        }
      ]
    },
    {
      "cell_type": "code",
      "execution_count": null,
      "metadata": {
        "id": "_amzBRS9Mz1I"
      },
      "outputs": [],
      "source": [
        "X=data['Content']\n",
        "y=label_encoder.transform(data['Label'])"
      ]
    },
    {
      "cell_type": "code",
      "source": [
        "vectorizer = TfidfVectorizer(lowercase=False)"
      ],
      "metadata": {
        "id": "uOoDKnQYLl1v"
      },
      "execution_count": null,
      "outputs": []
    },
    {
      "cell_type": "code",
      "source": [
        "X_vec=vectorizer.fit_transform(X)"
      ],
      "metadata": {
        "id": "QsFYmb8KKCqj"
      },
      "execution_count": null,
      "outputs": []
    },
    {
      "cell_type": "code",
      "source": [
        "vocab=vectorizer.get_feature_names()"
      ],
      "metadata": {
        "colab": {
          "base_uri": "https://localhost:8080/"
        },
        "id": "4C_sL5HaOa-C",
        "outputId": "8534863a-573c-4978-da5c-00f8d11b12c3"
      },
      "execution_count": null,
      "outputs": [
        {
          "output_type": "stream",
          "name": "stderr",
          "text": [
            "/usr/local/lib/python3.7/dist-packages/sklearn/utils/deprecation.py:87: FutureWarning: Function get_feature_names is deprecated; get_feature_names is deprecated in 1.0 and will be removed in 1.2. Please use get_feature_names_out instead.\n",
            "  warnings.warn(msg, category=FutureWarning)\n"
          ]
        }
      ]
    },
    {
      "cell_type": "code",
      "source": [
        "X_vec.toarray()[0].shape"
      ],
      "metadata": {
        "colab": {
          "base_uri": "https://localhost:8080/"
        },
        "id": "yzgOVdKlL9CC",
        "outputId": "41560d32-25e8-4989-a78e-45122bd85fed"
      },
      "execution_count": null,
      "outputs": [
        {
          "output_type": "execute_result",
          "data": {
            "text/plain": [
              "(18190,)"
            ]
          },
          "metadata": {},
          "execution_count": 18
        }
      ]
    },
    {
      "cell_type": "code",
      "source": [
        "embeddings_array=X_vec.toarray().T"
      ],
      "metadata": {
        "id": "QgD6c0HAN2or"
      },
      "execution_count": null,
      "outputs": []
    },
    {
      "cell_type": "code",
      "source": [
        "embeddings_array.shape"
      ],
      "metadata": {
        "colab": {
          "base_uri": "https://localhost:8080/"
        },
        "id": "eCd0W5uON9Z6",
        "outputId": "bea6d83b-3d5d-437f-c2aa-befccea84649"
      },
      "execution_count": null,
      "outputs": [
        {
          "output_type": "execute_result",
          "data": {
            "text/plain": [
              "(18190, 503)"
            ]
          },
          "metadata": {},
          "execution_count": 20
        }
      ]
    },
    {
      "cell_type": "code",
      "source": [
        "pca=PCA(n_components=DIM_EMB)"
      ],
      "metadata": {
        "id": "Vf30JkzvN_T3"
      },
      "execution_count": null,
      "outputs": []
    },
    {
      "cell_type": "code",
      "source": [
        "dense_embeddings=pca.fit_transform(embeddings_array)"
      ],
      "metadata": {
        "id": "5IEo8SuVOKHk"
      },
      "execution_count": null,
      "outputs": []
    },
    {
      "cell_type": "code",
      "source": [
        "dense_embeddings.shape"
      ],
      "metadata": {
        "colab": {
          "base_uri": "https://localhost:8080/"
        },
        "id": "LkQyfpr0ONc-",
        "outputId": "a477e4fe-26ee-47cf-d5ba-b5483a7e1229"
      },
      "execution_count": null,
      "outputs": [
        {
          "output_type": "execute_result",
          "data": {
            "text/plain": [
              "(18190, 300)"
            ]
          },
          "metadata": {},
          "execution_count": 23
        }
      ]
    },
    {
      "cell_type": "code",
      "source": [
        "embeddings_dict={}"
      ],
      "metadata": {
        "id": "1Pto7sBOOQA7"
      },
      "execution_count": null,
      "outputs": []
    },
    {
      "cell_type": "code",
      "source": [
        "for i in range(len(vocab)):\n",
        "  embeddings_dict[vocab[i]]=dense_embeddings[i]"
      ],
      "metadata": {
        "id": "Hmd61jYGOTY-"
      },
      "execution_count": null,
      "outputs": []
    },
    {
      "cell_type": "code",
      "source": [
        "embeddings_dict['flu'].shape"
      ],
      "metadata": {
        "colab": {
          "base_uri": "https://localhost:8080/"
        },
        "id": "yCIcjxOdOrdv",
        "outputId": "48d91a8e-0bb8-43aa-a098-0115f7ec6392"
      },
      "execution_count": null,
      "outputs": [
        {
          "output_type": "execute_result",
          "data": {
            "text/plain": [
              "(300,)"
            ]
          },
          "metadata": {},
          "execution_count": 26
        }
      ]
    },
    {
      "cell_type": "code",
      "source": [
        "pd.DataFrame(embeddings_dict).head()"
      ],
      "metadata": {
        "colab": {
          "base_uri": "https://localhost:8080/",
          "height": 317
        },
        "id": "JdpIItVfOsTu",
        "outputId": "9ec91e36-04ab-41a1-a3bf-05ea7b2f2567"
      },
      "execution_count": null,
      "outputs": [
        {
          "output_type": "execute_result",
          "data": {
            "text/html": [
              "\n",
              "  <div id=\"df-9bf8ebd8-0d1c-4a8a-8c56-44d6727e2eb0\">\n",
              "    <div class=\"colab-df-container\">\n",
              "      <div>\n",
              "<style scoped>\n",
              "    .dataframe tbody tr th:only-of-type {\n",
              "        vertical-align: middle;\n",
              "    }\n",
              "\n",
              "    .dataframe tbody tr th {\n",
              "        vertical-align: top;\n",
              "    }\n",
              "\n",
              "    .dataframe thead th {\n",
              "        text-align: right;\n",
              "    }\n",
              "</style>\n",
              "<table border=\"1\" class=\"dataframe\">\n",
              "  <thead>\n",
              "    <tr style=\"text-align: right;\">\n",
              "      <th></th>\n",
              "      <th>00</th>\n",
              "      <th>000</th>\n",
              "      <th>000m2</th>\n",
              "      <th>000sq</th>\n",
              "      <th>000t</th>\n",
              "      <th>00144feab7de</th>\n",
              "      <th>00144feabdc0</th>\n",
              "      <th>009</th>\n",
              "      <th>00Pay</th>\n",
              "      <th>00Z</th>\n",
              "      <th>00ZLast</th>\n",
              "      <th>01</th>\n",
              "      <th>010</th>\n",
              "      <th>012</th>\n",
              "      <th>019</th>\n",
              "      <th>01T00</th>\n",
              "      <th>02</th>\n",
              "      <th>024</th>\n",
              "      <th>025</th>\n",
              "      <th>026</th>\n",
              "      <th>02908</th>\n",
              "      <th>02h30</th>\n",
              "      <th>03</th>\n",
              "      <th>03Z</th>\n",
              "      <th>04</th>\n",
              "      <th>041</th>\n",
              "      <th>04T11</th>\n",
              "      <th>04m</th>\n",
              "      <th>05</th>\n",
              "      <th>052</th>\n",
              "      <th>059</th>\n",
              "      <th>05T00</th>\n",
              "      <th>05T15</th>\n",
              "      <th>06</th>\n",
              "      <th>060km</th>\n",
              "      <th>062</th>\n",
              "      <th>069</th>\n",
              "      <th>06T00</th>\n",
              "      <th>06T13</th>\n",
              "      <th>06h00</th>\n",
              "      <th>...</th>\n",
              "      <th>zoning</th>\n",
              "      <th>zonă</th>\n",
              "      <th>zoo</th>\n",
              "      <th>zoonosis</th>\n",
              "      <th>zoonotic</th>\n",
              "      <th>zootehniei</th>\n",
              "      <th>Äripäev</th>\n",
              "      <th>Çelik</th>\n",
              "      <th>Élevage</th>\n",
              "      <th>Época</th>\n",
              "      <th>Éstas</th>\n",
              "      <th>În</th>\n",
              "      <th>Înmatriculare</th>\n",
              "      <th>Într</th>\n",
              "      <th>ámbitos</th>\n",
              "      <th>îmbolnăvire</th>\n",
              "      <th>în</th>\n",
              "      <th>înmatriculările</th>\n",
              "      <th>înregistrată</th>\n",
              "      <th>într</th>\n",
              "      <th>între</th>\n",
              "      <th>învecinate</th>\n",
              "      <th>înţepătura</th>\n",
              "      <th>úlceras</th>\n",
              "      <th>Łopaciuk</th>\n",
              "      <th>œCurrently</th>\n",
              "      <th>Şahin</th>\n",
              "      <th>Ştefăneşti</th>\n",
              "      <th>şi</th>\n",
              "      <th>ședintei</th>\n",
              "      <th>și</th>\n",
              "      <th>動植物防疫所</th>\n",
              "      <th>廖培志</th>\n",
              "      <th>張淑賢</th>\n",
              "      <th>畜衛所</th>\n",
              "      <th>萬丹</th>\n",
              "      <th>防檢局</th>\n",
              "      <th>陳保基</th>\n",
              "      <th>陳智雄</th>\n",
              "      <th>﨑県</th>\n",
              "    </tr>\n",
              "  </thead>\n",
              "  <tbody>\n",
              "    <tr>\n",
              "      <th>0</th>\n",
              "      <td>0.060261</td>\n",
              "      <td>0.275573</td>\n",
              "      <td>-0.010310</td>\n",
              "      <td>-0.009168</td>\n",
              "      <td>0.054959</td>\n",
              "      <td>-0.012315</td>\n",
              "      <td>-0.010389</td>\n",
              "      <td>-0.008261</td>\n",
              "      <td>0.003675</td>\n",
              "      <td>0.031976</td>\n",
              "      <td>0.011745</td>\n",
              "      <td>0.007969</td>\n",
              "      <td>-0.011234</td>\n",
              "      <td>-0.005370</td>\n",
              "      <td>-0.011362</td>\n",
              "      <td>-0.006742</td>\n",
              "      <td>0.017702</td>\n",
              "      <td>-0.011149</td>\n",
              "      <td>-0.007328</td>\n",
              "      <td>-0.006368</td>\n",
              "      <td>-0.011297</td>\n",
              "      <td>-0.010634</td>\n",
              "      <td>-0.005242</td>\n",
              "      <td>-0.009585</td>\n",
              "      <td>0.006810</td>\n",
              "      <td>-0.008504</td>\n",
              "      <td>-0.010002</td>\n",
              "      <td>-0.009825</td>\n",
              "      <td>0.009745</td>\n",
              "      <td>-0.010002</td>\n",
              "      <td>-0.012267</td>\n",
              "      <td>-0.010082</td>\n",
              "      <td>-0.011530</td>\n",
              "      <td>0.010171</td>\n",
              "      <td>-0.009876</td>\n",
              "      <td>-0.010578</td>\n",
              "      <td>-0.013110</td>\n",
              "      <td>-0.009825</td>\n",
              "      <td>-0.009825</td>\n",
              "      <td>-0.010634</td>\n",
              "      <td>...</td>\n",
              "      <td>0.006403</td>\n",
              "      <td>-0.013491</td>\n",
              "      <td>0.006396</td>\n",
              "      <td>-0.008727</td>\n",
              "      <td>-0.001777</td>\n",
              "      <td>-0.013438</td>\n",
              "      <td>-0.010291</td>\n",
              "      <td>0.005197</td>\n",
              "      <td>-0.008909</td>\n",
              "      <td>-0.013467</td>\n",
              "      <td>-0.013449</td>\n",
              "      <td>-0.013573</td>\n",
              "      <td>-0.013477</td>\n",
              "      <td>-0.013477</td>\n",
              "      <td>-0.013468</td>\n",
              "      <td>-0.013461</td>\n",
              "      <td>-0.014152</td>\n",
              "      <td>-0.013477</td>\n",
              "      <td>-0.013461</td>\n",
              "      <td>-0.013461</td>\n",
              "      <td>-0.013461</td>\n",
              "      <td>-0.013461</td>\n",
              "      <td>-0.013461</td>\n",
              "      <td>-0.013449</td>\n",
              "      <td>-0.010359</td>\n",
              "      <td>-0.005700</td>\n",
              "      <td>-0.009705</td>\n",
              "      <td>-0.013491</td>\n",
              "      <td>-0.013865</td>\n",
              "      <td>-0.013477</td>\n",
              "      <td>-0.013828</td>\n",
              "      <td>-0.006523</td>\n",
              "      <td>-0.008381</td>\n",
              "      <td>-0.011086</td>\n",
              "      <td>-0.008381</td>\n",
              "      <td>-0.008381</td>\n",
              "      <td>-0.006523</td>\n",
              "      <td>-0.008381</td>\n",
              "      <td>-0.009131</td>\n",
              "      <td>-0.010133</td>\n",
              "    </tr>\n",
              "    <tr>\n",
              "      <th>1</th>\n",
              "      <td>-0.051860</td>\n",
              "      <td>0.078239</td>\n",
              "      <td>-0.000521</td>\n",
              "      <td>-0.002393</td>\n",
              "      <td>-0.093646</td>\n",
              "      <td>-0.000732</td>\n",
              "      <td>-0.003018</td>\n",
              "      <td>0.012301</td>\n",
              "      <td>-0.025097</td>\n",
              "      <td>-0.055789</td>\n",
              "      <td>-0.011573</td>\n",
              "      <td>0.005414</td>\n",
              "      <td>0.001858</td>\n",
              "      <td>0.003658</td>\n",
              "      <td>-0.000634</td>\n",
              "      <td>-0.007606</td>\n",
              "      <td>-0.029528</td>\n",
              "      <td>-0.000504</td>\n",
              "      <td>0.019149</td>\n",
              "      <td>0.005190</td>\n",
              "      <td>0.001547</td>\n",
              "      <td>-0.000222</td>\n",
              "      <td>-0.005022</td>\n",
              "      <td>-0.002228</td>\n",
              "      <td>-0.003464</td>\n",
              "      <td>0.008688</td>\n",
              "      <td>-0.005003</td>\n",
              "      <td>-0.003363</td>\n",
              "      <td>-0.011940</td>\n",
              "      <td>0.004279</td>\n",
              "      <td>0.000243</td>\n",
              "      <td>-0.001098</td>\n",
              "      <td>-0.000569</td>\n",
              "      <td>-0.009234</td>\n",
              "      <td>-0.002577</td>\n",
              "      <td>0.005272</td>\n",
              "      <td>0.000439</td>\n",
              "      <td>-0.003363</td>\n",
              "      <td>-0.003363</td>\n",
              "      <td>-0.000222</td>\n",
              "      <td>...</td>\n",
              "      <td>0.012995</td>\n",
              "      <td>0.000970</td>\n",
              "      <td>0.017496</td>\n",
              "      <td>0.003949</td>\n",
              "      <td>0.001981</td>\n",
              "      <td>0.001195</td>\n",
              "      <td>-0.000725</td>\n",
              "      <td>0.004426</td>\n",
              "      <td>0.001139</td>\n",
              "      <td>0.000808</td>\n",
              "      <td>0.000692</td>\n",
              "      <td>0.001374</td>\n",
              "      <td>0.000804</td>\n",
              "      <td>0.000804</td>\n",
              "      <td>0.000805</td>\n",
              "      <td>0.000773</td>\n",
              "      <td>0.004850</td>\n",
              "      <td>0.000804</td>\n",
              "      <td>0.000773</td>\n",
              "      <td>0.000773</td>\n",
              "      <td>0.000773</td>\n",
              "      <td>0.000773</td>\n",
              "      <td>0.000773</td>\n",
              "      <td>0.000692</td>\n",
              "      <td>-0.005902</td>\n",
              "      <td>-0.006098</td>\n",
              "      <td>0.001346</td>\n",
              "      <td>0.000970</td>\n",
              "      <td>0.003687</td>\n",
              "      <td>0.000804</td>\n",
              "      <td>0.002786</td>\n",
              "      <td>0.005582</td>\n",
              "      <td>0.005720</td>\n",
              "      <td>0.000691</td>\n",
              "      <td>0.005720</td>\n",
              "      <td>0.005720</td>\n",
              "      <td>0.005582</td>\n",
              "      <td>0.005720</td>\n",
              "      <td>0.004093</td>\n",
              "      <td>0.004590</td>\n",
              "    </tr>\n",
              "    <tr>\n",
              "      <th>2</th>\n",
              "      <td>0.047935</td>\n",
              "      <td>-0.003459</td>\n",
              "      <td>0.000486</td>\n",
              "      <td>0.003526</td>\n",
              "      <td>0.060072</td>\n",
              "      <td>-0.000130</td>\n",
              "      <td>-0.000905</td>\n",
              "      <td>0.008125</td>\n",
              "      <td>0.017024</td>\n",
              "      <td>0.043525</td>\n",
              "      <td>0.015446</td>\n",
              "      <td>0.015496</td>\n",
              "      <td>0.002246</td>\n",
              "      <td>-0.008106</td>\n",
              "      <td>-0.001696</td>\n",
              "      <td>0.007201</td>\n",
              "      <td>0.015407</td>\n",
              "      <td>-0.000890</td>\n",
              "      <td>0.017254</td>\n",
              "      <td>0.000520</td>\n",
              "      <td>0.000206</td>\n",
              "      <td>-0.001937</td>\n",
              "      <td>-0.003740</td>\n",
              "      <td>0.003965</td>\n",
              "      <td>0.028757</td>\n",
              "      <td>0.002916</td>\n",
              "      <td>0.002966</td>\n",
              "      <td>0.003302</td>\n",
              "      <td>0.021167</td>\n",
              "      <td>0.001630</td>\n",
              "      <td>-0.000866</td>\n",
              "      <td>0.003735</td>\n",
              "      <td>-0.001157</td>\n",
              "      <td>0.011434</td>\n",
              "      <td>0.002112</td>\n",
              "      <td>0.002512</td>\n",
              "      <td>0.000130</td>\n",
              "      <td>0.003302</td>\n",
              "      <td>0.003302</td>\n",
              "      <td>-0.001937</td>\n",
              "      <td>...</td>\n",
              "      <td>0.000654</td>\n",
              "      <td>0.000436</td>\n",
              "      <td>-0.002029</td>\n",
              "      <td>-0.000044</td>\n",
              "      <td>-0.008234</td>\n",
              "      <td>0.000643</td>\n",
              "      <td>0.001131</td>\n",
              "      <td>-0.011071</td>\n",
              "      <td>-0.002665</td>\n",
              "      <td>0.000468</td>\n",
              "      <td>0.000389</td>\n",
              "      <td>0.000804</td>\n",
              "      <td>0.000511</td>\n",
              "      <td>0.000511</td>\n",
              "      <td>0.000452</td>\n",
              "      <td>0.000373</td>\n",
              "      <td>0.002509</td>\n",
              "      <td>0.000511</td>\n",
              "      <td>0.000373</td>\n",
              "      <td>0.000373</td>\n",
              "      <td>0.000373</td>\n",
              "      <td>0.000373</td>\n",
              "      <td>0.000373</td>\n",
              "      <td>0.000389</td>\n",
              "      <td>0.008303</td>\n",
              "      <td>-0.009484</td>\n",
              "      <td>-0.001966</td>\n",
              "      <td>0.000436</td>\n",
              "      <td>0.001693</td>\n",
              "      <td>0.000511</td>\n",
              "      <td>0.001733</td>\n",
              "      <td>-0.002077</td>\n",
              "      <td>0.000673</td>\n",
              "      <td>-0.002748</td>\n",
              "      <td>0.000673</td>\n",
              "      <td>0.000673</td>\n",
              "      <td>-0.002077</td>\n",
              "      <td>0.000673</td>\n",
              "      <td>0.002508</td>\n",
              "      <td>0.001865</td>\n",
              "    </tr>\n",
              "    <tr>\n",
              "      <th>3</th>\n",
              "      <td>-0.029121</td>\n",
              "      <td>-0.038992</td>\n",
              "      <td>0.002113</td>\n",
              "      <td>-0.005779</td>\n",
              "      <td>0.020031</td>\n",
              "      <td>0.005203</td>\n",
              "      <td>0.015924</td>\n",
              "      <td>-0.004582</td>\n",
              "      <td>0.004695</td>\n",
              "      <td>-0.025026</td>\n",
              "      <td>-0.005677</td>\n",
              "      <td>0.001418</td>\n",
              "      <td>0.002752</td>\n",
              "      <td>-0.012742</td>\n",
              "      <td>0.000022</td>\n",
              "      <td>-0.006627</td>\n",
              "      <td>-0.014235</td>\n",
              "      <td>0.000210</td>\n",
              "      <td>0.010723</td>\n",
              "      <td>0.002771</td>\n",
              "      <td>0.001751</td>\n",
              "      <td>-0.000495</td>\n",
              "      <td>0.003436</td>\n",
              "      <td>-0.005277</td>\n",
              "      <td>0.007171</td>\n",
              "      <td>-0.007070</td>\n",
              "      <td>-0.000964</td>\n",
              "      <td>-0.003148</td>\n",
              "      <td>-0.024825</td>\n",
              "      <td>0.001452</td>\n",
              "      <td>-0.000773</td>\n",
              "      <td>-0.005763</td>\n",
              "      <td>0.000763</td>\n",
              "      <td>-0.015865</td>\n",
              "      <td>-0.003199</td>\n",
              "      <td>-0.001082</td>\n",
              "      <td>-0.000701</td>\n",
              "      <td>-0.003148</td>\n",
              "      <td>-0.003148</td>\n",
              "      <td>-0.000495</td>\n",
              "      <td>...</td>\n",
              "      <td>-0.035192</td>\n",
              "      <td>-0.001923</td>\n",
              "      <td>0.009456</td>\n",
              "      <td>0.000905</td>\n",
              "      <td>0.003413</td>\n",
              "      <td>-0.002359</td>\n",
              "      <td>-0.001559</td>\n",
              "      <td>-0.013491</td>\n",
              "      <td>-0.005920</td>\n",
              "      <td>-0.001379</td>\n",
              "      <td>-0.001123</td>\n",
              "      <td>-0.003103</td>\n",
              "      <td>-0.001530</td>\n",
              "      <td>-0.001530</td>\n",
              "      <td>-0.001423</td>\n",
              "      <td>-0.001394</td>\n",
              "      <td>-0.012662</td>\n",
              "      <td>-0.001530</td>\n",
              "      <td>-0.001394</td>\n",
              "      <td>-0.001394</td>\n",
              "      <td>-0.001394</td>\n",
              "      <td>-0.001394</td>\n",
              "      <td>-0.001394</td>\n",
              "      <td>-0.001123</td>\n",
              "      <td>-0.003240</td>\n",
              "      <td>0.002635</td>\n",
              "      <td>-0.003391</td>\n",
              "      <td>-0.001923</td>\n",
              "      <td>-0.008638</td>\n",
              "      <td>-0.001530</td>\n",
              "      <td>-0.007082</td>\n",
              "      <td>-0.001264</td>\n",
              "      <td>-0.000699</td>\n",
              "      <td>-0.001489</td>\n",
              "      <td>-0.000699</td>\n",
              "      <td>-0.000699</td>\n",
              "      <td>-0.001264</td>\n",
              "      <td>-0.000699</td>\n",
              "      <td>0.001619</td>\n",
              "      <td>0.001412</td>\n",
              "    </tr>\n",
              "    <tr>\n",
              "      <th>4</th>\n",
              "      <td>0.002923</td>\n",
              "      <td>0.054412</td>\n",
              "      <td>-0.000261</td>\n",
              "      <td>0.000395</td>\n",
              "      <td>0.008736</td>\n",
              "      <td>-0.005087</td>\n",
              "      <td>-0.015271</td>\n",
              "      <td>-0.003725</td>\n",
              "      <td>-0.018633</td>\n",
              "      <td>-0.002623</td>\n",
              "      <td>-0.000188</td>\n",
              "      <td>0.002791</td>\n",
              "      <td>0.000863</td>\n",
              "      <td>0.005885</td>\n",
              "      <td>-0.000780</td>\n",
              "      <td>-0.000951</td>\n",
              "      <td>-0.010049</td>\n",
              "      <td>-0.000532</td>\n",
              "      <td>-0.001500</td>\n",
              "      <td>0.000068</td>\n",
              "      <td>-0.000422</td>\n",
              "      <td>-0.001733</td>\n",
              "      <td>0.000878</td>\n",
              "      <td>-0.001388</td>\n",
              "      <td>0.001333</td>\n",
              "      <td>-0.004766</td>\n",
              "      <td>0.000399</td>\n",
              "      <td>0.000247</td>\n",
              "      <td>-0.001090</td>\n",
              "      <td>0.002051</td>\n",
              "      <td>-0.000591</td>\n",
              "      <td>0.000209</td>\n",
              "      <td>-0.000170</td>\n",
              "      <td>0.003868</td>\n",
              "      <td>-0.001606</td>\n",
              "      <td>0.001399</td>\n",
              "      <td>0.000381</td>\n",
              "      <td>0.000247</td>\n",
              "      <td>0.000247</td>\n",
              "      <td>-0.001733</td>\n",
              "      <td>...</td>\n",
              "      <td>0.016186</td>\n",
              "      <td>0.001004</td>\n",
              "      <td>0.016969</td>\n",
              "      <td>0.000005</td>\n",
              "      <td>-0.007114</td>\n",
              "      <td>0.000805</td>\n",
              "      <td>-0.000078</td>\n",
              "      <td>-0.003695</td>\n",
              "      <td>-0.000056</td>\n",
              "      <td>0.000747</td>\n",
              "      <td>0.000700</td>\n",
              "      <td>0.001150</td>\n",
              "      <td>0.000742</td>\n",
              "      <td>0.000742</td>\n",
              "      <td>0.000725</td>\n",
              "      <td>0.000829</td>\n",
              "      <td>0.003710</td>\n",
              "      <td>0.000742</td>\n",
              "      <td>0.000829</td>\n",
              "      <td>0.000829</td>\n",
              "      <td>0.000829</td>\n",
              "      <td>0.000829</td>\n",
              "      <td>0.000829</td>\n",
              "      <td>0.000700</td>\n",
              "      <td>0.005479</td>\n",
              "      <td>-0.003721</td>\n",
              "      <td>-0.000217</td>\n",
              "      <td>0.001004</td>\n",
              "      <td>0.002474</td>\n",
              "      <td>0.000742</td>\n",
              "      <td>0.001980</td>\n",
              "      <td>0.001493</td>\n",
              "      <td>0.002713</td>\n",
              "      <td>-0.000603</td>\n",
              "      <td>0.002713</td>\n",
              "      <td>0.002713</td>\n",
              "      <td>0.001493</td>\n",
              "      <td>0.002713</td>\n",
              "      <td>0.001556</td>\n",
              "      <td>0.002375</td>\n",
              "    </tr>\n",
              "  </tbody>\n",
              "</table>\n",
              "<p>5 rows × 18190 columns</p>\n",
              "</div>\n",
              "      <button class=\"colab-df-convert\" onclick=\"convertToInteractive('df-9bf8ebd8-0d1c-4a8a-8c56-44d6727e2eb0')\"\n",
              "              title=\"Convert this dataframe to an interactive table.\"\n",
              "              style=\"display:none;\">\n",
              "        \n",
              "  <svg xmlns=\"http://www.w3.org/2000/svg\" height=\"24px\"viewBox=\"0 0 24 24\"\n",
              "       width=\"24px\">\n",
              "    <path d=\"M0 0h24v24H0V0z\" fill=\"none\"/>\n",
              "    <path d=\"M18.56 5.44l.94 2.06.94-2.06 2.06-.94-2.06-.94-.94-2.06-.94 2.06-2.06.94zm-11 1L8.5 8.5l.94-2.06 2.06-.94-2.06-.94L8.5 2.5l-.94 2.06-2.06.94zm10 10l.94 2.06.94-2.06 2.06-.94-2.06-.94-.94-2.06-.94 2.06-2.06.94z\"/><path d=\"M17.41 7.96l-1.37-1.37c-.4-.4-.92-.59-1.43-.59-.52 0-1.04.2-1.43.59L10.3 9.45l-7.72 7.72c-.78.78-.78 2.05 0 2.83L4 21.41c.39.39.9.59 1.41.59.51 0 1.02-.2 1.41-.59l7.78-7.78 2.81-2.81c.8-.78.8-2.07 0-2.86zM5.41 20L4 18.59l7.72-7.72 1.47 1.35L5.41 20z\"/>\n",
              "  </svg>\n",
              "      </button>\n",
              "      \n",
              "  <style>\n",
              "    .colab-df-container {\n",
              "      display:flex;\n",
              "      flex-wrap:wrap;\n",
              "      gap: 12px;\n",
              "    }\n",
              "\n",
              "    .colab-df-convert {\n",
              "      background-color: #E8F0FE;\n",
              "      border: none;\n",
              "      border-radius: 50%;\n",
              "      cursor: pointer;\n",
              "      display: none;\n",
              "      fill: #1967D2;\n",
              "      height: 32px;\n",
              "      padding: 0 0 0 0;\n",
              "      width: 32px;\n",
              "    }\n",
              "\n",
              "    .colab-df-convert:hover {\n",
              "      background-color: #E2EBFA;\n",
              "      box-shadow: 0px 1px 2px rgba(60, 64, 67, 0.3), 0px 1px 3px 1px rgba(60, 64, 67, 0.15);\n",
              "      fill: #174EA6;\n",
              "    }\n",
              "\n",
              "    [theme=dark] .colab-df-convert {\n",
              "      background-color: #3B4455;\n",
              "      fill: #D2E3FC;\n",
              "    }\n",
              "\n",
              "    [theme=dark] .colab-df-convert:hover {\n",
              "      background-color: #434B5C;\n",
              "      box-shadow: 0px 1px 3px 1px rgba(0, 0, 0, 0.15);\n",
              "      filter: drop-shadow(0px 1px 2px rgba(0, 0, 0, 0.3));\n",
              "      fill: #FFFFFF;\n",
              "    }\n",
              "  </style>\n",
              "\n",
              "      <script>\n",
              "        const buttonEl =\n",
              "          document.querySelector('#df-9bf8ebd8-0d1c-4a8a-8c56-44d6727e2eb0 button.colab-df-convert');\n",
              "        buttonEl.style.display =\n",
              "          google.colab.kernel.accessAllowed ? 'block' : 'none';\n",
              "\n",
              "        async function convertToInteractive(key) {\n",
              "          const element = document.querySelector('#df-9bf8ebd8-0d1c-4a8a-8c56-44d6727e2eb0');\n",
              "          const dataTable =\n",
              "            await google.colab.kernel.invokeFunction('convertToInteractive',\n",
              "                                                     [key], {});\n",
              "          if (!dataTable) return;\n",
              "\n",
              "          const docLinkHtml = 'Like what you see? Visit the ' +\n",
              "            '<a target=\"_blank\" href=https://colab.research.google.com/notebooks/data_table.ipynb>data table notebook</a>'\n",
              "            + ' to learn more about interactive tables.';\n",
              "          element.innerHTML = '';\n",
              "          dataTable['output_type'] = 'display_data';\n",
              "          await google.colab.output.renderOutput(dataTable, element);\n",
              "          const docLink = document.createElement('div');\n",
              "          docLink.innerHTML = docLinkHtml;\n",
              "          element.appendChild(docLink);\n",
              "        }\n",
              "      </script>\n",
              "    </div>\n",
              "  </div>\n",
              "  "
            ],
            "text/plain": [
              "         00       000     000m2  ...       陳保基       陳智雄        﨑県\n",
              "0  0.060261  0.275573 -0.010310  ... -0.008381 -0.009131 -0.010133\n",
              "1 -0.051860  0.078239 -0.000521  ...  0.005720  0.004093  0.004590\n",
              "2  0.047935 -0.003459  0.000486  ...  0.000673  0.002508  0.001865\n",
              "3 -0.029121 -0.038992  0.002113  ... -0.000699  0.001619  0.001412\n",
              "4  0.002923  0.054412 -0.000261  ...  0.002713  0.001556  0.002375\n",
              "\n",
              "[5 rows x 18190 columns]"
            ]
          },
          "metadata": {},
          "execution_count": 27
        }
      ]
    },
    {
      "cell_type": "code",
      "source": [
        "vocab[10000]"
      ],
      "metadata": {
        "colab": {
          "base_uri": "https://localhost:8080/",
          "height": 36
        },
        "id": "j-Phezt_OwxE",
        "outputId": "d17ac794-6642-445d-eea0-d58a1f8e7aba"
      },
      "execution_count": null,
      "outputs": [
        {
          "output_type": "execute_result",
          "data": {
            "application/vnd.google.colaboratory.intrinsic+json": {
              "type": "string"
            },
            "text/plain": [
              "'displeasure'"
            ]
          },
          "metadata": {},
          "execution_count": 28
        }
      ]
    },
    {
      "cell_type": "code",
      "source": [
        "def document_vectorizer(document):\n",
        "  embed_list=[]\n",
        "  #print('LEN ',len(document[0]))\n",
        "  for i in range(0,len(document[0])):\n",
        "    word_index=document[0][i]\n",
        "    word=tokenizer.sequences_to_texts([[word_index]])[0]\n",
        "    #print(word,'\\n')\n",
        "    if word in embeddings_dict:\n",
        "      #print(word,'\\n')\n",
        "      embed_list.append(embeddings_dict[word])\n",
        "    else:\n",
        "      #print('Haiko ',word,'\\n')\n",
        "      embed_list.append(np.zeros((DIM_EMB,)))\n",
        "  return np.array(embed_list).flatten()"
      ],
      "metadata": {
        "id": "O1P867JFPWDy"
      },
      "execution_count": null,
      "outputs": []
    },
    {
      "cell_type": "code",
      "source": [
        "embed=[]\n",
        "for document in X:\n",
        "  #print(document)\n",
        "  sequences = tokenizer.texts_to_sequences([document])\n",
        "  seq_document = pad_sequences(sequences, maxlen= SEQ_LEN, padding='post') \n",
        "  #print(seq_document)\n",
        "  embed.append(document_vectorizer(seq_document))"
      ],
      "metadata": {
        "id": "ViYWpbJnRGNV"
      },
      "execution_count": null,
      "outputs": []
    },
    {
      "cell_type": "code",
      "source": [
        "len(embed)"
      ],
      "metadata": {
        "colab": {
          "base_uri": "https://localhost:8080/"
        },
        "id": "qrxZdYR4R_Aj",
        "outputId": "94bbac80-5d91-491f-d723-684e17f220b5"
      },
      "execution_count": null,
      "outputs": [
        {
          "output_type": "execute_result",
          "data": {
            "text/plain": [
              "503"
            ]
          },
          "metadata": {},
          "execution_count": 31
        }
      ]
    },
    {
      "cell_type": "code",
      "source": [
        "X_train,X_val,y_train,y_val=train_test_split(embed,y,test_size=0.2)\n",
        "\n",
        "X_train,X_test,y_train,y_test=train_test_split(X_train,y_train,test_size=0.2)"
      ],
      "metadata": {
        "id": "t92xf4irR_v3"
      },
      "execution_count": null,
      "outputs": []
    },
    {
      "cell_type": "code",
      "execution_count": null,
      "metadata": {
        "id": "Dv87zojWOLwD"
      },
      "outputs": [],
      "source": [
        "cls_2=svm.SVC(kernel='rbf')"
      ]
    },
    {
      "cell_type": "code",
      "execution_count": null,
      "metadata": {
        "id": "huGt6lVDRCKY",
        "colab": {
          "base_uri": "https://localhost:8080/"
        },
        "outputId": "881c755d-7032-4281-8504-37cdab77448a"
      },
      "outputs": [
        {
          "output_type": "execute_result",
          "data": {
            "text/plain": [
              "SVC()"
            ]
          },
          "metadata": {},
          "execution_count": 34
        }
      ],
      "source": [
        "cls_2.fit(X_train,y_train)"
      ]
    },
    {
      "cell_type": "code",
      "source": [
        "result = {}\n",
        "for i in range(2,11):\n",
        "  kfold = KFold(n_splits=i)\n",
        "  c_validated = cross_val_score(cls_2,X_train,y_train,cv=kfold,scoring='f1') \n",
        "  result[i] = c_validated.mean()\n",
        "print(result)"
      ],
      "metadata": {
        "id": "Ey-I0Fm1zftw",
        "colab": {
          "base_uri": "https://localhost:8080/"
        },
        "outputId": "cd8c222f-7ba2-4c8e-a5cd-408ba43e2b62"
      },
      "execution_count": null,
      "outputs": [
        {
          "output_type": "stream",
          "name": "stdout",
          "text": [
            "{2: 0.16761363636363635, 3: 0.23740510697032435, 4: 0.23778068396142488, 5: 0.2251672977457182, 6: 0.25531671989337895, 7: 0.2651920035748853, 8: 0.25693994902586237, 9: 0.2438123595244338, 10: 0.2220859695859696}\n"
          ]
        }
      ]
    },
    {
      "cell_type": "code",
      "source": [
        "list(result.values())"
      ],
      "metadata": {
        "colab": {
          "base_uri": "https://localhost:8080/"
        },
        "id": "zYT0M_npXxr4",
        "outputId": "dc73849e-c760-4df6-e997-cac6c388e0d3"
      },
      "execution_count": null,
      "outputs": [
        {
          "output_type": "execute_result",
          "data": {
            "text/plain": [
              "[0.16761363636363635,\n",
              " 0.23740510697032435,\n",
              " 0.23778068396142488,\n",
              " 0.2251672977457182,\n",
              " 0.25531671989337895,\n",
              " 0.2651920035748853,\n",
              " 0.25693994902586237,\n",
              " 0.2438123595244338,\n",
              " 0.2220859695859696]"
            ]
          },
          "metadata": {},
          "execution_count": 37
        }
      ]
    },
    {
      "cell_type": "code",
      "execution_count": null,
      "metadata": {
        "id": "saurC8CLRM0o"
      },
      "outputs": [],
      "source": [
        "prediction=cls_2.predict(X_test)"
      ]
    },
    {
      "cell_type": "code",
      "execution_count": null,
      "metadata": {
        "id": "suJLWDWDRVIe"
      },
      "outputs": [],
      "source": [
        "print(accuracy_score(y_test,prediction))"
      ]
    },
    {
      "cell_type": "code",
      "execution_count": null,
      "metadata": {
        "id": "QeJf-1X9RZre"
      },
      "outputs": [],
      "source": [
        "precision_score(y_test,prediction,pos_label=1)"
      ]
    },
    {
      "cell_type": "code",
      "execution_count": null,
      "metadata": {
        "id": "YkHp9E8xRix8"
      },
      "outputs": [],
      "source": [
        "recall_score(y_test,prediction,pos_label=1)"
      ]
    },
    {
      "cell_type": "code",
      "execution_count": null,
      "metadata": {
        "id": "TbXfrsGdRmaE"
      },
      "outputs": [],
      "source": [
        "f1_score(y_test,prediction,pos_label=1)"
      ]
    }
  ],
  "metadata": {
    "accelerator": "GPU",
    "colab": {
      "collapsed_sections": [],
      "name": "Doc_SpacioTemp_TFIDF.ipynb",
      "provenance": []
    },
    "kernelspec": {
      "display_name": "Python 3",
      "name": "python3"
    },
    "language_info": {
      "name": "python"
    }
  },
  "nbformat": 4,
  "nbformat_minor": 0
}